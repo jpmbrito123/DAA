{
 "cells": [
  {
   "cell_type": "code",
   "execution_count": 5,
   "metadata": {},
   "outputs": [],
   "source": [
    "import pandas as pd\n",
    "\n",
    "def parse_train(caminho):\n",
    "    TRAINING_DATASET_SOURCE_1 = caminho + 'datasets/energia_202109-202112.csv'\n",
    "    TRAINING_DATASET_SOURCE_2 = caminho + 'datasets/meteo_202109-202112.csv'\n",
    "\n",
    "    TRAINING_DATASET_SOURCE_3 = caminho + 'datasets/energia_202201-202212.csv'\n",
    "    TRAINING_DATASET_SOURCE_4 = caminho + 'datasets/meteo_202201-202212.csv'\n",
    "\n",
    "    train_1 = pd.read_csv(TRAINING_DATASET_SOURCE_1, encoding='utf-8',na_filter=False)\n",
    "    train_2 = pd.read_csv(TRAINING_DATASET_SOURCE_2, encoding='utf-8',na_filter=False)\n",
    "\n",
    "    train_2['dt_iso'] = pd.to_datetime(train_2['dt_iso'].str[:-10])\n",
    "    train_2['Data'] = train_2['dt_iso'].dt.strftime('%Y-%m-%d')\n",
    "    train_2['Hora'] = train_2['dt_iso'].dt.strftime('%H').astype(int)\n",
    "    train_2 = train_2.drop(columns=['dt_iso'])\n",
    "\n",
    "    train_df = pd.merge(train_1, train_2, on=['Data', 'Hora'], how='inner')\n",
    "\n",
    "    train_1 = pd.read_csv(TRAINING_DATASET_SOURCE_3, encoding='utf-8',na_filter=False)\n",
    "    train_2 = pd.read_csv(TRAINING_DATASET_SOURCE_4, encoding='utf-8',na_filter=False)\n",
    "\n",
    "    train_2['dt_iso'] = pd.to_datetime(train_2['dt_iso'].str[:-10])\n",
    "    train_2['Data'] = train_2['dt_iso'].dt.strftime('%Y-%m-%d')\n",
    "    train_2['Hora'] = train_2['dt_iso'].dt.strftime('%H').astype(int)\n",
    "    train_2 = train_2.drop(columns=['dt_iso'])\n",
    "\n",
    "    train_df_1 = pd.merge(train_1, train_2, on=['Data', 'Hora'], how='inner')\n",
    "\n",
    "    train_df.update(train_df_1)\n",
    "\n",
    "    return train_df\n",
    "\n",
    "def parse_test(caminho):\n",
    "    TEST_DATASET_SOURCE_1 = caminho + 'datasets/energia_202301-202304.csv'\n",
    "    TEST_DATASET_SOURCE_2 = caminho + 'datasets/meteo_202301-202304.csv'\n",
    "\n",
    "    test_1 = pd.read_csv(TEST_DATASET_SOURCE_1, encoding='utf-8',na_filter=False)\n",
    "    test_2 = pd.read_csv(TEST_DATASET_SOURCE_2, encoding='utf-8',na_filter=False)\n",
    "\n",
    "    test_2['dt_iso'] = pd.to_datetime(test_2['dt_iso'].str[:-10])\n",
    "    test_2['Data'] = test_2['dt_iso'].dt.strftime('%Y-%m-%d')\n",
    "    test_2['Hora'] = test_2['dt_iso'].dt.strftime('%H').astype(int)\n",
    "    test_2 = test_2.drop(columns=['dt_iso'])\n",
    "\n",
    "    test_df = pd.merge(test_1, test_2, on=['Data', 'Hora'], how='inner')\n",
    "\n",
    "    return test_df\n",
    "\n"
   ]
  }
 ],
 "metadata": {
  "kernelspec": {
   "display_name": "envNAME",
   "language": "python",
   "name": "python3"
  },
  "language_info": {
   "codemirror_mode": {
    "name": "ipython",
    "version": 3
   },
   "file_extension": ".py",
   "mimetype": "text/x-python",
   "name": "python",
   "nbconvert_exporter": "python",
   "pygments_lexer": "ipython3",
   "version": "3.10.0"
  }
 },
 "nbformat": 4,
 "nbformat_minor": 2
}
