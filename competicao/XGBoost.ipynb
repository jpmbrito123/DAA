{
 "cells": [
  {
   "cell_type": "code",
   "execution_count": 1,
   "metadata": {},
   "outputs": [],
   "source": [
    "import numpy as np # linear algebra\n",
    "import pandas as pd # data processing, CSV file I/O (e.g. pd.read_csv)\n",
    "import sklearn as skl\n",
    "import matplotlib.pyplot as plt\n",
    "import seaborn as sns\n",
    "\n",
    "from pandas import DataFrame\n",
    "from sklearn import preprocessing\n",
    "from sklearn.tree import DecisionTreeClassifier\n",
    "from sklearn.metrics import confusion_matrix,accuracy_score,precision_score,recall_score\n",
    "from sklearn.utils import resample\n",
    "from sklearn.ensemble import RandomForestClassifier\n",
    "from sklearn.metrics import classification_report,f1_score\n",
    "from sklearn.model_selection import GridSearchCV, KFold,cross_val_score, RandomizedSearchCV,train_test_split\n",
    "from sklearn import metrics\n",
    "from xgboost import XGBClassifier\n",
    "import xgboost as xgb\n",
    "from scipy.stats import uniform, randint\n",
    "from sklearn.metrics import ConfusionMatrixDisplay\n",
    "\n",
    "SEED = 2023"
   ]
  },
  {
   "cell_type": "code",
   "execution_count": 2,
   "metadata": {},
   "outputs": [
    {
     "name": "stdout",
     "output_type": "stream",
     "text": [
      "11016\n",
      "2256\n"
     ]
    }
   ],
   "source": [
    "%run \"datasets/parse.ipynb\"\n",
    "train_df = parse_train(\"\")\n",
    "test_df = parse_test(\"\")\n",
    "print(len(train_df))\n",
    "print(len(test_df))"
   ]
  },
  {
   "cell_type": "code",
   "execution_count": 3,
   "metadata": {},
   "outputs": [],
   "source": [
    "categorical_to_numerical = {\n",
    "    'Injecao na rede (kWh)': {\n",
    "        'None': 0,\n",
    "        'Low': 1,\n",
    "        'Medium': 2,\n",
    "        'High':3,\n",
    "        'Very High':4\n",
    "    },\n",
    "    'weather_description': {\n",
    "        'overcast clouds': 0,\n",
    "        'scattered clouds': 1,\n",
    "        'few clouds': 2,\n",
    "        'sky is clear': 3,\n",
    "        'broken clouds': 4,\n",
    "        'light rain': 5,\n",
    "        'moderate rain': 6,\n",
    "        'heavy intensity rain':7\n",
    "    }\n",
    "}\n",
    "\n",
    "numeric_columns = ['Hora', 'Normal (kWh)', 'Horario Economico (kWh)', 'Autoconsumo (kWh)', 'temp','feels_like','temp_min','temp_max','pressure','humidity', 'wind_speed','clouds_all','rain_1h']\n"
   ]
  },
  {
   "cell_type": "code",
   "execution_count": 4,
   "metadata": {},
   "outputs": [],
   "source": [
    "def xgboost_data_preparation(df: DataFrame,test_or_train) -> DataFrame:\n",
    "\n",
    "    prep_df= df\n",
    "    prep_df['rain_1h'] = prep_df['rain_1h'].replace('', '0')\n",
    "    prep_df['rain_1h'] = pd.to_numeric(prep_df['rain_1h'])\n",
    "            \n",
    "    ### Converter as features categoricas em numericas\n",
    "    prep_df.replace(categorical_to_numerical, inplace=True)\n",
    "\n",
    "    ### Extrair a hora e dia da semana da feature 'record_date'\n",
    "    record_date = pd.DatetimeIndex(prep_df['Data'])\n",
    "\n",
    "    prep_df['Month'] = record_date.month\n",
    "    prep_df['Day'] = record_date.day\n",
    "    prep_df['Year'] = record_date.year\n",
    "\n",
    "    dropped_columns = ['grnd_level','sea_level','dt','Data','city_name']\n",
    "    prep_df = prep_df.drop(dropped_columns, axis=1)\n",
    "\n",
    "    prep_df.loc[(prep_df['Hora'] < 6) & (prep_df['Hora'] > 21), 'Injecao na rede (kWh)'] = 0\n",
    "\n",
    "    \n",
    "\n",
    "   \n",
    "    ### Limites superior e inferior (sem outliers) dos diagramas de caixa\n",
    "    whiskers = []\n",
    "    for num in numeric_columns:\n",
    "        Q1 = prep_df[num].quantile(0.25)\n",
    "        Q3 = prep_df[num].quantile(0.75)\n",
    "        IQR = Q3 - Q1\n",
    "\n",
    "        lower = Q1 - 1.5 * IQR\n",
    "        upper = Q3 + 1.5 * IQR\n",
    "        whiskers.append((num,lower,upper))\n",
    "\n",
    "    ### Tratar os outliers das features numéricas:\n",
    "    if(test_or_train == \"tran\"):\n",
    "        for num, lower, upper in whiskers:\n",
    "            prep_df = prep_df[(prep_df[num] >= lower) & (prep_df[num] <= upper)]\n",
    "\n",
    "    return prep_df"
   ]
  },
  {
   "cell_type": "code",
   "execution_count": 5,
   "metadata": {},
   "outputs": [],
   "source": [
    "prep_df = xgboost_data_preparation(train_df,\"train\")\n",
    "\n",
    "X = prep_df\n",
    "# Separate the target variable from the input features\n",
    "y = X['Injecao na rede (kWh)']\n",
    "X.drop(columns=['Injecao na rede (kWh)'], inplace=True)\n",
    "\n",
    "# Split the data into training and test sets\n",
    "X_train, X_test, y_train, y_test = train_test_split(X, y, test_size=0.2, random_state=SEED)"
   ]
  },
  {
   "cell_type": "code",
   "execution_count": 6,
   "metadata": {},
   "outputs": [
    {
     "name": "stdout",
     "output_type": "stream",
     "text": [
      "Fitting 3 folds for each of 10 candidates, totalling 30 fits\n"
     ]
    },
    {
     "name": "stdout",
     "output_type": "stream",
     "text": [
      "[CV] END colsample_bytree=0.8123620356542087, gamma=0.4753571532049581, learning_rate=0.31959818254342154, max_depth=2, n_estimators=120, subsample=0.6624074561769746; total time=   0.9s\n",
      "[CV] END colsample_bytree=0.8123620356542087, gamma=0.4753571532049581, learning_rate=0.31959818254342154, max_depth=2, n_estimators=120, subsample=0.6624074561769746; total time=   0.9s\n",
      "[CV] END colsample_bytree=0.8123620356542087, gamma=0.4753571532049581, learning_rate=0.31959818254342154, max_depth=2, n_estimators=120, subsample=0.6624074561769746; total time=   0.9s\n",
      "[CV] END colsample_bytree=0.7467983561008608, gamma=0.02904180608409973, learning_rate=0.3598528437324805, max_depth=5, n_estimators=971, subsample=0.8832290311184181; total time=  12.0s\n",
      "[CV] END colsample_bytree=0.7467983561008608, gamma=0.02904180608409973, learning_rate=0.3598528437324805, max_depth=5, n_estimators=971, subsample=0.8832290311184181; total time=  12.2s\n",
      "[CV] END colsample_bytree=0.7467983561008608, gamma=0.02904180608409973, learning_rate=0.3598528437324805, max_depth=5, n_estimators=971, subsample=0.8832290311184181; total time=  12.8s\n",
      "[CV] END colsample_bytree=0.7061753482887407, gamma=0.48495492608099716, learning_rate=0.34973279224012654, max_depth=3, n_estimators=485, subsample=0.6727299868828402; total time=   5.4s\n",
      "[CV] END colsample_bytree=0.7061753482887407, gamma=0.48495492608099716, learning_rate=0.34973279224012654, max_depth=3, n_estimators=485, subsample=0.6727299868828402; total time=   5.7s\n",
      "[CV] END colsample_bytree=0.7061753482887407, gamma=0.48495492608099716, learning_rate=0.34973279224012654, max_depth=3, n_estimators=485, subsample=0.6727299868828402; total time=   5.0s\n",
      "[CV] END colsample_bytree=0.7550213529560301, gamma=0.15212112147976886, learning_rate=0.2574269294896714, max_depth=5, n_estimators=956, subsample=0.7164916560792167; total time=  13.8s\n",
      "[CV] END colsample_bytree=0.7550213529560301, gamma=0.15212112147976886, learning_rate=0.2574269294896714, max_depth=5, n_estimators=956, subsample=0.7164916560792167; total time=  13.6s\n",
      "[CV] END colsample_bytree=0.7550213529560301, gamma=0.15212112147976886, learning_rate=0.2574269294896714, max_depth=5, n_estimators=956, subsample=0.7164916560792167; total time=  13.4s\n",
      "[CV] END colsample_bytree=0.8835558684167137, gamma=0.06974693032602092, learning_rate=0.18764339456056545, max_depth=5, n_estimators=882, subsample=0.7824279936868144; total time=  12.5s\n",
      "[CV] END colsample_bytree=0.8835558684167137, gamma=0.06974693032602092, learning_rate=0.18764339456056545, max_depth=5, n_estimators=882, subsample=0.7824279936868144; total time=  12.5s\n",
      "[CV] END colsample_bytree=0.8835558684167137, gamma=0.06974693032602092, learning_rate=0.18764339456056545, max_depth=5, n_estimators=882, subsample=0.7824279936868144; total time=  12.6s\n",
      "[CV] END colsample_bytree=0.935552788417904, gamma=0.09983689107917987, learning_rate=0.2542703315240835, max_depth=5, n_estimators=604, subsample=0.6185801650879991; total time=   8.5s\n",
      "[CV] END colsample_bytree=0.935552788417904, gamma=0.09983689107917987, learning_rate=0.2542703315240835, max_depth=5, n_estimators=604, subsample=0.6185801650879991; total time=   8.5s\n",
      "[CV] END colsample_bytree=0.935552788417904, gamma=0.09983689107917987, learning_rate=0.2542703315240835, max_depth=5, n_estimators=604, subsample=0.6185801650879991; total time=   8.5s\n",
      "[CV] END colsample_bytree=0.8822634555704314, gamma=0.08526206184364576, learning_rate=0.11951547789558387, max_depth=5, n_estimators=700, subsample=0.9862528132298237; total time=  10.4s\n",
      "[CV] END colsample_bytree=0.8822634555704314, gamma=0.08526206184364576, learning_rate=0.11951547789558387, max_depth=5, n_estimators=700, subsample=0.9862528132298237; total time=  10.6s\n",
      "[CV] END colsample_bytree=0.8822634555704314, gamma=0.08526206184364576, learning_rate=0.11951547789558387, max_depth=5, n_estimators=700, subsample=0.9862528132298237; total time=  10.5s\n",
      "[CV] END colsample_bytree=0.9425192044349383, gamma=0.15230688458668534, learning_rate=0.12930163420191515, max_depth=5, n_estimators=191, subsample=0.7760609974958406; total time=   3.0s\n",
      "[CV] END colsample_bytree=0.9425192044349383, gamma=0.15230688458668534, learning_rate=0.12930163420191515, max_depth=5, n_estimators=191, subsample=0.7760609974958406; total time=   3.0s\n",
      "[CV] END colsample_bytree=0.9425192044349383, gamma=0.15230688458668534, learning_rate=0.12930163420191515, max_depth=5, n_estimators=191, subsample=0.7760609974958406; total time=   2.9s\n",
      "[CV] END colsample_bytree=0.7366114704534336, gamma=0.2475884550556351, learning_rate=0.11031655633456552, max_depth=3, n_estimators=180, subsample=0.7035119926400067; total time=   1.9s\n",
      "[CV] END colsample_bytree=0.7366114704534336, gamma=0.2475884550556351, learning_rate=0.11031655633456552, max_depth=3, n_estimators=180, subsample=0.7035119926400067; total time=   1.9s\n",
      "[CV] END colsample_bytree=0.7366114704534336, gamma=0.2475884550556351, learning_rate=0.11031655633456552, max_depth=3, n_estimators=180, subsample=0.7035119926400067; total time=   1.9s\n",
      "[CV] END colsample_bytree=0.8987566853061946, gamma=0.15585553804470548, learning_rate=0.2560204063533432, max_depth=3, n_estimators=871, subsample=0.6739417822102108; total time=   9.2s\n",
      "[CV] END colsample_bytree=0.8987566853061946, gamma=0.15585553804470548, learning_rate=0.2560204063533432, max_depth=3, n_estimators=871, subsample=0.6739417822102108; total time=   9.3s\n",
      "[CV] END colsample_bytree=0.8987566853061946, gamma=0.15585553804470548, learning_rate=0.2560204063533432, max_depth=3, n_estimators=871, subsample=0.6739417822102108; total time=   9.3s\n",
      "              precision    recall  f1-score   support\n",
      "\n",
      "           0       0.97      0.99      0.98      1568\n",
      "           1       0.49      0.22      0.30        91\n",
      "           2       0.68      0.64      0.66       214\n",
      "           3       0.72      0.79      0.75       215\n",
      "           4       0.77      0.84      0.80       116\n",
      "\n",
      "    accuracy                           0.89      2204\n",
      "   macro avg       0.72      0.69      0.70      2204\n",
      "weighted avg       0.88      0.89      0.89      2204\n",
      "\n",
      "Accuracy 0.8933756805807622\n"
     ]
    }
   ],
   "source": [
    "params = {\n",
    "    \"colsample_bytree\": uniform(0.7, 0.3)\n",
    "    ,\"gamma\": uniform(0, 0.5)\n",
    "    ,\"learning_rate\": uniform(0.1, 0.3) # default 0.1 \n",
    "    ,\"max_depth\": randint(2, 6) # default 3\n",
    "    ,\"n_estimators\": randint(100, 1000) # default 100\n",
    "    ,\"subsample\": uniform(0.6, 0.4)\n",
    "}\n",
    "kf = KFold(n_splits=5,shuffle=True,random_state=25112002)\n",
    "\n",
    "model= XGBClassifier(random_state=25112002,n_estimators=200,max_depth=100)\n",
    "\n",
    "search = RandomizedSearchCV(model, param_distributions=params, random_state=42, cv=3, verbose=2, n_jobs=1, return_train_score=True)\n",
    "\n",
    "search.fit(X_train,np.ravel(y_train))\n",
    "\n",
    "prediction =search.best_estimator_.predict(X_test)\n",
    "print(classification_report(y_test,prediction))\n",
    "print('Accuracy',metrics.accuracy_score(y_test,prediction))"
   ]
  },
  {
   "cell_type": "code",
   "execution_count": 7,
   "metadata": {},
   "outputs": [
    {
     "name": "stdout",
     "output_type": "stream",
     "text": [
      "0.6972383945511267\n",
      "0.8933756805807621\n",
      "0.8862669200769753\n"
     ]
    }
   ],
   "source": [
    "print(f1_score(y_test,prediction, average='macro'))\n",
    "print(f1_score(y_test,prediction, average='micro'))\n",
    "print(f1_score(y_test,prediction, average='weighted'))\n"
   ]
  },
  {
   "cell_type": "code",
   "execution_count": 8,
   "metadata": {},
   "outputs": [
    {
     "data": {
      "text/plain": [
       "<sklearn.metrics._plot.confusion_matrix.ConfusionMatrixDisplay at 0x28bc55f2dd0>"
      ]
     },
     "execution_count": 8,
     "metadata": {},
     "output_type": "execute_result"
    },
    {
     "data": {
      "image/png": "[encoded data removed]",
      "text/plain": [
       "<Figure size 640x480 with 2 Axes>"
      ]
     },
     "metadata": {},
     "output_type": "display_data"
    }
   ],
   "source": [
    "ConfusionMatrixDisplay.from_predictions(y_test,prediction)"
   ]
  },
  {
   "cell_type": "code",
   "execution_count": 9,
   "metadata": {},
   "outputs": [],
   "source": [
    "predict = xgboost_data_preparation(test_df,\"test\").drop('Injecao na rede (kWh)',axis=1)\n",
    "\n",
    "predictions = search.best_estimator_.predict(predict)\n",
    "\n",
    "predictions_df = pd.DataFrame(predictions)\n",
    "\n",
    "numerical_to_categorical = {\n",
    "    0: {\n",
    "        0 : 'None',\n",
    "        1 : 'Low',\n",
    "        2 : 'Medium',\n",
    "        3 : 'High',\n",
    "        4 : 'Very High'\n",
    "    }\n",
    "}\n",
    "\n",
    "predictions_df.replace(numerical_to_categorical, inplace=True)\n",
    "\n",
    "predictions_df.index += 1\n",
    "\n",
    "predictions_df.to_csv(\"submission.csv\", header=['Result'], index_label='RowId')"
   ]
  }
 ],
 "metadata": {
  "kernelspec": {
   "display_name": "envNAME",
   "language": "python",
   "name": "python3"
  },
  "language_info": {
   "codemirror_mode": {
    "name": "ipython",
    "version": 3
   },
   "file_extension": ".py",
   "mimetype": "text/x-python",
   "name": "python",
   "nbconvert_exporter": "python",
   "pygments_lexer": "ipython3",
   "version": "3.10.0"
  }
 },
 "nbformat": 4,
 "nbformat_minor": 2
}
