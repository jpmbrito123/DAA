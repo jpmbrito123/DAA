{
 "cells": [
  {
   "cell_type": "code",
   "execution_count": 49,
   "metadata": {},
   "outputs": [],
   "source": [
    "import numpy as np # linear algebra\n",
    "import pandas as pd # data processing, CSV file I/O (e.g. pd.read_csv)\n",
    "import sklearn as skl\n",
    "import matplotlib.pyplot as plt\n",
    "import seaborn as sns\n",
    "\n",
    "from pandas import DataFrame\n",
    "from sklearn import preprocessing\n",
    "from sklearn.tree import DecisionTreeClassifier\n",
    "from sklearn.metrics import confusion_matrix,accuracy_score,precision_score,recall_score\n",
    "from sklearn.utils import resample\n",
    "from sklearn.ensemble import RandomForestClassifier\n",
    "from sklearn.metrics import classification_report,f1_score\n",
    "from sklearn.model_selection import GridSearchCV, KFold,cross_val_score, RandomizedSearchCV,train_test_split\n",
    "from sklearn import metrics\n",
    "from xgboost import XGBClassifier\n",
    "import xgboost as xgb\n",
    "from scipy.stats import uniform, randint\n",
    "from sklearn.metrics import ConfusionMatrixDisplay\n",
    "\n",
    "SEED = 2023"
   ]
  },
  {
   "cell_type": "code",
   "execution_count": 50,
   "metadata": {},
   "outputs": [],
   "source": [
    "%run \"datasets/parse.ipynb\"\n",
    "train_df = parse_train(\"\")\n",
    "test_df = parse_test(\"\")"
   ]
  },
  {
   "cell_type": "code",
   "execution_count": 51,
   "metadata": {},
   "outputs": [],
   "source": [
    "categorical_to_numerical = {\n",
    "    'Injecao na rede (kWh)': {\n",
    "        'None': 0,\n",
    "        'Low': 1,\n",
    "        'Medium': 2,\n",
    "        'High':3,\n",
    "        'Very High':4\n",
    "    },\n",
    "    'weather_description': {\n",
    "        'overcast clouds': 0,\n",
    "        'scattered clouds': 1,\n",
    "        'few clouds': 2,\n",
    "        'sky is clear': 3,\n",
    "        'broken clouds': 4,\n",
    "        'light rain': 5,\n",
    "        'moderate rain': 6,\n",
    "        'heavy intensity rain':7\n",
    "    }\n",
    "}\n",
    "\n",
    "numeric_columns = ['Hora', 'Normal (kWh)', 'Horario Economico (kWh)', 'Autoconsumo (kWh)', 'temp','feels_like','temp_min','temp_max','pressure','humidity', 'wind_speed','clouds_all','rain_1h']\n"
   ]
  },
  {
   "cell_type": "code",
   "execution_count": 52,
   "metadata": {},
   "outputs": [],
   "source": [
    "def xgboost_data_preparation(df: DataFrame,test_or_train) -> DataFrame:\n",
    "\n",
    "    prep_df= df\n",
    "    prep_df['rain_1h'] = prep_df['rain_1h'].replace('', '0')\n",
    "    prep_df['rain_1h'] = pd.to_numeric(prep_df['rain_1h'])\n",
    "            \n",
    "    ### Converter as features categoricas em numericas\n",
    "    prep_df.replace(categorical_to_numerical, inplace=True)\n",
    "\n",
    "    ### Extrair a hora e dia da semana da feature 'record_date'\n",
    "    record_date = pd.DatetimeIndex(prep_df['Data'])\n",
    "\n",
    "    prep_df['Month'] = record_date.month\n",
    "    prep_df['Day'] = record_date.day\n",
    "    prep_df['Year'] = record_date.year\n",
    "\n",
    "    dropped_columns = ['grnd_level','sea_level','dt','Data','city_name']\n",
    "    prep_df = prep_df.drop(dropped_columns, axis=1)\n",
    "\n",
    "    prep_df.loc[(prep_df['Hora'] < 6) & (prep_df['Hora'] > 21), 'Injecao na rede (kWh)'] = 0\n",
    "\n",
    "    \n",
    "\n",
    "   \n",
    "    ### Limites superior e inferior (sem outliers) dos diagramas de caixa\n",
    "    whiskers = []\n",
    "    for num in numeric_columns:\n",
    "        Q1 = prep_df[num].quantile(0.25)\n",
    "        Q3 = prep_df[num].quantile(0.75)\n",
    "        IQR = Q3 - Q1\n",
    "\n",
    "        lower = Q1 - 1.5 * IQR\n",
    "        upper = Q3 + 1.5 * IQR\n",
    "        whiskers.append((num,lower,upper))\n",
    "\n",
    "    ### Tratar os outliers das features numéricas:\n",
    "    ### Substituir os valores dos outliers pela mediana\n",
    "    if(train_test_split == \"train\"):\n",
    "        for num, lower, upper in whiskers:\n",
    "            prep_df = prep_df[(prep_df[num] >= lower) & (prep_df[num] <= upper)]\n",
    "\n",
    "    return prep_df"
   ]
  },
  {
   "cell_type": "code",
   "execution_count": 53,
   "metadata": {},
   "outputs": [],
   "source": [
    "prep_df = xgboost_data_preparation(train_df,\"train\")\n",
    "\n",
    "X = prep_df\n",
    "\n",
    "# Separate the target variable from the input features\n",
    "y = X['Injecao na rede (kWh)']\n",
    "X.drop(columns=['Injecao na rede (kWh)'], inplace=True)\n",
    "\n",
    "# Split the data into training and test sets\n",
    "X_train, X_test, y_train, y_test = train_test_split(X, y, test_size=0.2, random_state=SEED)"
   ]
  },
  {
   "cell_type": "code",
   "execution_count": 54,
   "metadata": {},
   "outputs": [
    {
     "name": "stdout",
     "output_type": "stream",
     "text": [
      "Fitting 3 folds for each of 10 candidates, totalling 30 fits\n",
      "[CV] END colsample_bytree=0.8123620356542087, gamma=0.4753571532049581, learning_rate=0.31959818254342154, max_depth=2, n_estimators=120, subsample=0.6624074561769746; total time=   0.2s\n",
      "[CV] END colsample_bytree=0.8123620356542087, gamma=0.4753571532049581, learning_rate=0.31959818254342154, max_depth=2, n_estimators=120, subsample=0.6624074561769746; total time=   0.2s\n",
      "[CV] END colsample_bytree=0.8123620356542087, gamma=0.4753571532049581, learning_rate=0.31959818254342154, max_depth=2, n_estimators=120, subsample=0.6624074561769746; total time=   0.2s\n",
      "[CV] END colsample_bytree=0.7467983561008608, gamma=0.02904180608409973, learning_rate=0.3598528437324805, max_depth=4, n_estimators=761, subsample=0.6225646316108401; total time=   2.0s\n",
      "[CV] END colsample_bytree=0.7467983561008608, gamma=0.02904180608409973, learning_rate=0.3598528437324805, max_depth=4, n_estimators=761, subsample=0.6225646316108401; total time=   2.0s\n",
      "[CV] END colsample_bytree=0.7467983561008608, gamma=0.02904180608409973, learning_rate=0.3598528437324805, max_depth=4, n_estimators=761, subsample=0.6225646316108401; total time=   2.0s\n",
      "[CV] END colsample_bytree=0.9165996316800473, gamma=0.4692763545078751, learning_rate=0.1002336297523043, max_depth=2, n_estimators=260, subsample=0.7216968971838151; total time=   0.7s\n",
      "[CV] END colsample_bytree=0.9165996316800473, gamma=0.4692763545078751, learning_rate=0.1002336297523043, max_depth=2, n_estimators=260, subsample=0.7216968971838151; total time=   0.6s\n",
      "[CV] END colsample_bytree=0.9165996316800473, gamma=0.4692763545078751, learning_rate=0.1002336297523043, max_depth=2, n_estimators=260, subsample=0.7216968971838151; total time=   0.6s\n",
      "[CV] END colsample_bytree=0.8574269294896713, gamma=0.21597250932105788, learning_rate=0.18736874205941256, max_depth=4, n_estimators=610, subsample=0.6557975442608167; total time=   2.2s\n",
      "[CV] END colsample_bytree=0.8574269294896713, gamma=0.21597250932105788, learning_rate=0.18736874205941256, max_depth=4, n_estimators=610, subsample=0.6557975442608167; total time=   2.2s\n",
      "[CV] END colsample_bytree=0.8574269294896713, gamma=0.21597250932105788, learning_rate=0.18736874205941256, max_depth=4, n_estimators=610, subsample=0.6557975442608167; total time=   2.2s\n",
      "[CV] END colsample_bytree=0.7876433945605654, gamma=0.18318092164684585, learning_rate=0.23682099526511077, max_depth=4, n_estimators=662, subsample=0.7529847965068651; total time=   2.4s\n",
      "[CV] END colsample_bytree=0.7876433945605654, gamma=0.18318092164684585, learning_rate=0.23682099526511077, max_depth=4, n_estimators=662, subsample=0.7529847965068651; total time=   2.5s\n",
      "[CV] END colsample_bytree=0.7876433945605654, gamma=0.18318092164684585, learning_rate=0.23682099526511077, max_depth=4, n_estimators=662, subsample=0.7529847965068651; total time=   2.4s\n",
      "[CV] END colsample_bytree=0.9949692657420364, gamma=0.23338144662398996, learning_rate=0.3579821220208962, max_depth=4, n_estimators=120, subsample=0.7801997007878172; total time=   0.4s\n",
      "[CV] END colsample_bytree=0.9949692657420364, gamma=0.23338144662398996, learning_rate=0.3579821220208962, max_depth=4, n_estimators=120, subsample=0.7801997007878172; total time=   0.4s\n",
      "[CV] END colsample_bytree=0.9949692657420364, gamma=0.23338144662398996, learning_rate=0.3579821220208962, max_depth=4, n_estimators=120, subsample=0.7801997007878172; total time=   0.4s\n",
      "[CV] END colsample_bytree=0.7039794883479599, gamma=0.4711008778424264, learning_rate=0.2689864653536618, max_depth=3, n_estimators=876, subsample=0.6063865008880857; total time=   2.8s\n",
      "[CV] END colsample_bytree=0.7039794883479599, gamma=0.4711008778424264, learning_rate=0.2689864653536618, max_depth=3, n_estimators=876, subsample=0.6063865008880857; total time=   2.9s\n",
      "[CV] END colsample_bytree=0.7039794883479599, gamma=0.4711008778424264, learning_rate=0.2689864653536618, max_depth=3, n_estimators=876, subsample=0.6063865008880857; total time=   2.9s\n",
      "[CV] END colsample_bytree=0.7692681476866446, gamma=0.12051273301300586, learning_rate=0.3049790556476375, max_depth=2, n_estimators=875, subsample=0.6137554084460873; total time=   2.3s\n",
      "[CV] END colsample_bytree=0.7692681476866446, gamma=0.12051273301300586, learning_rate=0.3049790556476375, max_depth=2, n_estimators=875, subsample=0.6137554084460873; total time=   2.4s\n",
      "[CV] END colsample_bytree=0.7692681476866446, gamma=0.12051273301300586, learning_rate=0.3049790556476375, max_depth=2, n_estimators=875, subsample=0.6137554084460873; total time=   2.4s\n",
      "[CV] END colsample_bytree=0.9727961206236346, gamma=0.12938999080000846, learning_rate=0.2987566853061946, max_depth=3, n_estimators=489, subsample=0.6831766651472755; total time=   1.5s\n",
      "[CV] END colsample_bytree=0.9727961206236346, gamma=0.12938999080000846, learning_rate=0.2987566853061946, max_depth=3, n_estimators=489, subsample=0.6831766651472755; total time=   1.5s\n",
      "[CV] END colsample_bytree=0.9727961206236346, gamma=0.12938999080000846, learning_rate=0.2987566853061946, max_depth=3, n_estimators=489, subsample=0.6831766651472755; total time=   1.6s\n",
      "[CV] END colsample_bytree=0.8703100983459974, gamma=0.01565664622777929, learning_rate=0.3526854323784996, max_depth=3, n_estimators=301, subsample=0.9579309401710595; total time=   0.9s\n",
      "[CV] END colsample_bytree=0.8703100983459974, gamma=0.01565664622777929, learning_rate=0.3526854323784996, max_depth=3, n_estimators=301, subsample=0.9579309401710595; total time=   0.9s\n",
      "[CV] END colsample_bytree=0.8703100983459974, gamma=0.01565664622777929, learning_rate=0.3526854323784996, max_depth=3, n_estimators=301, subsample=0.9579309401710595; total time=   0.9s\n",
      "              precision    recall  f1-score   support\n",
      "\n",
      "           0       0.98      0.95      0.96       337\n",
      "           1       0.25      0.36      0.29        14\n",
      "           2       0.59      0.53      0.56        51\n",
      "           3       0.59      0.78      0.67        37\n",
      "           4       0.75      0.46      0.57        13\n",
      "\n",
      "    accuracy                           0.86       452\n",
      "   macro avg       0.63      0.62      0.61       452\n",
      "weighted avg       0.87      0.86      0.86       452\n",
      "\n",
      "Accuracy 0.8584070796460177\n"
     ]
    }
   ],
   "source": [
    "params = {\n",
    "    \"colsample_bytree\": uniform(0.7, 0.3)\n",
    "    ,\"gamma\": uniform(0, 0.5)\n",
    "    ,\"learning_rate\": uniform(0.1, 0.3) # default 0.1 \n",
    "    ,\"max_depth\": randint(2, 6) # default 3\n",
    "    ,\"n_estimators\": randint(100, 1000) # default 100\n",
    "    ,\"subsample\": uniform(0.6, 0.4)\n",
    "}\n",
    "kf = KFold(n_splits=5,shuffle=True,random_state=25112002)\n",
    "\n",
    "model= XGBClassifier(random_state=25112002,n_estimators=200,max_depth=100)\n",
    "\n",
    "search = RandomizedSearchCV(model, param_distributions=params, random_state=42, cv=3, verbose=2, n_jobs=1, return_train_score=True)\n",
    "\n",
    "search.fit(X_train,np.ravel(y_train))\n",
    "\n",
    "prediction =search.best_estimator_.predict(X_test)\n",
    "print(classification_report(y_test,prediction))\n",
    "print('Accuracy',metrics.accuracy_score(y_test,prediction))"
   ]
  },
  {
   "cell_type": "code",
   "execution_count": 55,
   "metadata": {},
   "outputs": [
    {
     "name": "stdout",
     "output_type": "stream",
     "text": [
      "0.6121259636060714\n",
      "0.8584070796460177\n",
      "0.8622728214439459\n"
     ]
    }
   ],
   "source": [
    "print(f1_score(y_test,prediction, average='macro'))\n",
    "print(f1_score(y_test,prediction, average='micro'))\n",
    "print(f1_score(y_test,prediction, average='weighted'))\n"
   ]
  },
  {
   "cell_type": "code",
   "execution_count": 56,
   "metadata": {},
   "outputs": [
    {
     "data": {
      "text/plain": [
       "<sklearn.metrics._plot.confusion_matrix.ConfusionMatrixDisplay at 0x16c1f826260>"
      ]
     },
     "execution_count": 56,
     "metadata": {},
     "output_type": "execute_result"
    },
    {
     "data": {
      "image/png": "[encoded data removed]",
      "text/plain": [
       "<Figure size 640x480 with 2 Axes>"
      ]
     },
     "metadata": {},
     "output_type": "display_data"
    }
   ],
   "source": [
    "ConfusionMatrixDisplay.from_predictions(y_test,prediction)"
   ]
  }
 ],
 "metadata": {
  "kernelspec": {
   "display_name": "envNAME",
   "language": "python",
   "name": "python3"
  },
  "language_info": {
   "codemirror_mode": {
    "name": "ipython",
    "version": 3
   },
   "file_extension": ".py",
   "mimetype": "text/x-python",
   "name": "python",
   "nbconvert_exporter": "python",
   "pygments_lexer": "ipython3",
   "version": "3.10.0"
  }
 },
 "nbformat": 4,
 "nbformat_minor": 2
}
