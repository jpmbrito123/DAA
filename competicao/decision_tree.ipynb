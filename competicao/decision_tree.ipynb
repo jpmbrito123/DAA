{
 "cells": [
  {
   "cell_type": "markdown",
   "metadata": {},
   "source": [
    "# Competição ML @SBS/DAA - 5ª Edição (2022/2023)\n",
    "\n",
    "Esta competição está relacionada com o Trabalho Prático de Grupo das UCs do perfil Machine Learning: Fundamentos e Aplicações da Uminho e da UC Dados e Aprendizagem Automática, tendo, como destinatários, alunos do Mestrado em Engenharia Informática, do Mestrado em Matemática e Computação, e do Mestrado em Engenharia de Sistemas.\n",
    "\n",
    "# Descrição da Competição\n",
    "A previsão da quantidade de incidentes rodoviários é um conhecido problema de características estocásticas, não-lineares. Tem, contudo, aparecido na literatura um conjunto de modelos que demonstram um potencial assinalável neste tipo de previsões. Com isso em consideração, foi construído um dataset que contém dados referentes à quantidade e características dos incidentes rodoviários que ocorreram na cidade de Guimarães em 2021 (o dataset cobre um período que vai desde o dia 01 de Janeiro de 2021 até ao dia 31 de Dezembro do mesmo ano).\n",
    "\n",
    "Com esta competição espera-se que os alunos desenvolvam e otimizem modelos de Machine Learning que sejam capazes de prever o número de incidentes rodoviários que irão acontecer na cidade de Guimarães a uma determinada hora."
   ]
  },
  {
   "cell_type": "markdown",
   "metadata": {},
   "source": [
    "## Imports utilizados"
   ]
  },
  {
   "cell_type": "code",
   "execution_count": 1,
   "metadata": {
    "tags": []
   },
   "outputs": [],
   "source": [
    "%matplotlib inline\n",
    "\n",
    "import pandas as pd\n",
    "import numpy as np\n",
    "import matplotlib.pyplot as plt\n",
    "import seaborn as sns\n",
    "from sklearn.model_selection import train_test_split\n",
    "from sklearn.model_selection import cross_val_score\n",
    "from sklearn.tree import DecisionTreeClassifier, export_graphviz\n",
    "from sklearn.ensemble import RandomForestClassifier\n",
    "from sklearn.metrics import confusion_matrix, ConfusionMatrixDisplay\n",
    "from sklearn.metrics import recall_score\n",
    "from sklearn.metrics import accuracy_score\n",
    "from sklearn.metrics import precision_score"
   ]
  },
  {
   "cell_type": "markdown",
   "metadata": {
    "collapsed": false
   },
   "source": [
    "# Instalar as dependências necessárias"
   ]
  },
  {
   "cell_type": "code",
   "execution_count": 2,
   "metadata": {
    "collapsed": false
   },
   "outputs": [
    {
     "name": "stderr",
     "output_type": "stream",
     "text": [
      "Unable to create process using 'C:\\Users\\Henrique Fernandes\\.conda\\envs\\envNAME\\python.exe \"C:\\Users\\Henrique Fernandes\\.conda\\envs\\envNAME\\Scripts\\pip3-script.py\" install scipy'\n",
      "Unable to create process using 'C:\\Users\\Henrique Fernandes\\.conda\\envs\\envNAME\\python.exe \"C:\\Users\\Henrique Fernandes\\.conda\\envs\\envNAME\\Scripts\\pip3-script.py\" install pydotplus'\n",
      "Unable to create process using 'C:\\Users\\Henrique Fernandes\\.conda\\envs\\envNAME\\python.exe \"C:\\Users\\Henrique Fernandes\\.conda\\envs\\envNAME\\Scripts\\pip3-script.py\" install graphviz'\n"
     ]
    }
   ],
   "source": [
    "!pip3 install scipy\n",
    "!pip3 install pydotplus\n",
    "!pip3 install graphviz"
   ]
  },
  {
   "cell_type": "markdown",
   "metadata": {},
   "source": [
    "### Mudar o modo que a Interactive shell imprime as variáveis"
   ]
  },
  {
   "cell_type": "code",
   "execution_count": 3,
   "metadata": {
    "collapsed": false,
    "jupyter": {
     "outputs_hidden": false
    }
   },
   "outputs": [],
   "source": [
    "from IPython.core.interactiveshell import InteractiveShell\n",
    "\n",
    "InteractiveShell.ast_node_interactivity = \"all\""
   ]
  },
  {
   "cell_type": "markdown",
   "metadata": {},
   "source": [
    "## Carregar os dataset de treino e de teste"
   ]
  },
  {
   "cell_type": "code",
   "execution_count": 4,
   "metadata": {
    "collapsed": false,
    "jupyter": {
     "outputs_hidden": false
    }
   },
   "outputs": [],
   "source": [
    "%run \"datasets/parse.ipynb\"\n",
    "train_df = parse_train(\"\")\n",
    "test_df = parse_test(\"\")"
   ]
  },
  {
   "cell_type": "markdown",
   "metadata": {},
   "source": [
    "#### Seed utilizada"
   ]
  },
  {
   "cell_type": "code",
   "execution_count": 5,
   "metadata": {
    "collapsed": false,
    "jupyter": {
     "outputs_hidden": false
    }
   },
   "outputs": [],
   "source": [
    "SEED = 2023"
   ]
  },
  {
   "cell_type": "markdown",
   "metadata": {},
   "source": [
    "## Preparação de Dados"
   ]
  },
  {
   "cell_type": "code",
   "execution_count": 6,
   "metadata": {},
   "outputs": [],
   "source": [
    "# Não tratar outliers de 'affected_roads', 'hour', 'day', 'month', 'weekday', 'weekend', 'holiday'\n",
    "numeric_columns = ['Hora', 'Normal (kWh)', 'Horario Economico (kWh)', 'Autoconsumo (kWh)', 'temp','feels_like','temp_min','temp_max','pressure','humidity', 'wind_speed','clouds_all','rain_1h']\n"
   ]
  },
  {
   "cell_type": "markdown",
   "metadata": {
    "collapsed": false
   },
   "source": [
    "### Converter features categóricas para valores numéricos"
   ]
  },
  {
   "cell_type": "code",
   "execution_count": 7,
   "metadata": {
    "collapsed": false
   },
   "outputs": [],
   "source": [
    "categorical_to_numerical = {\n",
    "    'Injecao na rede (kWh)': {\n",
    "        'None': 0,\n",
    "        'Low': 1,\n",
    "        'Medium': 2,\n",
    "        'High':3,\n",
    "        'Very High':4\n",
    "    },\n",
    "    'weather_description': {\n",
    "        'overcast clouds': 0,\n",
    "        'scattered clouds': 1,\n",
    "        'few clouds': 2,\n",
    "        'sky is clear': 3,\n",
    "        'broken clouds': 4,\n",
    "        'light rain': 5,\n",
    "        'moderate rain': 6,\n",
    "        'heavy intensity rain':7\n",
    "    }\n",
    "}"
   ]
  },
  {
   "cell_type": "code",
   "execution_count": 8,
   "metadata": {
    "collapsed": false
   },
   "outputs": [],
   "source": [
    "from pandas import DataFrame\n",
    "from sklearn.preprocessing import KBinsDiscretizer\n",
    "import statistics\n",
    "from datetime import datetime\n",
    "from sklearn.preprocessing import StandardScaler\n",
    "from scipy.stats import boxcox\n"
   ]
  },
  {
   "attachments": {},
   "cell_type": "markdown",
   "metadata": {},
   "source": [
    "#### Funções Auxiliares"
   ]
  },
  {
   "cell_type": "code",
   "execution_count": 9,
   "metadata": {},
   "outputs": [],
   "source": [
    "### Criar 5 bins para a variável hour\n",
    "def create_bins_for_hour(df: DataFrame):\n",
    "    est = KBinsDiscretizer(n_bins=5, encode='ordinal', strategy='uniform')\n",
    "    est.fit(df['hour'].to_frame())\n",
    "    df['hour'] = est.transform(df['hour'].to_frame())\n",
    "    return df['hour']\n",
    "\n",
    "### Verificar se a data se refere a um feriado português.\n",
    "def is_it_holiday(month: int, day: int):\n",
    "    is_holiday = 0\n",
    "    for date in holidays_in_guimaraes['date']:\n",
    "        date_splitted = str(date).split('-')\n",
    "        month_holiday = date_splitted[1]\n",
    "        day_holiday = date_splitted[2]\n",
    "        if str(day) == day_holiday and str(month) == month_holiday:\n",
    "            is_holiday = 1\n",
    "            break\n",
    "    return is_holiday"
   ]
  },
  {
   "cell_type": "code",
   "execution_count": 10,
   "metadata": {
    "collapsed": false
   },
   "outputs": [],
   "source": [
    "def decision_tree_data_preparation(df: DataFrame,test_or_train) -> DataFrame:\n",
    "\n",
    "    prep_df= df\n",
    "    prep_df['rain_1h'] = prep_df['rain_1h'].replace('', '0')\n",
    "    prep_df['rain_1h'] = pd.to_numeric(prep_df['rain_1h'])\n",
    "            \n",
    "    ### Converter as features categoricas em numericas\n",
    "    prep_df.replace(categorical_to_numerical, inplace=True)\n",
    "\n",
    "    ### Extrair a hora e dia da semana da feature 'record_date'\n",
    "    record_date = pd.DatetimeIndex(prep_df['Data'])\n",
    "\n",
    "    prep_df['Month'] = record_date.month\n",
    "\n",
    "    dropped_columns = ['grnd_level','sea_level','dt','Data','city_name']\n",
    "    prep_df = prep_df.drop(dropped_columns, axis=1)\n",
    "\n",
    "    prep_df.loc[(prep_df['Hora'] < 6) & (prep_df['Hora'] > 21), 'Injecao na rede (kWh)'] = 0\n",
    "\n",
    "    ### Normalizaçao\n",
    "    prep_df[numeric_columns] = prep_df[numeric_columns].apply(lambda x: (x - x.min()) / (x.max() - x.min()))    \n",
    "\n",
    "   \n",
    "    ### Limites superior e inferior (sem outliers) dos diagramas de caixa\n",
    "    whiskers = []\n",
    "    for num in numeric_columns:\n",
    "        Q1 = prep_df[num].quantile(0.25)\n",
    "        Q3 = prep_df[num].quantile(0.75)\n",
    "        IQR = Q3 - Q1\n",
    "\n",
    "        lower = Q1 - 1.5 * IQR\n",
    "        upper = Q3 + 1.5 * IQR\n",
    "        whiskers.append((num,lower,upper))\n",
    "\n",
    "    ### Tratar os outliers das features numéricas:\n",
    "    ### Substituir os valores dos outliers pela mediana\n",
    "    if(train_test_split == \"train\"):\n",
    "        for num, lower, upper in whiskers:\n",
    "            prep_df = prep_df[(prep_df[num] >= lower) & (prep_df[num] <= upper)]\n",
    "\n",
    "    return prep_df"
   ]
  },
  {
   "cell_type": "markdown",
   "metadata": {},
   "source": [
    "### Divisão do dataset de treino em dados de treino e de teste"
   ]
  },
  {
   "cell_type": "code",
   "execution_count": 11,
   "metadata": {
    "collapsed": false
   },
   "outputs": [],
   "source": [
    "from sklearn.model_selection import train_test_split\n",
    "\n",
    "X = decision_tree_data_preparation(train_df,\"train\")\n",
    "\n",
    "# Separate the target variable from the input features\n",
    "y = X['Injecao na rede (kWh)']\n",
    "X.drop(columns=['Injecao na rede (kWh)'], inplace=True)\n",
    "\n",
    "# Split the data into training and test sets\n",
    "X_train, X_test, y_train, y_test = train_test_split(X, y, test_size=0.2, random_state=SEED)"
   ]
  },
  {
   "cell_type": "markdown",
   "metadata": {},
   "source": [
    "### Modelo de Árvore de decisão"
   ]
  },
  {
   "cell_type": "code",
   "execution_count": 12,
   "metadata": {
    "collapsed": false
   },
   "outputs": [
    {
     "data": {
      "text/plain": [
       "\"\\n# Evaluate the model using 10-fold cross-validation\\nscores = cross_val_score(estimator=clf, X=X, y=y, cv=20)\\n\\n# Print the mean and standard deviation of the scores\\n#print(f'Mean accuracy: {scores.mean():.3f}')\\n#print(f'Standard deviation: {scores.std():.3f}')\\n\\nclf.fit(X_train, y_train)\\n\""
      ]
     },
     "execution_count": 12,
     "metadata": {},
     "output_type": "execute_result"
    },
    {
     "data": {
      "text/html": [
       "<style>#sk-container-id-1 {color: black;}#sk-container-id-1 pre{padding: 0;}#sk-container-id-1 div.sk-toggleable {background-color: white;}#sk-container-id-1 label.sk-toggleable__label {cursor: pointer;display: block;width: 100%;margin-bottom: 0;padding: 0.3em;box-sizing: border-box;text-align: center;}#sk-container-id-1 label.sk-toggleable__label-arrow:before {content: \"▸\";float: left;margin-right: 0.25em;color: #696969;}#sk-container-id-1 label.sk-toggleable__label-arrow:hover:before {color: black;}#sk-container-id-1 div.sk-estimator:hover label.sk-toggleable__label-arrow:before {color: black;}#sk-container-id-1 div.sk-toggleable__content {max-height: 0;max-width: 0;overflow: hidden;text-align: left;background-color: #f0f8ff;}#sk-container-id-1 div.sk-toggleable__content pre {margin: 0.2em;color: black;border-radius: 0.25em;background-color: #f0f8ff;}#sk-container-id-1 input.sk-toggleable__control:checked~div.sk-toggleable__content {max-height: 200px;max-width: 100%;overflow: auto;}#sk-container-id-1 input.sk-toggleable__control:checked~label.sk-toggleable__label-arrow:before {content: \"▾\";}#sk-container-id-1 div.sk-estimator input.sk-toggleable__control:checked~label.sk-toggleable__label {background-color: #d4ebff;}#sk-container-id-1 div.sk-label input.sk-toggleable__control:checked~label.sk-toggleable__label {background-color: #d4ebff;}#sk-container-id-1 input.sk-hidden--visually {border: 0;clip: rect(1px 1px 1px 1px);clip: rect(1px, 1px, 1px, 1px);height: 1px;margin: -1px;overflow: hidden;padding: 0;position: absolute;width: 1px;}#sk-container-id-1 div.sk-estimator {font-family: monospace;background-color: #f0f8ff;border: 1px dotted black;border-radius: 0.25em;box-sizing: border-box;margin-bottom: 0.5em;}#sk-container-id-1 div.sk-estimator:hover {background-color: #d4ebff;}#sk-container-id-1 div.sk-parallel-item::after {content: \"\";width: 100%;border-bottom: 1px solid gray;flex-grow: 1;}#sk-container-id-1 div.sk-label:hover label.sk-toggleable__label {background-color: #d4ebff;}#sk-container-id-1 div.sk-serial::before {content: \"\";position: absolute;border-left: 1px solid gray;box-sizing: border-box;top: 0;bottom: 0;left: 50%;z-index: 0;}#sk-container-id-1 div.sk-serial {display: flex;flex-direction: column;align-items: center;background-color: white;padding-right: 0.2em;padding-left: 0.2em;position: relative;}#sk-container-id-1 div.sk-item {position: relative;z-index: 1;}#sk-container-id-1 div.sk-parallel {display: flex;align-items: stretch;justify-content: center;background-color: white;position: relative;}#sk-container-id-1 div.sk-item::before, #sk-container-id-1 div.sk-parallel-item::before {content: \"\";position: absolute;border-left: 1px solid gray;box-sizing: border-box;top: 0;bottom: 0;left: 50%;z-index: -1;}#sk-container-id-1 div.sk-parallel-item {display: flex;flex-direction: column;z-index: 1;position: relative;background-color: white;}#sk-container-id-1 div.sk-parallel-item:first-child::after {align-self: flex-end;width: 50%;}#sk-container-id-1 div.sk-parallel-item:last-child::after {align-self: flex-start;width: 50%;}#sk-container-id-1 div.sk-parallel-item:only-child::after {width: 0;}#sk-container-id-1 div.sk-dashed-wrapped {border: 1px dashed gray;margin: 0 0.4em 0.5em 0.4em;box-sizing: border-box;padding-bottom: 0.4em;background-color: white;}#sk-container-id-1 div.sk-label label {font-family: monospace;font-weight: bold;display: inline-block;line-height: 1.2em;}#sk-container-id-1 div.sk-label-container {text-align: center;}#sk-container-id-1 div.sk-container {/* jupyter's `normalize.less` sets `[hidden] { display: none; }` but bootstrap.min.css set `[hidden] { display: none !important; }` so we also need the `!important` here to be able to override the default hidden behavior on the sphinx rendered scikit-learn.org. See: https://github.com/scikit-learn/scikit-learn/issues/21755 */display: inline-block !important;position: relative;}#sk-container-id-1 div.sk-text-repr-fallback {display: none;}</style><div id=\"sk-container-id-1\" class=\"sk-top-container\"><div class=\"sk-text-repr-fallback\"><pre>DecisionTreeClassifier()</pre><b>In a Jupyter environment, please rerun this cell to show the HTML representation or trust the notebook. <br />On GitHub, the HTML representation is unable to render, please try loading this page with nbviewer.org.</b></div><div class=\"sk-container\" hidden><div class=\"sk-item\"><div class=\"sk-estimator sk-toggleable\"><input class=\"sk-toggleable__control sk-hidden--visually\" id=\"sk-estimator-id-1\" type=\"checkbox\" checked><label for=\"sk-estimator-id-1\" class=\"sk-toggleable__label sk-toggleable__label-arrow\">DecisionTreeClassifier</label><div class=\"sk-toggleable__content\"><pre>DecisionTreeClassifier()</pre></div></div></div></div></div>"
      ],
      "text/plain": [
       "DecisionTreeClassifier()"
      ]
     },
     "execution_count": 12,
     "metadata": {},
     "output_type": "execute_result"
    }
   ],
   "source": [
    "from sklearn.linear_model import LogisticRegression\n",
    "from sklearn.model_selection import GridSearchCV\n",
    "\n",
    "# Create a Decision Tree model\n",
    "clf = DecisionTreeClassifier()\n",
    "# clf = RandomForestClassifier()\n",
    "# clf = LogisticRegression(C=0.1)\n",
    "\n",
    "\"\"\"\n",
    "# Evaluate the model using 10-fold cross-validation\n",
    "scores = cross_val_score(estimator=clf, X=X, y=y, cv=20)\n",
    "\n",
    "# Print the mean and standard deviation of the scores\n",
    "#print(f'Mean accuracy: {scores.mean():.3f}')\n",
    "#print(f'Standard deviation: {scores.std():.3f}')\n",
    "\n",
    "clf.fit(X_train, y_train)\n",
    "\"\"\"\n",
    "\n",
    "# Fit the model to the training data\n",
    "clf.fit(X_train, y_train)\n",
    "\n",
    "# Evaluate the model using cross-validation\n",
    "#scores = cross_val_score(clf, X, y, cv=200, scoring='f1_micro')\n",
    "\n",
    "# Print the mean and standard deviation of the cross-validation scores\n",
    "#print(\"F1 score: %0.2f (+/- %0.2f)\" % (scores.mean(), scores.std()))\n"
   ]
  },
  {
   "cell_type": "markdown",
   "metadata": {
    "collapsed": false
   },
   "source": [
    "#### Exportar o gráfico da árvore de decisão"
   ]
  },
  {
   "cell_type": "code",
   "execution_count": 13,
   "metadata": {
    "collapsed": false
   },
   "outputs": [
    {
     "data": {
      "text/plain": [
       "\"\\nfrom six import StringIO\\nfrom IPython.display import Image\\nimport pydotplus\\n\\nprep_df = decision_tree_data_preparation(train_df)\\nprep_df.drop(columns=['incidents'], inplace=True)\\n\\ndot_data = StringIO()\\nexport_graphviz(clf, out_file=dot_data,\\n                filled=True, rounded=True,\\n                special_characters=True,feature_names = prep_df.columns,class_names=['0','1','2','3','4'])\\n\\ngraph = pydotplus.graph_from_dot_data(dot_data.getvalue())\\ngraph.write_png('incidents-decision-tree.png')\\nImage(graph.create_png())\\n\""
      ]
     },
     "execution_count": 13,
     "metadata": {},
     "output_type": "execute_result"
    }
   ],
   "source": [
    "\"\"\"\n",
    "from six import StringIO\n",
    "from IPython.display import Image\n",
    "import pydotplus\n",
    "\n",
    "prep_df = decision_tree_data_preparation(train_df)\n",
    "prep_df.drop(columns=['incidents'], inplace=True)\n",
    "\n",
    "dot_data = StringIO()\n",
    "export_graphviz(clf, out_file=dot_data,\n",
    "                filled=True, rounded=True,\n",
    "                special_characters=True,feature_names = prep_df.columns,class_names=['0','1','2','3','4'])\n",
    "\n",
    "graph = pydotplus.graph_from_dot_data(dot_data.getvalue())\n",
    "graph.write_png('incidents-decision-tree.png')\n",
    "Image(graph.create_png())\n",
    "\"\"\""
   ]
  },
  {
   "cell_type": "markdown",
   "metadata": {},
   "source": [
    "#### Obter as previsões"
   ]
  },
  {
   "cell_type": "code",
   "execution_count": 14,
   "metadata": {
    "collapsed": false,
    "jupyter": {
     "outputs_hidden": false
    }
   },
   "outputs": [],
   "source": [
    "from sklearn.metrics import f1_score\n",
    "\n",
    "# Make predictions on the test data\n",
    "predictions = clf.predict(X_test)"
   ]
  },
  {
   "cell_type": "code",
   "execution_count": 15,
   "metadata": {
    "collapsed": false,
    "jupyter": {
     "outputs_hidden": false
    }
   },
   "outputs": [
    {
     "data": {
      "text/plain": [
       "<sklearn.metrics._plot.confusion_matrix.ConfusionMatrixDisplay at 0x13e027dd9f0>"
      ]
     },
     "execution_count": 15,
     "metadata": {},
     "output_type": "execute_result"
    },
    {
     "data": {
      "image/png": "[encoded data removed]",
      "text/plain": [
       "<Figure size 640x480 with 2 Axes>"
      ]
     },
     "metadata": {},
     "output_type": "display_data"
    }
   ],
   "source": [
    "cm = confusion_matrix(y_test, predictions)\n",
    "# TP FP\n",
    "# FN TN\n",
    "disp = ConfusionMatrixDisplay(cm)\n",
    "\n",
    "disp.plot()"
   ]
  },
  {
   "cell_type": "code",
   "execution_count": 16,
   "metadata": {
    "collapsed": false,
    "jupyter": {
     "outputs_hidden": false
    }
   },
   "outputs": [
    {
     "data": {
      "text/plain": [
       "0.8579854809437386"
      ]
     },
     "execution_count": 16,
     "metadata": {},
     "output_type": "execute_result"
    },
    {
     "data": {
      "text/plain": [
       "0.8579854809437386"
      ]
     },
     "execution_count": 16,
     "metadata": {},
     "output_type": "execute_result"
    },
    {
     "data": {
      "text/plain": [
       "0.8579854809437386"
      ]
     },
     "execution_count": 16,
     "metadata": {},
     "output_type": "execute_result"
    }
   ],
   "source": [
    "accuracy_score(y_test, predictions)\n",
    "# (TP + TN) / (TP + FP + FN + TN)\n",
    "\n",
    "precision_score(y_test, predictions, average='micro')\n",
    "# TP / (TP + FP)\n",
    "\n",
    "recall_score(y_test, predictions, average='micro')\n",
    "# TP / (TP + FN)"
   ]
  },
  {
   "cell_type": "markdown",
   "metadata": {},
   "source": [
    "# Reading the test dataset"
   ]
  },
  {
   "cell_type": "code",
   "execution_count": 17,
   "metadata": {
    "collapsed": false,
    "jupyter": {
     "outputs_hidden": false
    }
   },
   "outputs": [],
   "source": [
    "X = decision_tree_data_preparation(train_df,\"test\")\n",
    "X.drop(columns=['Injecao na rede (kWh)'], inplace=True)\n"
   ]
  },
  {
   "cell_type": "markdown",
   "metadata": {},
   "source": [
    "# Getting the predictions"
   ]
  },
  {
   "cell_type": "code",
   "execution_count": 18,
   "metadata": {
    "collapsed": false,
    "jupyter": {
     "outputs_hidden": false
    }
   },
   "outputs": [],
   "source": [
    "predictions = clf.predict(X)\n",
    "\n",
    "predictions_df = pd.DataFrame(predictions)\n",
    "\n",
    "numerical_to_categorical = {\n",
    "    0: {\n",
    "        0 : 'None',\n",
    "        1 : 'Low',\n",
    "        2 : 'Medium',\n",
    "        3 : 'High',\n",
    "        4 : 'Very High'\n",
    "    }\n",
    "}\n",
    "\n",
    "predictions_df.replace(numerical_to_categorical, inplace=True)\n",
    "\n",
    "predictions_df.index += 1\n",
    "\n",
    "predictions_df.to_csv(\"submission.csv\", header=['Result'], index_label='RowId')"
   ]
  }
 ],
 "metadata": {
  "kernelspec": {
   "display_name": "base",
   "language": "python",
   "name": "python3"
  },
  "language_info": {
   "codemirror_mode": {
    "name": "ipython",
    "version": 3
   },
   "file_extension": ".py",
   "mimetype": "text/x-python",
   "name": "python",
   "nbconvert_exporter": "python",
   "pygments_lexer": "ipython3",
   "version": "3.10.0"
  },
  "vscode": {
   "interpreter": {
    "hash": "ddb1a984dc606e8a9c0ef42c41531599b55da58846aaf6b0703a14cafee0a970"
   }
  }
 },
 "nbformat": 4,
 "nbformat_minor": 4
}
