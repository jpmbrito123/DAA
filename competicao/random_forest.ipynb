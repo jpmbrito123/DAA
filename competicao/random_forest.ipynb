{
 "cells": [
  {
   "cell_type": "code",
   "execution_count": 10,
   "metadata": {},
   "outputs": [],
   "source": [
    "import numpy as np  # linear algebra\n",
    "import pandas as pd  # data processing, CSV file I/O (e.g., pd.read_csv)\n",
    "import sklearn as skl\n",
    "import matplotlib.pyplot as plt\n",
    "import seaborn as sns\n",
    "\n",
    "from pandas import DataFrame\n",
    "from sklearn import preprocessing\n",
    "from sklearn.model_selection import train_test_split, cross_val_score, GridSearchCV, KFold, RandomizedSearchCV\n",
    "from sklearn.metrics import confusion_matrix, accuracy_score, precision_score, recall_score, f1_score, classification_report\n",
    "from sklearn.utils import resample\n",
    "from sklearn.ensemble import RandomForestClassifier\n",
    "from sklearn import metrics\n",
    "from scipy.stats import uniform, randint\n",
    "\n",
    "SEED = 2023"
   ]
  },
  {
   "cell_type": "code",
   "execution_count": 11,
   "metadata": {},
   "outputs": [],
   "source": [
    "%run \"datasets/parse.ipynb\"\n",
    "train_df = parse_train(\"\")\n",
    "test_df = parse_test(\"\")"
   ]
  },
  {
   "cell_type": "code",
   "execution_count": 12,
   "metadata": {},
   "outputs": [],
   "source": [
    "categorical_to_numerical = {\n",
    "    'Injecao na rede (kWh)': {\n",
    "        'None': 0,\n",
    "        'Low': 1,\n",
    "        'Medium': 2,\n",
    "        'High':3,\n",
    "        'Very High':4\n",
    "    },\n",
    "    'weather_description': {\n",
    "        'overcast clouds': 0,\n",
    "        'scattered clouds': 1,\n",
    "        'few clouds': 2,\n",
    "        'sky is clear': 3,\n",
    "        'broken clouds': 4,\n",
    "        'light rain': 5,\n",
    "        'moderate rain': 6,\n",
    "        'heavy intensity rain':7\n",
    "    }\n",
    "}\n",
    "\n",
    "numeric_columns = ['Hora', 'Normal (kWh)', 'Horario Economico (kWh)', 'Autoconsumo (kWh)', 'temp','feels_like','temp_min','temp_max','pressure','humidity', 'wind_speed','clouds_all','rain_1h']\n"
   ]
  },
  {
   "cell_type": "code",
   "execution_count": 13,
   "metadata": {},
   "outputs": [],
   "source": [
    "def random_forest_data_preparation(df: DataFrame,test_or_train) -> DataFrame:\n",
    "\n",
    "    prep_df= df\n",
    "    prep_df['rain_1h'] = prep_df['rain_1h'].replace('', '0')\n",
    "    prep_df['rain_1h'] = pd.to_numeric(prep_df['rain_1h'])\n",
    "            \n",
    "    ### Converter as features categoricas em numericas\n",
    "    prep_df.replace(categorical_to_numerical, inplace=True)\n",
    "\n",
    "    ### Extrair a hora e dia da semana da feature 'record_date'\n",
    "    record_date = pd.DatetimeIndex(prep_df['Data'])\n",
    "\n",
    "    prep_df['Month'] = record_date.month\n",
    "    prep_df['Day'] = record_date.day\n",
    "    prep_df['Year'] = record_date.year\n",
    "\n",
    "    dropped_columns = ['grnd_level','sea_level','dt','Data','city_name']\n",
    "    prep_df = prep_df.drop(dropped_columns, axis=1)\n",
    "\n",
    "    prep_df.loc[(prep_df['Hora'] < 6) & (prep_df['Hora'] > 21), 'Injecao na rede (kWh)'] = 0\n",
    "\n",
    "    \n",
    "\n",
    "   \n",
    "    ### Limites superior e inferior (sem outliers) dos diagramas de caixa\n",
    "    whiskers = []\n",
    "    for num in numeric_columns:\n",
    "        Q1 = prep_df[num].quantile(0.25)\n",
    "        Q3 = prep_df[num].quantile(0.75)\n",
    "        IQR = Q3 - Q1\n",
    "\n",
    "        lower = Q1 - 1.5 * IQR\n",
    "        upper = Q3 + 1.5 * IQR\n",
    "        whiskers.append((num,lower,upper))\n",
    "\n",
    "    ### Tratar os outliers das features numéricas:\n",
    "    ### Substituir os valores dos outliers pela mediana\n",
    "    if(test_or_train == \"train\"):\n",
    "        for num, lower, upper in whiskers:\n",
    "            prep_df = prep_df[(prep_df[num] >= lower) & (prep_df[num] <= upper)]\n",
    "\n",
    "    return prep_df"
   ]
  },
  {
   "cell_type": "code",
   "execution_count": 14,
   "metadata": {},
   "outputs": [],
   "source": [
    "prep_df = random_forest_data_preparation(train_df,\"train\")\n",
    "\n",
    "X = prep_df\n",
    "\n",
    "# Separate the target variable from the input features\n",
    "y = X['Injecao na rede (kWh)']\n",
    "X.drop(columns=['Injecao na rede (kWh)'], inplace=True)\n",
    "\n",
    "# Split the data into training and test sets\n",
    "X_train, X_test, y_train, y_test = train_test_split(X, y, test_size=0.2, random_state=SEED)"
   ]
  },
  {
   "cell_type": "code",
   "execution_count": 15,
   "metadata": {},
   "outputs": [
    {
     "name": "stdout",
     "output_type": "stream",
     "text": [
      "Fitting 3 folds for each of 10 candidates, totalling 30 fits\n",
      "[CV] END max_depth=40, min_samples_leaf=5, min_samples_split=6, n_estimators=370; total time=   3.0s\n",
      "[CV] END max_depth=40, min_samples_leaf=5, min_samples_split=6, n_estimators=370; total time=   3.1s\n",
      "[CV] END max_depth=40, min_samples_leaf=5, min_samples_split=6, n_estimators=370; total time=   2.8s\n",
      "[CV] END max_depth=44, min_samples_leaf=9, min_samples_split=6, n_estimators=120; total time=   0.7s\n",
      "[CV] END max_depth=44, min_samples_leaf=9, min_samples_split=6, n_estimators=120; total time=   0.7s\n",
      "[CV] END max_depth=44, min_samples_leaf=9, min_samples_split=6, n_estimators=120; total time=   0.7s\n",
      "[CV] END max_depth=40, min_samples_leaf=3, min_samples_split=4, n_estimators=314; total time=   2.6s\n",
      "[CV] END max_depth=40, min_samples_leaf=3, min_samples_split=4, n_estimators=314; total time=   2.6s\n",
      "[CV] END max_depth=40, min_samples_leaf=3, min_samples_split=4, n_estimators=314; total time=   2.5s\n",
      "[CV] END max_depth=12, min_samples_leaf=4, min_samples_split=9, n_estimators=472; total time=   3.6s\n",
      "[CV] END max_depth=12, min_samples_leaf=4, min_samples_split=9, n_estimators=472; total time=   3.6s\n",
      "[CV] END max_depth=12, min_samples_leaf=4, min_samples_split=9, n_estimators=472; total time=   3.5s\n",
      "[CV] END max_depth=37, min_samples_leaf=9, min_samples_split=9, n_estimators=230; total time=   1.5s\n",
      "[CV] END max_depth=37, min_samples_leaf=9, min_samples_split=9, n_estimators=230; total time=   1.5s\n",
      "[CV] END max_depth=37, min_samples_leaf=9, min_samples_split=9, n_estimators=230; total time=   1.5s\n",
      "[CV] END max_depth=23, min_samples_leaf=6, min_samples_split=3, n_estimators=443; total time=   3.1s\n",
      "[CV] END max_depth=23, min_samples_leaf=6, min_samples_split=3, n_estimators=443; total time=   3.3s\n",
      "[CV] END max_depth=23, min_samples_leaf=6, min_samples_split=3, n_estimators=443; total time=   3.1s\n",
      "[CV] END max_depth=45, min_samples_leaf=7, min_samples_split=7, n_estimators=485; total time=   3.3s\n",
      "[CV] END max_depth=45, min_samples_leaf=7, min_samples_split=7, n_estimators=485; total time=   3.4s\n",
      "[CV] END max_depth=45, min_samples_leaf=7, min_samples_split=7, n_estimators=485; total time=   3.3s\n",
      "[CV] END max_depth=22, min_samples_leaf=2, min_samples_split=5, n_estimators=413; total time=   3.5s\n",
      "[CV] END max_depth=22, min_samples_leaf=2, min_samples_split=5, n_estimators=413; total time=   3.5s\n",
      "[CV] END max_depth=22, min_samples_leaf=2, min_samples_split=5, n_estimators=413; total time=   3.5s\n",
      "[CV] END max_depth=23, min_samples_leaf=6, min_samples_split=5, n_estimators=956; total time=   6.7s\n",
      "[CV] END max_depth=23, min_samples_leaf=6, min_samples_split=5, n_estimators=956; total time=   6.8s\n",
      "[CV] END max_depth=23, min_samples_leaf=6, min_samples_split=5, n_estimators=956; total time=   6.7s\n",
      "[CV] END max_depth=28, min_samples_leaf=4, min_samples_split=8, n_estimators=781; total time=   5.9s\n",
      "[CV] END max_depth=28, min_samples_leaf=4, min_samples_split=8, n_estimators=781; total time=   5.9s\n",
      "[CV] END max_depth=28, min_samples_leaf=4, min_samples_split=8, n_estimators=781; total time=   5.8s\n"
     ]
    },
    {
     "data": {
      "text/html": [
       "<style>#sk-container-id-3 {color: black;}#sk-container-id-3 pre{padding: 0;}#sk-container-id-3 div.sk-toggleable {background-color: white;}#sk-container-id-3 label.sk-toggleable__label {cursor: pointer;display: block;width: 100%;margin-bottom: 0;padding: 0.3em;box-sizing: border-box;text-align: center;}#sk-container-id-3 label.sk-toggleable__label-arrow:before {content: \"▸\";float: left;margin-right: 0.25em;color: #696969;}#sk-container-id-3 label.sk-toggleable__label-arrow:hover:before {color: black;}#sk-container-id-3 div.sk-estimator:hover label.sk-toggleable__label-arrow:before {color: black;}#sk-container-id-3 div.sk-toggleable__content {max-height: 0;max-width: 0;overflow: hidden;text-align: left;background-color: #f0f8ff;}#sk-container-id-3 div.sk-toggleable__content pre {margin: 0.2em;color: black;border-radius: 0.25em;background-color: #f0f8ff;}#sk-container-id-3 input.sk-toggleable__control:checked~div.sk-toggleable__content {max-height: 200px;max-width: 100%;overflow: auto;}#sk-container-id-3 input.sk-toggleable__control:checked~label.sk-toggleable__label-arrow:before {content: \"▾\";}#sk-container-id-3 div.sk-estimator input.sk-toggleable__control:checked~label.sk-toggleable__label {background-color: #d4ebff;}#sk-container-id-3 div.sk-label input.sk-toggleable__control:checked~label.sk-toggleable__label {background-color: #d4ebff;}#sk-container-id-3 input.sk-hidden--visually {border: 0;clip: rect(1px 1px 1px 1px);clip: rect(1px, 1px, 1px, 1px);height: 1px;margin: -1px;overflow: hidden;padding: 0;position: absolute;width: 1px;}#sk-container-id-3 div.sk-estimator {font-family: monospace;background-color: #f0f8ff;border: 1px dotted black;border-radius: 0.25em;box-sizing: border-box;margin-bottom: 0.5em;}#sk-container-id-3 div.sk-estimator:hover {background-color: #d4ebff;}#sk-container-id-3 div.sk-parallel-item::after {content: \"\";width: 100%;border-bottom: 1px solid gray;flex-grow: 1;}#sk-container-id-3 div.sk-label:hover label.sk-toggleable__label {background-color: #d4ebff;}#sk-container-id-3 div.sk-serial::before {content: \"\";position: absolute;border-left: 1px solid gray;box-sizing: border-box;top: 0;bottom: 0;left: 50%;z-index: 0;}#sk-container-id-3 div.sk-serial {display: flex;flex-direction: column;align-items: center;background-color: white;padding-right: 0.2em;padding-left: 0.2em;position: relative;}#sk-container-id-3 div.sk-item {position: relative;z-index: 1;}#sk-container-id-3 div.sk-parallel {display: flex;align-items: stretch;justify-content: center;background-color: white;position: relative;}#sk-container-id-3 div.sk-item::before, #sk-container-id-3 div.sk-parallel-item::before {content: \"\";position: absolute;border-left: 1px solid gray;box-sizing: border-box;top: 0;bottom: 0;left: 50%;z-index: -1;}#sk-container-id-3 div.sk-parallel-item {display: flex;flex-direction: column;z-index: 1;position: relative;background-color: white;}#sk-container-id-3 div.sk-parallel-item:first-child::after {align-self: flex-end;width: 50%;}#sk-container-id-3 div.sk-parallel-item:last-child::after {align-self: flex-start;width: 50%;}#sk-container-id-3 div.sk-parallel-item:only-child::after {width: 0;}#sk-container-id-3 div.sk-dashed-wrapped {border: 1px dashed gray;margin: 0 0.4em 0.5em 0.4em;box-sizing: border-box;padding-bottom: 0.4em;background-color: white;}#sk-container-id-3 div.sk-label label {font-family: monospace;font-weight: bold;display: inline-block;line-height: 1.2em;}#sk-container-id-3 div.sk-label-container {text-align: center;}#sk-container-id-3 div.sk-container {/* jupyter's `normalize.less` sets `[hidden] { display: none; }` but bootstrap.min.css set `[hidden] { display: none !important; }` so we also need the `!important` here to be able to override the default hidden behavior on the sphinx rendered scikit-learn.org. See: https://github.com/scikit-learn/scikit-learn/issues/21755 */display: inline-block !important;position: relative;}#sk-container-id-3 div.sk-text-repr-fallback {display: none;}</style><div id=\"sk-container-id-3\" class=\"sk-top-container\"><div class=\"sk-text-repr-fallback\"><pre>RandomizedSearchCV(cv=3,\n",
       "                   estimator=RandomForestClassifier(max_depth=100,\n",
       "                                                    n_estimators=200,\n",
       "                                                    random_state=13122001),\n",
       "                   n_jobs=1,\n",
       "                   param_distributions={&#x27;max_depth&#x27;: &lt;scipy.stats._distn_infrastructure.rv_discrete_frozen object at 0x000001F7C41115A0&gt;,\n",
       "                                        &#x27;min_samples_leaf&#x27;: &lt;scipy.stats._distn_infrastructure.rv_discrete_frozen object at 0x000001F7C4113820&gt;,\n",
       "                                        &#x27;min_samples_split&#x27;: &lt;scipy.stats._distn_infrastructure.rv_discrete_frozen object at 0x000001F7C4110E20&gt;,\n",
       "                                        &#x27;n_estimators&#x27;: &lt;scipy.stats._distn_infrastructure.rv_discrete_frozen object at 0x000001F7C4111630&gt;},\n",
       "                   random_state=42, return_train_score=True, verbose=2)</pre><b>In a Jupyter environment, please rerun this cell to show the HTML representation or trust the notebook. <br />On GitHub, the HTML representation is unable to render, please try loading this page with nbviewer.org.</b></div><div class=\"sk-container\" hidden><div class=\"sk-item sk-dashed-wrapped\"><div class=\"sk-label-container\"><div class=\"sk-label sk-toggleable\"><input class=\"sk-toggleable__control sk-hidden--visually\" id=\"sk-estimator-id-5\" type=\"checkbox\" ><label for=\"sk-estimator-id-5\" class=\"sk-toggleable__label sk-toggleable__label-arrow\">RandomizedSearchCV</label><div class=\"sk-toggleable__content\"><pre>RandomizedSearchCV(cv=3,\n",
       "                   estimator=RandomForestClassifier(max_depth=100,\n",
       "                                                    n_estimators=200,\n",
       "                                                    random_state=13122001),\n",
       "                   n_jobs=1,\n",
       "                   param_distributions={&#x27;max_depth&#x27;: &lt;scipy.stats._distn_infrastructure.rv_discrete_frozen object at 0x000001F7C41115A0&gt;,\n",
       "                                        &#x27;min_samples_leaf&#x27;: &lt;scipy.stats._distn_infrastructure.rv_discrete_frozen object at 0x000001F7C4113820&gt;,\n",
       "                                        &#x27;min_samples_split&#x27;: &lt;scipy.stats._distn_infrastructure.rv_discrete_frozen object at 0x000001F7C4110E20&gt;,\n",
       "                                        &#x27;n_estimators&#x27;: &lt;scipy.stats._distn_infrastructure.rv_discrete_frozen object at 0x000001F7C4111630&gt;},\n",
       "                   random_state=42, return_train_score=True, verbose=2)</pre></div></div></div><div class=\"sk-parallel\"><div class=\"sk-parallel-item\"><div class=\"sk-item\"><div class=\"sk-label-container\"><div class=\"sk-label sk-toggleable\"><input class=\"sk-toggleable__control sk-hidden--visually\" id=\"sk-estimator-id-6\" type=\"checkbox\" ><label for=\"sk-estimator-id-6\" class=\"sk-toggleable__label sk-toggleable__label-arrow\">estimator: RandomForestClassifier</label><div class=\"sk-toggleable__content\"><pre>RandomForestClassifier(max_depth=100, n_estimators=200, random_state=13122001)</pre></div></div></div><div class=\"sk-serial\"><div class=\"sk-item\"><div class=\"sk-estimator sk-toggleable\"><input class=\"sk-toggleable__control sk-hidden--visually\" id=\"sk-estimator-id-7\" type=\"checkbox\" ><label for=\"sk-estimator-id-7\" class=\"sk-toggleable__label sk-toggleable__label-arrow\">RandomForestClassifier</label><div class=\"sk-toggleable__content\"><pre>RandomForestClassifier(max_depth=100, n_estimators=200, random_state=13122001)</pre></div></div></div></div></div></div></div></div></div></div>"
      ],
      "text/plain": [
       "RandomizedSearchCV(cv=3,\n",
       "                   estimator=RandomForestClassifier(max_depth=100,\n",
       "                                                    n_estimators=200,\n",
       "                                                    random_state=13122001),\n",
       "                   n_jobs=1,\n",
       "                   param_distributions={'max_depth': <scipy.stats._distn_infrastructure.rv_discrete_frozen object at 0x000001F7C41115A0>,\n",
       "                                        'min_samples_leaf': <scipy.stats._distn_infrastructure.rv_discrete_frozen object at 0x000001F7C4113820>,\n",
       "                                        'min_samples_split': <scipy.stats._distn_infrastructure.rv_discrete_frozen object at 0x000001F7C4110E20>,\n",
       "                                        'n_estimators': <scipy.stats._distn_infrastructure.rv_discrete_frozen object at 0x000001F7C4111630>},\n",
       "                   random_state=42, return_train_score=True, verbose=2)"
      ]
     },
     "execution_count": 15,
     "metadata": {},
     "output_type": "execute_result"
    }
   ],
   "source": [
    "params = {\n",
    "    \"max_depth\": randint(2, 50), # default 3\n",
    "    \"n_estimators\": randint(100, 1000), # default 100\n",
    "    \"min_samples_split\":randint(2,10),\n",
    "    \"min_samples_leaf\":randint(2,10)\n",
    "}\n",
    "kf = KFold(n_splits=5,shuffle=True,random_state=SEED)\n",
    "\n",
    "model= RandomForestClassifier(random_state=13122001,n_estimators=200,max_depth=100)\n",
    "\n",
    "search = RandomizedSearchCV(model, param_distributions=params, random_state=42, cv=3, verbose=2, n_jobs=1, return_train_score=True)\n",
    "\n",
    "search.fit(X_train,np.ravel(y_train))"
   ]
  },
  {
   "cell_type": "code",
   "execution_count": 16,
   "metadata": {},
   "outputs": [
    {
     "data": {
      "text/html": [
       "<style>#sk-container-id-4 {color: black;}#sk-container-id-4 pre{padding: 0;}#sk-container-id-4 div.sk-toggleable {background-color: white;}#sk-container-id-4 label.sk-toggleable__label {cursor: pointer;display: block;width: 100%;margin-bottom: 0;padding: 0.3em;box-sizing: border-box;text-align: center;}#sk-container-id-4 label.sk-toggleable__label-arrow:before {content: \"▸\";float: left;margin-right: 0.25em;color: #696969;}#sk-container-id-4 label.sk-toggleable__label-arrow:hover:before {color: black;}#sk-container-id-4 div.sk-estimator:hover label.sk-toggleable__label-arrow:before {color: black;}#sk-container-id-4 div.sk-toggleable__content {max-height: 0;max-width: 0;overflow: hidden;text-align: left;background-color: #f0f8ff;}#sk-container-id-4 div.sk-toggleable__content pre {margin: 0.2em;color: black;border-radius: 0.25em;background-color: #f0f8ff;}#sk-container-id-4 input.sk-toggleable__control:checked~div.sk-toggleable__content {max-height: 200px;max-width: 100%;overflow: auto;}#sk-container-id-4 input.sk-toggleable__control:checked~label.sk-toggleable__label-arrow:before {content: \"▾\";}#sk-container-id-4 div.sk-estimator input.sk-toggleable__control:checked~label.sk-toggleable__label {background-color: #d4ebff;}#sk-container-id-4 div.sk-label input.sk-toggleable__control:checked~label.sk-toggleable__label {background-color: #d4ebff;}#sk-container-id-4 input.sk-hidden--visually {border: 0;clip: rect(1px 1px 1px 1px);clip: rect(1px, 1px, 1px, 1px);height: 1px;margin: -1px;overflow: hidden;padding: 0;position: absolute;width: 1px;}#sk-container-id-4 div.sk-estimator {font-family: monospace;background-color: #f0f8ff;border: 1px dotted black;border-radius: 0.25em;box-sizing: border-box;margin-bottom: 0.5em;}#sk-container-id-4 div.sk-estimator:hover {background-color: #d4ebff;}#sk-container-id-4 div.sk-parallel-item::after {content: \"\";width: 100%;border-bottom: 1px solid gray;flex-grow: 1;}#sk-container-id-4 div.sk-label:hover label.sk-toggleable__label {background-color: #d4ebff;}#sk-container-id-4 div.sk-serial::before {content: \"\";position: absolute;border-left: 1px solid gray;box-sizing: border-box;top: 0;bottom: 0;left: 50%;z-index: 0;}#sk-container-id-4 div.sk-serial {display: flex;flex-direction: column;align-items: center;background-color: white;padding-right: 0.2em;padding-left: 0.2em;position: relative;}#sk-container-id-4 div.sk-item {position: relative;z-index: 1;}#sk-container-id-4 div.sk-parallel {display: flex;align-items: stretch;justify-content: center;background-color: white;position: relative;}#sk-container-id-4 div.sk-item::before, #sk-container-id-4 div.sk-parallel-item::before {content: \"\";position: absolute;border-left: 1px solid gray;box-sizing: border-box;top: 0;bottom: 0;left: 50%;z-index: -1;}#sk-container-id-4 div.sk-parallel-item {display: flex;flex-direction: column;z-index: 1;position: relative;background-color: white;}#sk-container-id-4 div.sk-parallel-item:first-child::after {align-self: flex-end;width: 50%;}#sk-container-id-4 div.sk-parallel-item:last-child::after {align-self: flex-start;width: 50%;}#sk-container-id-4 div.sk-parallel-item:only-child::after {width: 0;}#sk-container-id-4 div.sk-dashed-wrapped {border: 1px dashed gray;margin: 0 0.4em 0.5em 0.4em;box-sizing: border-box;padding-bottom: 0.4em;background-color: white;}#sk-container-id-4 div.sk-label label {font-family: monospace;font-weight: bold;display: inline-block;line-height: 1.2em;}#sk-container-id-4 div.sk-label-container {text-align: center;}#sk-container-id-4 div.sk-container {/* jupyter's `normalize.less` sets `[hidden] { display: none; }` but bootstrap.min.css set `[hidden] { display: none !important; }` so we also need the `!important` here to be able to override the default hidden behavior on the sphinx rendered scikit-learn.org. See: https://github.com/scikit-learn/scikit-learn/issues/21755 */display: inline-block !important;position: relative;}#sk-container-id-4 div.sk-text-repr-fallback {display: none;}</style><div id=\"sk-container-id-4\" class=\"sk-top-container\"><div class=\"sk-text-repr-fallback\"><pre>RandomForestClassifier(max_depth=22, min_samples_leaf=2, min_samples_split=5,\n",
       "                       n_estimators=413, random_state=13122001)</pre><b>In a Jupyter environment, please rerun this cell to show the HTML representation or trust the notebook. <br />On GitHub, the HTML representation is unable to render, please try loading this page with nbviewer.org.</b></div><div class=\"sk-container\" hidden><div class=\"sk-item\"><div class=\"sk-estimator sk-toggleable\"><input class=\"sk-toggleable__control sk-hidden--visually\" id=\"sk-estimator-id-8\" type=\"checkbox\" checked><label for=\"sk-estimator-id-8\" class=\"sk-toggleable__label sk-toggleable__label-arrow\">RandomForestClassifier</label><div class=\"sk-toggleable__content\"><pre>RandomForestClassifier(max_depth=22, min_samples_leaf=2, min_samples_split=5,\n",
       "                       n_estimators=413, random_state=13122001)</pre></div></div></div></div></div>"
      ],
      "text/plain": [
       "RandomForestClassifier(max_depth=22, min_samples_leaf=2, min_samples_split=5,\n",
       "                       n_estimators=413, random_state=13122001)"
      ]
     },
     "execution_count": 16,
     "metadata": {},
     "output_type": "execute_result"
    }
   ],
   "source": [
    "search.best_estimator_"
   ]
  },
  {
   "cell_type": "code",
   "execution_count": 17,
   "metadata": {},
   "outputs": [
    {
     "name": "stdout",
     "output_type": "stream",
     "text": [
      "              precision    recall  f1-score   support\n",
      "\n",
      "           0       0.97      0.97      0.97      1022\n",
      "           1       0.35      0.14      0.20        51\n",
      "           2       0.53      0.69      0.60       124\n",
      "           3       0.68      0.71      0.69       164\n",
      "           4       0.81      0.63      0.71        73\n",
      "\n",
      "    accuracy                           0.87      1434\n",
      "   macro avg       0.67      0.63      0.63      1434\n",
      "weighted avg       0.87      0.87      0.87      1434\n",
      "\n",
      "Accuracy: 0.8723849372384938\n",
      "F1_score (micro): 0.8723849372384938\n",
      "Recall (micro): 0.8723849372384938\n"
     ]
    }
   ],
   "source": [
    "predictions = search.best_estimator_.predict(X_test)\n",
    "print(classification_report(y_test, predictions))\n",
    "print('Accuracy:', metrics.accuracy_score(y_test, predictions))\n",
    "print('F1_score (micro):', f1_score(y_test, predictions, average='micro'))\n",
    "print('Recall (micro):', recall_score(y_test, predictions, average='micro'))\n",
    "#print(plot_confusion_matrix(search.best_estimator_,X_test,y_test))"
   ]
  },
  {
   "cell_type": "code",
   "execution_count": 18,
   "metadata": {},
   "outputs": [],
   "source": [
    "predict = random_forest_data_preparation(test_df,\"test\").drop('Injecao na rede (kWh)',axis=1)\n",
    "\n",
    "predictions = search.best_estimator_.predict(predict)\n",
    "\n",
    "predictions_df = pd.DataFrame(predictions)\n",
    "\n",
    "numerical_to_categorical = {\n",
    "    0: {\n",
    "        0 : 'None',\n",
    "        1 : 'Low',\n",
    "        2 : 'Medium',\n",
    "        3 : 'High',\n",
    "        4 : 'Very High'\n",
    "    }\n",
    "}\n",
    "\n",
    "predictions_df.replace(numerical_to_categorical, inplace=True)\n",
    "\n",
    "predictions_df.index += 1\n",
    "\n",
    "predictions_df.to_csv(\"submission.csv\", header=['Result'], index_label='RowId')"
   ]
  }
 ],
 "metadata": {
  "kernelspec": {
   "display_name": "envNAME",
   "language": "python",
   "name": "python3"
  },
  "language_info": {
   "codemirror_mode": {
    "name": "ipython",
    "version": 3
   },
   "file_extension": ".py",
   "mimetype": "text/x-python",
   "name": "python",
   "nbconvert_exporter": "python",
   "pygments_lexer": "ipython3",
   "version": "3.10.0"
  }
 },
 "nbformat": 4,
 "nbformat_minor": 2
}
