{
 "cells": [
  {
   "cell_type": "code",
   "execution_count": 2,
   "metadata": {},
   "outputs": [
    {
     "name": "stdout",
     "output_type": "stream",
     "text": [
      "Requirement already satisfied: openpyxl in c:\\users\\joaom\\miniconda3\\envs\\envname\\lib\\site-packages (3.1.2)\n",
      "Requirement already satisfied: et-xmlfile in c:\\users\\joaom\\miniconda3\\envs\\envname\\lib\\site-packages (from openpyxl) (1.1.0)\n",
      "Note: you may need to restart the kernel to use updated packages.\n"
     ]
    }
   ],
   "source": [
    "import pandas as pd\n",
    "import numpy as np\n",
    "import matplotlib.pyplot as plt\n",
    "import seaborn as sns\n",
    "import time\n",
    "from sklearn.model_selection import train_test_split\n",
    "from sklearn.impute import SimpleImputer\n",
    "from pandas import DatetimeIndex\n",
    "from pandas.api.types import is_numeric_dtype\n",
    "from sklearn.preprocessing import LabelEncoder\n",
    "from IPython.display import display, HTML \n",
    "\n",
    "pd.set_option('display.max_columns', 500)\n",
    "\n",
    "%pip install openpyxl\n",
    "%matplotlib inline\n"
   ]
  },
  {
   "cell_type": "code",
   "execution_count": 3,
   "metadata": {},
   "outputs": [],
   "source": [
    "df = pd.read_csv('diabetes_data.csv') "
   ]
  },
  {
   "cell_type": "markdown",
   "metadata": {},
   "source": [
    "# Duplicates Drop"
   ]
  },
  {
   "cell_type": "code",
   "execution_count": 14,
   "metadata": {},
   "outputs": [
    {
     "name": "stdout",
     "output_type": "stream",
     "text": [
      "6672\n",
      "        Age  Sex  HighChol  CholCheck   BMI  Smoker  HeartDiseaseorAttack  \\\n",
      "0       4.0  1.0       0.0        1.0  26.0     0.0                   0.0   \n",
      "1      12.0  1.0       1.0        1.0  26.0     1.0                   0.0   \n",
      "2      13.0  1.0       0.0        1.0  26.0     0.0                   0.0   \n",
      "3      11.0  1.0       1.0        1.0  28.0     1.0                   0.0   \n",
      "4       8.0  0.0       0.0        1.0  29.0     1.0                   0.0   \n",
      "...     ...  ...       ...        ...   ...     ...                   ...   \n",
      "70687   6.0  0.0       1.0        1.0  37.0     0.0                   0.0   \n",
      "70688  10.0  1.0       1.0        1.0  29.0     1.0                   1.0   \n",
      "70689  13.0  0.0       1.0        1.0  25.0     0.0                   1.0   \n",
      "70690  11.0  0.0       1.0        1.0  18.0     0.0                   0.0   \n",
      "70691   9.0  0.0       1.0        1.0  25.0     0.0                   1.0   \n",
      "\n",
      "       PhysActivity  Fruits  Veggies  HvyAlcoholConsump  GenHlth  MentHlth  \\\n",
      "0               1.0     0.0      1.0                0.0      3.0       5.0   \n",
      "1               0.0     1.0      0.0                0.0      3.0       0.0   \n",
      "2               1.0     1.0      1.0                0.0      1.0       0.0   \n",
      "3               1.0     1.0      1.0                0.0      3.0       0.0   \n",
      "4               1.0     1.0      1.0                0.0      2.0       0.0   \n",
      "...             ...     ...      ...                ...      ...       ...   \n",
      "70687           0.0     0.0      1.0                0.0      4.0       0.0   \n",
      "70688           0.0     1.0      1.0                0.0      2.0       0.0   \n",
      "70689           0.0     1.0      0.0                0.0      5.0      15.0   \n",
      "70690           0.0     0.0      0.0                0.0      4.0       0.0   \n",
      "70691           1.0     1.0      0.0                0.0      2.0       0.0   \n",
      "\n",
      "       PhysHlth  DiffWalk  Stroke  HighBP  Diabetes  \n",
      "0          30.0       0.0     0.0     1.0       0.0  \n",
      "1           0.0       0.0     1.0     1.0       0.0  \n",
      "2          10.0       0.0     0.0     0.0       0.0  \n",
      "3           3.0       0.0     0.0     1.0       0.0  \n",
      "4           0.0       0.0     0.0     0.0       0.0  \n",
      "...         ...       ...     ...     ...       ...  \n",
      "70687       0.0       0.0     0.0     0.0       1.0  \n",
      "70688       0.0       1.0     0.0     0.0       1.0  \n",
      "70689       0.0       1.0     0.0     1.0       1.0  \n",
      "70690       0.0       1.0     0.0     1.0       1.0  \n",
      "70691       0.0       0.0     0.0     1.0       1.0  \n",
      "\n",
      "[64020 rows x 18 columns]\n"
     ]
    },
    {
     "data": {
      "text/plain": [
       "Diabetes\n",
       "0.0    35346\n",
       "1.0    35346\n",
       "Name: count, dtype: int64"
      ]
     },
     "execution_count": 14,
     "metadata": {},
     "output_type": "execute_result"
    }
   ],
   "source": [
    "print(df.duplicated().sum())\n",
    "print(df.drop_duplicates())\n",
    "df['Diabetes'].value_counts()\n"
   ]
  },
  {
   "cell_type": "code",
   "execution_count": null,
   "metadata": {},
   "outputs": [],
   "source": []
  }
 ],
 "metadata": {
  "kernelspec": {
   "display_name": "envNAME",
   "language": "python",
   "name": "python3"
  },
  "language_info": {
   "codemirror_mode": {
    "name": "ipython",
    "version": 3
   },
   "file_extension": ".py",
   "mimetype": "text/x-python",
   "name": "python",
   "nbconvert_exporter": "python",
   "pygments_lexer": "ipython3",
   "version": "3.10.0"
  }
 },
 "nbformat": 4,
 "nbformat_minor": 2
}
