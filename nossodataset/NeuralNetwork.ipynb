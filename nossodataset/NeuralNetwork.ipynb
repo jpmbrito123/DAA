{
 "cells": [
  {
   "cell_type": "code",
   "execution_count": 18,
   "metadata": {},
   "outputs": [
    {
     "name": "stdout",
     "output_type": "stream",
     "text": [
      "TensorFlow version: 2.10.0\n"
     ]
    }
   ],
   "source": [
    "import numpy as np # linear algebra\n",
    "import pandas as pd # data processing, CSV file I/O (e.g. pd.read_csv)\n",
    "import sklearn as skl\n",
    "import matplotlib.pyplot as plt\n",
    "import seaborn as sns\n",
    "\n",
    "from sklearn import preprocessing\n",
    "from sklearn.model_selection import train_test_split\n",
    "\n",
    "from sklearn.metrics import confusion_matrix,accuracy_score,precision_score,recall_score\n",
    "from sklearn.utils import resample\n",
    "from sklearn.ensemble import RandomForestClassifier\n",
    "from sklearn.metrics import classification_report\n",
    "from sklearn.linear_model import LogisticRegression\n",
    "import time\n",
    "from sklearn.svm import SVC\n",
    "from sklearn.model_selection import GridSearchCV\n",
    "from sklearn import metrics\n",
    "from sklearn.model_selection import cross_val_score\n",
    "from sklearn.metrics import ConfusionMatrixDisplay\n",
    "import tensorflow as tf\n",
    "from tensorflow import keras\n",
    "from tensorflow.keras.models import Sequential\n",
    "from tensorflow.keras.layers import Dense\n",
    "from scikeras.wrappers import KerasRegressor, KerasClassifier\n",
    "#from tensorflow.keras.layers import Dense,Dropout, BatchNormalization\n",
    "#from tensorflow.keras.wrappers.scikit_learn import KerasRegressor,KerasClassifier\n",
    "\n",
    "from sklearn.model_selection import GridSearchCV, KFold, train_test_split\n",
    "from sklearn.preprocessing import MinMaxScaler\n",
    "\n",
    "from tensorflow import keras\n",
    "from livelossplot import PlotLossesKerasTF\n",
    "from sklearn.metrics import f1_score\n",
    "\n",
    "print(\"TensorFlow version:\",tf.__version__)"
   ]
  },
  {
   "cell_type": "markdown",
   "metadata": {},
   "source": [
    "## Get the Data"
   ]
  },
  {
   "cell_type": "code",
   "execution_count": 19,
   "metadata": {},
   "outputs": [],
   "source": [
    "X_train= pd.read_csv('X_train.csv')\n",
    "X_test=pd.read_csv('X_test.csv')\n",
    "y_test=pd.read_csv('y_test.csv')\n",
    "y_train=pd.read_csv('y_train.csv')"
   ]
  },
  {
   "cell_type": "code",
   "execution_count": 20,
   "metadata": {},
   "outputs": [],
   "source": [
    "def build_model(activation='relu',learning_rate=0.01,nodes=[8,16,8]):\n",
    "    model=Sequential()\n",
    "    model.add(Dense(nodes[0],input_dim=len(X_test.columns),activation=activation))\n",
    "    for i in range(1,len(nodes)):\n",
    "      model.add(Dense(nodes[i],activation=activation))\n",
    "    model.add(Dense(1,activation='sigmoid'))\n",
    "    \n",
    "    model.compile(\n",
    "        loss='binary_crossentropy',\n",
    "        optimizer = tf.optimizers.Adam(learning_rate),\n",
    "        metrics = ['accuracy'])\n",
    "    return model"
   ]
  },
  {
   "cell_type": "code",
   "execution_count": 21,
   "metadata": {},
   "outputs": [
    {
     "name": "stdout",
     "output_type": "stream",
     "text": [
      "Model: \"sequential_1\"\n",
      "_________________________________________________________________\n",
      " Layer (type)                Output Shape              Param #   \n",
      "=================================================================\n",
      " dense_4 (Dense)             (None, 8)                 144       \n",
      "                                                                 \n",
      " dense_5 (Dense)             (None, 16)                144       \n",
      "                                                                 \n",
      " dense_6 (Dense)             (None, 8)                 136       \n",
      "                                                                 \n",
      " dense_7 (Dense)             (None, 1)                 9         \n",
      "                                                                 \n",
      "=================================================================\n",
      "Total params: 433\n",
      "Trainable params: 433\n",
      "Non-trainable params: 0\n",
      "_________________________________________________________________\n"
     ]
    }
   ],
   "source": [
    "model = build_model()\n",
    "model.summary()"
   ]
  },
  {
   "cell_type": "code",
   "execution_count": 22,
   "metadata": {},
   "outputs": [],
   "source": [
    "# optimizer = ['SGD', 'RMSprop', 'Adagrad']\n",
    "# param_grid = dict(optimizer = optimizer)\n",
    "TUNING_DICT = {\n",
    "    'activation':['relu'],\n",
    "    'learning_rate':[0.001],\n",
    "    'nodes':[[2048,2048,2048,2048]]\n",
    "}"
   ]
  },
  {
   "cell_type": "code",
   "execution_count": 23,
   "metadata": {},
   "outputs": [],
   "source": [
    "kf = KFold(n_splits=5,shuffle=True,random_state=2023)"
   ]
  },
  {
   "cell_type": "code",
   "execution_count": 33,
   "metadata": {},
   "outputs": [],
   "source": [
    "model = KerasClassifier(build_fn=build_model,epochs=10,batch_size=64, activation='relu', learning_rate=0.001, nodes=[2048, 2048, 2048, 2048])"
   ]
  },
  {
   "cell_type": "code",
   "execution_count": 34,
   "metadata": {},
   "outputs": [],
   "source": [
    "grid_search = GridSearchCV(estimator = model,\n",
    "                           param_grid = TUNING_DICT,\n",
    "                           cv = kf,\n",
    "                           scoring = 'accuracy',\n",
    "                           refit='True',\n",
    "                           verbose=1\n",
    "                          )"
   ]
  },
  {
   "cell_type": "code",
   "execution_count": 35,
   "metadata": {},
   "outputs": [
    {
     "name": "stdout",
     "output_type": "stream",
     "text": [
      "Fitting 5 folds for each of 1 candidates, totalling 5 fits\n"
     ]
    },
    {
     "name": "stderr",
     "output_type": "stream",
     "text": [
      "c:\\Users\\Utilizador\\miniconda3\\envs\\envNAME\\lib\\site-packages\\scikeras\\wrappers.py:915: UserWarning: ``build_fn`` will be renamed to ``model`` in a future release, at which point use of ``build_fn`` will raise an Error instead.\n",
      "  X, y = self._initialize(X, y)\n"
     ]
    },
    {
     "name": "stdout",
     "output_type": "stream",
     "text": [
      "Epoch 1/10\n",
      "395/395 [==============================] - 63s 153ms/step - loss: 0.5068 - accuracy: 0.7422 - val_loss: 0.8985 - val_accuracy: 0.5317\n",
      "Epoch 2/10\n",
      "395/395 [==============================] - 48s 122ms/step - loss: 0.4884 - accuracy: 0.7546 - val_loss: 1.0790 - val_accuracy: 0.3859\n",
      "Epoch 3/10\n",
      "395/395 [==============================] - 46s 116ms/step - loss: 0.4847 - accuracy: 0.7558 - val_loss: 0.7848 - val_accuracy: 0.4865\n",
      "Epoch 4/10\n",
      "395/395 [==============================] - 32s 81ms/step - loss: 0.4797 - accuracy: 0.7604 - val_loss: 0.7112 - val_accuracy: 0.5913\n",
      "Epoch 5/10\n",
      "395/395 [==============================] - 32s 82ms/step - loss: 0.4779 - accuracy: 0.7598 - val_loss: 0.7891 - val_accuracy: 0.5682\n",
      "Epoch 6/10\n",
      "395/395 [==============================] - 37s 95ms/step - loss: 0.4757 - accuracy: 0.7599 - val_loss: 0.8377 - val_accuracy: 0.5866\n",
      "Epoch 7/10\n",
      "395/395 [==============================] - 32s 80ms/step - loss: 0.4740 - accuracy: 0.7648 - val_loss: 0.9532 - val_accuracy: 0.4600\n",
      "Epoch 8/10\n",
      "395/395 [==============================] - 30s 77ms/step - loss: 0.4700 - accuracy: 0.7646 - val_loss: 1.0143 - val_accuracy: 0.5240\n",
      "Epoch 9/10\n",
      "395/395 [==============================] - 41s 104ms/step - loss: 0.4678 - accuracy: 0.7654 - val_loss: 0.8330 - val_accuracy: 0.5443\n",
      "Epoch 10/10\n",
      "395/395 [==============================] - 38s 95ms/step - loss: 0.4637 - accuracy: 0.7682 - val_loss: 0.8540 - val_accuracy: 0.5937\n",
      "141/141 [==============================] - 5s 33ms/step\n"
     ]
    },
    {
     "name": "stderr",
     "output_type": "stream",
     "text": [
      "c:\\Users\\Utilizador\\miniconda3\\envs\\envNAME\\lib\\site-packages\\scikeras\\wrappers.py:915: UserWarning: ``build_fn`` will be renamed to ``model`` in a future release, at which point use of ``build_fn`` will raise an Error instead.\n",
      "  X, y = self._initialize(X, y)\n"
     ]
    },
    {
     "name": "stdout",
     "output_type": "stream",
     "text": [
      "Epoch 1/10\n",
      "395/395 [==============================] - 54s 132ms/step - loss: 0.5127 - accuracy: 0.7347 - val_loss: 0.8942 - val_accuracy: 0.4963\n",
      "Epoch 2/10\n",
      "395/395 [==============================] - 61s 155ms/step - loss: 0.4922 - accuracy: 0.7498 - val_loss: 0.7065 - val_accuracy: 0.5899\n",
      "Epoch 3/10\n",
      "395/395 [==============================] - 43s 108ms/step - loss: 0.4894 - accuracy: 0.7507 - val_loss: 0.7686 - val_accuracy: 0.5480\n",
      "Epoch 4/10\n",
      "395/395 [==============================] - 36s 91ms/step - loss: 0.4852 - accuracy: 0.7535 - val_loss: 0.9144 - val_accuracy: 0.4865\n",
      "Epoch 5/10\n",
      "395/395 [==============================] - 37s 94ms/step - loss: 0.4838 - accuracy: 0.7576 - val_loss: 0.7638 - val_accuracy: 0.5955\n",
      "Epoch 6/10\n",
      "395/395 [==============================] - 35s 90ms/step - loss: 0.4807 - accuracy: 0.7552 - val_loss: 0.8177 - val_accuracy: 0.5054\n",
      "Epoch 7/10\n",
      "395/395 [==============================] - 39s 98ms/step - loss: 0.4776 - accuracy: 0.7586 - val_loss: 0.6736 - val_accuracy: 0.6071\n",
      "Epoch 8/10\n",
      "395/395 [==============================] - 39s 98ms/step - loss: 0.4754 - accuracy: 0.7608 - val_loss: 0.8283 - val_accuracy: 0.5106\n",
      "Epoch 9/10\n",
      "395/395 [==============================] - 39s 99ms/step - loss: 0.4713 - accuracy: 0.7628 - val_loss: 0.7628 - val_accuracy: 0.5067\n",
      "Epoch 10/10\n",
      "395/395 [==============================] - 35s 88ms/step - loss: 0.4685 - accuracy: 0.7639 - val_loss: 0.8287 - val_accuracy: 0.4881\n",
      "141/141 [==============================] - 3s 19ms/step\n"
     ]
    },
    {
     "name": "stderr",
     "output_type": "stream",
     "text": [
      "c:\\Users\\Utilizador\\miniconda3\\envs\\envNAME\\lib\\site-packages\\scikeras\\wrappers.py:915: UserWarning: ``build_fn`` will be renamed to ``model`` in a future release, at which point use of ``build_fn`` will raise an Error instead.\n",
      "  X, y = self._initialize(X, y)\n"
     ]
    },
    {
     "name": "stdout",
     "output_type": "stream",
     "text": [
      "Epoch 1/10\n",
      "395/395 [==============================] - 44s 108ms/step - loss: 0.5106 - accuracy: 0.7384 - val_loss: 0.9771 - val_accuracy: 0.4541\n",
      "Epoch 2/10\n",
      "395/395 [==============================] - 40s 100ms/step - loss: 0.4912 - accuracy: 0.7517 - val_loss: 0.8524 - val_accuracy: 0.5755\n",
      "Epoch 3/10\n",
      "395/395 [==============================] - 39s 98ms/step - loss: 0.4854 - accuracy: 0.7533 - val_loss: 0.8657 - val_accuracy: 0.5544\n",
      "Epoch 4/10\n",
      "395/395 [==============================] - 38s 97ms/step - loss: 0.4820 - accuracy: 0.7551 - val_loss: 0.9183 - val_accuracy: 0.5381\n",
      "Epoch 5/10\n",
      "395/395 [==============================] - 39s 99ms/step - loss: 0.4800 - accuracy: 0.7586 - val_loss: 1.1931 - val_accuracy: 0.2797\n",
      "Epoch 6/10\n",
      "395/395 [==============================] - 41s 103ms/step - loss: 0.4773 - accuracy: 0.7587 - val_loss: 0.7592 - val_accuracy: 0.6394\n",
      "Epoch 7/10\n",
      "395/395 [==============================] - 38s 96ms/step - loss: 0.4759 - accuracy: 0.7606 - val_loss: 0.8477 - val_accuracy: 0.6026\n",
      "Epoch 8/10\n",
      "395/395 [==============================] - 38s 97ms/step - loss: 0.4727 - accuracy: 0.7608 - val_loss: 0.9265 - val_accuracy: 0.4619\n",
      "Epoch 9/10\n",
      "395/395 [==============================] - 40s 101ms/step - loss: 0.4688 - accuracy: 0.7633 - val_loss: 0.7558 - val_accuracy: 0.5644\n",
      "Epoch 10/10\n",
      "395/395 [==============================] - 33s 83ms/step - loss: 0.4672 - accuracy: 0.7646 - val_loss: 0.9035 - val_accuracy: 0.5347\n",
      "141/141 [==============================] - 2s 15ms/step\n"
     ]
    },
    {
     "name": "stderr",
     "output_type": "stream",
     "text": [
      "c:\\Users\\Utilizador\\miniconda3\\envs\\envNAME\\lib\\site-packages\\scikeras\\wrappers.py:915: UserWarning: ``build_fn`` will be renamed to ``model`` in a future release, at which point use of ``build_fn`` will raise an Error instead.\n",
      "  X, y = self._initialize(X, y)\n"
     ]
    },
    {
     "name": "stdout",
     "output_type": "stream",
     "text": [
      "Epoch 1/10\n",
      "395/395 [==============================] - 32s 78ms/step - loss: 0.5090 - accuracy: 0.7393 - val_loss: 1.0145 - val_accuracy: 0.3574\n",
      "Epoch 2/10\n",
      "395/395 [==============================] - 29s 73ms/step - loss: 0.4919 - accuracy: 0.7492 - val_loss: 0.8626 - val_accuracy: 0.5348\n",
      "Epoch 3/10\n",
      "395/395 [==============================] - 30s 76ms/step - loss: 0.4882 - accuracy: 0.7523 - val_loss: 0.8881 - val_accuracy: 0.5466\n",
      "Epoch 4/10\n",
      "395/395 [==============================] - 30s 76ms/step - loss: 0.4849 - accuracy: 0.7540 - val_loss: 0.7825 - val_accuracy: 0.5475\n",
      "Epoch 5/10\n",
      "395/395 [==============================] - 36s 92ms/step - loss: 0.4821 - accuracy: 0.7578 - val_loss: 0.8005 - val_accuracy: 0.6020\n",
      "Epoch 6/10\n",
      "395/395 [==============================] - 30s 76ms/step - loss: 0.4791 - accuracy: 0.7580 - val_loss: 0.7954 - val_accuracy: 0.5655\n",
      "Epoch 7/10\n",
      "395/395 [==============================] - 31s 78ms/step - loss: 0.4769 - accuracy: 0.7607 - val_loss: 0.7891 - val_accuracy: 0.5715\n",
      "Epoch 8/10\n",
      "395/395 [==============================] - 30s 77ms/step - loss: 0.4755 - accuracy: 0.7613 - val_loss: 0.8080 - val_accuracy: 0.5872\n",
      "Epoch 9/10\n",
      "395/395 [==============================] - 28s 71ms/step - loss: 0.4708 - accuracy: 0.7627 - val_loss: 0.9626 - val_accuracy: 0.4377\n",
      "Epoch 10/10\n",
      "395/395 [==============================] - 28s 72ms/step - loss: 0.4670 - accuracy: 0.7648 - val_loss: 0.7593 - val_accuracy: 0.5721\n",
      "141/141 [==============================] - 2s 16ms/step\n"
     ]
    },
    {
     "name": "stderr",
     "output_type": "stream",
     "text": [
      "c:\\Users\\Utilizador\\miniconda3\\envs\\envNAME\\lib\\site-packages\\scikeras\\wrappers.py:915: UserWarning: ``build_fn`` will be renamed to ``model`` in a future release, at which point use of ``build_fn`` will raise an Error instead.\n",
      "  X, y = self._initialize(X, y)\n"
     ]
    },
    {
     "name": "stdout",
     "output_type": "stream",
     "text": [
      "Epoch 1/10\n",
      "395/395 [==============================] - 33s 75ms/step - loss: 0.5100 - accuracy: 0.7362 - val_loss: 0.9358 - val_accuracy: 0.5188\n",
      "Epoch 2/10\n",
      "395/395 [==============================] - 30s 75ms/step - loss: 0.4934 - accuracy: 0.7494 - val_loss: 1.1371 - val_accuracy: 0.2330\n",
      "Epoch 3/10\n",
      "395/395 [==============================] - 29s 73ms/step - loss: 0.4893 - accuracy: 0.7504 - val_loss: 0.9014 - val_accuracy: 0.4500\n",
      "Epoch 4/10\n",
      "395/395 [==============================] - 30s 77ms/step - loss: 0.4846 - accuracy: 0.7547 - val_loss: 1.0279 - val_accuracy: 0.4454\n",
      "Epoch 5/10\n",
      "395/395 [==============================] - 31s 78ms/step - loss: 0.4806 - accuracy: 0.7578 - val_loss: 0.9276 - val_accuracy: 0.4366\n",
      "Epoch 6/10\n",
      "395/395 [==============================] - 30s 75ms/step - loss: 0.4815 - accuracy: 0.7576 - val_loss: 0.7730 - val_accuracy: 0.6093\n",
      "Epoch 7/10\n",
      "395/395 [==============================] - 28s 72ms/step - loss: 0.4752 - accuracy: 0.7597 - val_loss: 0.8914 - val_accuracy: 0.5047\n",
      "Epoch 8/10\n",
      "395/395 [==============================] - 29s 74ms/step - loss: 0.4745 - accuracy: 0.7606 - val_loss: 0.8558 - val_accuracy: 0.5463\n",
      "Epoch 9/10\n",
      "395/395 [==============================] - 32s 82ms/step - loss: 0.4704 - accuracy: 0.7641 - val_loss: 0.7936 - val_accuracy: 0.5860\n",
      "Epoch 10/10\n",
      "395/395 [==============================] - 30s 76ms/step - loss: 0.4690 - accuracy: 0.7664 - val_loss: 0.9063 - val_accuracy: 0.5042\n",
      "141/141 [==============================] - 3s 17ms/step\n"
     ]
    },
    {
     "name": "stderr",
     "output_type": "stream",
     "text": [
      "c:\\Users\\Utilizador\\miniconda3\\envs\\envNAME\\lib\\site-packages\\scikeras\\wrappers.py:915: UserWarning: ``build_fn`` will be renamed to ``model`` in a future release, at which point use of ``build_fn`` will raise an Error instead.\n",
      "  X, y = self._initialize(X, y)\n"
     ]
    },
    {
     "name": "stdout",
     "output_type": "stream",
     "text": [
      "Epoch 1/10\n",
      "494/494 [==============================] - 41s 81ms/step - loss: 0.5058 - accuracy: 0.7419 - val_loss: 0.8789 - val_accuracy: 0.5971\n",
      "Epoch 2/10\n",
      "494/494 [==============================] - 38s 76ms/step - loss: 0.4903 - accuracy: 0.7515 - val_loss: 0.6585 - val_accuracy: 0.6155\n",
      "Epoch 3/10\n",
      "494/494 [==============================] - 38s 77ms/step - loss: 0.4861 - accuracy: 0.7558 - val_loss: 0.8469 - val_accuracy: 0.5275\n",
      "Epoch 4/10\n",
      "494/494 [==============================] - 52s 105ms/step - loss: 0.4830 - accuracy: 0.7557 - val_loss: 0.9784 - val_accuracy: 0.5435\n",
      "Epoch 5/10\n",
      "494/494 [==============================] - 47s 96ms/step - loss: 0.4812 - accuracy: 0.7561 - val_loss: 0.9062 - val_accuracy: 0.5224\n",
      "Epoch 6/10\n",
      "494/494 [==============================] - 42s 85ms/step - loss: 0.4782 - accuracy: 0.7587 - val_loss: 0.7532 - val_accuracy: 0.6158\n",
      "Epoch 7/10\n",
      "494/494 [==============================] - 41s 83ms/step - loss: 0.4757 - accuracy: 0.7603 - val_loss: 0.9507 - val_accuracy: 0.5202\n",
      "Epoch 8/10\n",
      "494/494 [==============================] - 42s 85ms/step - loss: 0.4727 - accuracy: 0.7612 - val_loss: 0.9846 - val_accuracy: 0.3901\n",
      "Epoch 9/10\n",
      "494/494 [==============================] - 42s 85ms/step - loss: 0.4696 - accuracy: 0.7629 - val_loss: 0.9451 - val_accuracy: 0.4427\n",
      "Epoch 10/10\n",
      "494/494 [==============================] - 41s 83ms/step - loss: 0.4660 - accuracy: 0.7682 - val_loss: 0.7998 - val_accuracy: 0.5646\n"
     ]
    },
    {
     "data": {
      "text/html": [
       "<style>#sk-container-id-1 {color: black;}#sk-container-id-1 pre{padding: 0;}#sk-container-id-1 div.sk-toggleable {background-color: white;}#sk-container-id-1 label.sk-toggleable__label {cursor: pointer;display: block;width: 100%;margin-bottom: 0;padding: 0.3em;box-sizing: border-box;text-align: center;}#sk-container-id-1 label.sk-toggleable__label-arrow:before {content: \"▸\";float: left;margin-right: 0.25em;color: #696969;}#sk-container-id-1 label.sk-toggleable__label-arrow:hover:before {color: black;}#sk-container-id-1 div.sk-estimator:hover label.sk-toggleable__label-arrow:before {color: black;}#sk-container-id-1 div.sk-toggleable__content {max-height: 0;max-width: 0;overflow: hidden;text-align: left;background-color: #f0f8ff;}#sk-container-id-1 div.sk-toggleable__content pre {margin: 0.2em;color: black;border-radius: 0.25em;background-color: #f0f8ff;}#sk-container-id-1 input.sk-toggleable__control:checked~div.sk-toggleable__content {max-height: 200px;max-width: 100%;overflow: auto;}#sk-container-id-1 input.sk-toggleable__control:checked~label.sk-toggleable__label-arrow:before {content: \"▾\";}#sk-container-id-1 div.sk-estimator input.sk-toggleable__control:checked~label.sk-toggleable__label {background-color: #d4ebff;}#sk-container-id-1 div.sk-label input.sk-toggleable__control:checked~label.sk-toggleable__label {background-color: #d4ebff;}#sk-container-id-1 input.sk-hidden--visually {border: 0;clip: rect(1px 1px 1px 1px);clip: rect(1px, 1px, 1px, 1px);height: 1px;margin: -1px;overflow: hidden;padding: 0;position: absolute;width: 1px;}#sk-container-id-1 div.sk-estimator {font-family: monospace;background-color: #f0f8ff;border: 1px dotted black;border-radius: 0.25em;box-sizing: border-box;margin-bottom: 0.5em;}#sk-container-id-1 div.sk-estimator:hover {background-color: #d4ebff;}#sk-container-id-1 div.sk-parallel-item::after {content: \"\";width: 100%;border-bottom: 1px solid gray;flex-grow: 1;}#sk-container-id-1 div.sk-label:hover label.sk-toggleable__label {background-color: #d4ebff;}#sk-container-id-1 div.sk-serial::before {content: \"\";position: absolute;border-left: 1px solid gray;box-sizing: border-box;top: 0;bottom: 0;left: 50%;z-index: 0;}#sk-container-id-1 div.sk-serial {display: flex;flex-direction: column;align-items: center;background-color: white;padding-right: 0.2em;padding-left: 0.2em;position: relative;}#sk-container-id-1 div.sk-item {position: relative;z-index: 1;}#sk-container-id-1 div.sk-parallel {display: flex;align-items: stretch;justify-content: center;background-color: white;position: relative;}#sk-container-id-1 div.sk-item::before, #sk-container-id-1 div.sk-parallel-item::before {content: \"\";position: absolute;border-left: 1px solid gray;box-sizing: border-box;top: 0;bottom: 0;left: 50%;z-index: -1;}#sk-container-id-1 div.sk-parallel-item {display: flex;flex-direction: column;z-index: 1;position: relative;background-color: white;}#sk-container-id-1 div.sk-parallel-item:first-child::after {align-self: flex-end;width: 50%;}#sk-container-id-1 div.sk-parallel-item:last-child::after {align-self: flex-start;width: 50%;}#sk-container-id-1 div.sk-parallel-item:only-child::after {width: 0;}#sk-container-id-1 div.sk-dashed-wrapped {border: 1px dashed gray;margin: 0 0.4em 0.5em 0.4em;box-sizing: border-box;padding-bottom: 0.4em;background-color: white;}#sk-container-id-1 div.sk-label label {font-family: monospace;font-weight: bold;display: inline-block;line-height: 1.2em;}#sk-container-id-1 div.sk-label-container {text-align: center;}#sk-container-id-1 div.sk-container {/* jupyter's `normalize.less` sets `[hidden] { display: none; }` but bootstrap.min.css set `[hidden] { display: none !important; }` so we also need the `!important` here to be able to override the default hidden behavior on the sphinx rendered scikit-learn.org. See: https://github.com/scikit-learn/scikit-learn/issues/21755 */display: inline-block !important;position: relative;}#sk-container-id-1 div.sk-text-repr-fallback {display: none;}</style><div id=\"sk-container-id-1\" class=\"sk-top-container\"><div class=\"sk-text-repr-fallback\"><pre>GridSearchCV(cv=KFold(n_splits=5, random_state=2023, shuffle=True),\n",
       "             estimator=KerasClassifier(activation=&#x27;relu&#x27;, batch_size=64, build_fn=&lt;function build_model at 0x0000027B74A8E560&gt;, epochs=10, learning_rate=0.001, nodes=[2048, 2048, 2048, 2048]),\n",
       "             param_grid={&#x27;activation&#x27;: [&#x27;relu&#x27;], &#x27;learning_rate&#x27;: [0.001],\n",
       "                         &#x27;nodes&#x27;: [[2048, 2048, 2048, 2048]]},\n",
       "             refit=&#x27;True&#x27;, scoring=&#x27;accuracy&#x27;, verbose=1)</pre><b>In a Jupyter environment, please rerun this cell to show the HTML representation or trust the notebook. <br />On GitHub, the HTML representation is unable to render, please try loading this page with nbviewer.org.</b></div><div class=\"sk-container\" hidden><div class=\"sk-item sk-dashed-wrapped\"><div class=\"sk-label-container\"><div class=\"sk-label sk-toggleable\"><input class=\"sk-toggleable__control sk-hidden--visually\" id=\"sk-estimator-id-1\" type=\"checkbox\" ><label for=\"sk-estimator-id-1\" class=\"sk-toggleable__label sk-toggleable__label-arrow\">GridSearchCV</label><div class=\"sk-toggleable__content\"><pre>GridSearchCV(cv=KFold(n_splits=5, random_state=2023, shuffle=True),\n",
       "             estimator=KerasClassifier(activation=&#x27;relu&#x27;, batch_size=64, build_fn=&lt;function build_model at 0x0000027B74A8E560&gt;, epochs=10, learning_rate=0.001, nodes=[2048, 2048, 2048, 2048]),\n",
       "             param_grid={&#x27;activation&#x27;: [&#x27;relu&#x27;], &#x27;learning_rate&#x27;: [0.001],\n",
       "                         &#x27;nodes&#x27;: [[2048, 2048, 2048, 2048]]},\n",
       "             refit=&#x27;True&#x27;, scoring=&#x27;accuracy&#x27;, verbose=1)</pre></div></div></div><div class=\"sk-parallel\"><div class=\"sk-parallel-item\"><div class=\"sk-item\"><div class=\"sk-label-container\"><div class=\"sk-label sk-toggleable\"><input class=\"sk-toggleable__control sk-hidden--visually\" id=\"sk-estimator-id-2\" type=\"checkbox\" ><label for=\"sk-estimator-id-2\" class=\"sk-toggleable__label sk-toggleable__label-arrow\">estimator: KerasClassifier</label><div class=\"sk-toggleable__content\"><pre>KerasClassifier(\n",
       "\tmodel=None\n",
       "\tbuild_fn=&lt;function build_model at 0x0000027B74A8E560&gt;\n",
       "\twarm_start=False\n",
       "\trandom_state=None\n",
       "\toptimizer=rmsprop\n",
       "\tloss=None\n",
       "\tmetrics=None\n",
       "\tbatch_size=64\n",
       "\tvalidation_batch_size=None\n",
       "\tverbose=1\n",
       "\tcallbacks=None\n",
       "\tvalidation_split=0.0\n",
       "\tshuffle=True\n",
       "\trun_eagerly=False\n",
       "\tepochs=10\n",
       "\tactivation=relu\n",
       "\tlearning_rate=0.001\n",
       "\tnodes=[2048, 2048, 2048, 2048]\n",
       "\tclass_weight=None\n",
       ")</pre></div></div></div><div class=\"sk-serial\"><div class=\"sk-item\"><div class=\"sk-estimator sk-toggleable\"><input class=\"sk-toggleable__control sk-hidden--visually\" id=\"sk-estimator-id-3\" type=\"checkbox\" ><label for=\"sk-estimator-id-3\" class=\"sk-toggleable__label sk-toggleable__label-arrow\">KerasClassifier</label><div class=\"sk-toggleable__content\"><pre>KerasClassifier(\n",
       "\tmodel=None\n",
       "\tbuild_fn=&lt;function build_model at 0x0000027B74A8E560&gt;\n",
       "\twarm_start=False\n",
       "\trandom_state=None\n",
       "\toptimizer=rmsprop\n",
       "\tloss=None\n",
       "\tmetrics=None\n",
       "\tbatch_size=64\n",
       "\tvalidation_batch_size=None\n",
       "\tverbose=1\n",
       "\tcallbacks=None\n",
       "\tvalidation_split=0.0\n",
       "\tshuffle=True\n",
       "\trun_eagerly=False\n",
       "\tepochs=10\n",
       "\tactivation=relu\n",
       "\tlearning_rate=0.001\n",
       "\tnodes=[2048, 2048, 2048, 2048]\n",
       "\tclass_weight=None\n",
       ")</pre></div></div></div></div></div></div></div></div></div></div>"
      ],
      "text/plain": [
       "GridSearchCV(cv=KFold(n_splits=5, random_state=2023, shuffle=True),\n",
       "             estimator=KerasClassifier(activation='relu', batch_size=64, build_fn=<function build_model at 0x0000027B74A8E560>, epochs=10, learning_rate=0.001, nodes=[2048, 2048, 2048, 2048]),\n",
       "             param_grid={'activation': ['relu'], 'learning_rate': [0.001],\n",
       "                         'nodes': [[2048, 2048, 2048, 2048]]},\n",
       "             refit='True', scoring='accuracy', verbose=1)"
      ]
     },
     "execution_count": 35,
     "metadata": {},
     "output_type": "execute_result"
    }
   ],
   "source": [
    "grid_search.fit(X_train,y_train,validation_split=0.3)"
   ]
  },
  {
   "cell_type": "code",
   "execution_count": 36,
   "metadata": {},
   "outputs": [
    {
     "name": "stdout",
     "output_type": "stream",
     "text": [
      "Best: 0.691201 using {'activation': 'relu', 'learning_rate': 0.001, 'nodes': [2048, 2048, 2048, 2048]}\n",
      "0.691201 (0.008731) with: {'activation': 'relu', 'learning_rate': 0.001, 'nodes': [2048, 2048, 2048, 2048]}\n"
     ]
    }
   ],
   "source": [
    "print(\"Best: %f using %s\"% (grid_search.best_score_,grid_search.best_params_))\n",
    "means= grid_search.cv_results_['mean_test_score']\n",
    "stds = grid_search.cv_results_['std_test_score']\n",
    "params = grid_search.cv_results_['params']\n",
    "for mean,stdev,param in zip(means,stds,params):\n",
    "    print(\"%f (%f) with: %r\"%(mean,stdev,param))"
   ]
  },
  {
   "cell_type": "code",
   "execution_count": 37,
   "metadata": {},
   "outputs": [],
   "source": [
    "best_mlp_model = grid_search.best_estimator_"
   ]
  },
  {
   "cell_type": "code",
   "execution_count": 38,
   "metadata": {},
   "outputs": [
    {
     "name": "stderr",
     "output_type": "stream",
     "text": [
      "c:\\Users\\Utilizador\\miniconda3\\envs\\envNAME\\lib\\site-packages\\scikeras\\wrappers.py:915: UserWarning: ``build_fn`` will be renamed to ``model`` in a future release, at which point use of ``build_fn`` will raise an Error instead.\n",
      "  X, y = self._initialize(X, y)\n"
     ]
    },
    {
     "name": "stdout",
     "output_type": "stream",
     "text": [
      "Epoch 1/40\n",
      "705/705 [==============================] - 60s 84ms/step - loss: 0.5454 - accuracy: 0.7241 - val_loss: 0.5293 - val_accuracy: 0.7346\n",
      "Epoch 2/40\n",
      "705/705 [==============================] - 58s 82ms/step - loss: 0.5313 - accuracy: 0.7363 - val_loss: 0.5375 - val_accuracy: 0.7374\n",
      "Epoch 3/40\n",
      "705/705 [==============================] - 58s 82ms/step - loss: 0.5285 - accuracy: 0.7379 - val_loss: 0.5245 - val_accuracy: 0.7381\n",
      "Epoch 4/40\n",
      "705/705 [==============================] - 58s 83ms/step - loss: 0.5261 - accuracy: 0.7394 - val_loss: 0.5245 - val_accuracy: 0.7403\n",
      "Epoch 5/40\n",
      "705/705 [==============================] - 58s 82ms/step - loss: 0.5241 - accuracy: 0.7409 - val_loss: 0.5339 - val_accuracy: 0.7352\n",
      "Epoch 6/40\n",
      "705/705 [==============================] - 59s 83ms/step - loss: 0.5223 - accuracy: 0.7419 - val_loss: 0.5249 - val_accuracy: 0.7392\n",
      "Epoch 7/40\n",
      "705/705 [==============================] - 59s 83ms/step - loss: 0.5199 - accuracy: 0.7436 - val_loss: 0.5330 - val_accuracy: 0.7381\n",
      "Epoch 8/40\n",
      "705/705 [==============================] - 59s 84ms/step - loss: 0.5174 - accuracy: 0.7442 - val_loss: 0.5299 - val_accuracy: 0.7363\n",
      "Epoch 9/40\n",
      "705/705 [==============================] - 59s 84ms/step - loss: 0.5147 - accuracy: 0.7446 - val_loss: 0.5342 - val_accuracy: 0.7373\n",
      "Epoch 10/40\n",
      "705/705 [==============================] - 59s 84ms/step - loss: 0.5118 - accuracy: 0.7463 - val_loss: 0.5325 - val_accuracy: 0.7358\n",
      "Epoch 11/40\n",
      "705/705 [==============================] - 60s 86ms/step - loss: 0.5076 - accuracy: 0.7494 - val_loss: 0.5426 - val_accuracy: 0.7362\n",
      "Epoch 12/40\n",
      "705/705 [==============================] - 62s 88ms/step - loss: 0.5061 - accuracy: 0.7482 - val_loss: 0.5373 - val_accuracy: 0.7346\n",
      "Epoch 13/40\n",
      "705/705 [==============================] - 61s 86ms/step - loss: 0.4998 - accuracy: 0.7536 - val_loss: 0.5480 - val_accuracy: 0.7350\n",
      "Epoch 14/40\n",
      "705/705 [==============================] - 60s 85ms/step - loss: 0.4970 - accuracy: 0.7558 - val_loss: 0.5511 - val_accuracy: 0.7320\n",
      "Epoch 15/40\n",
      "705/705 [==============================] - 60s 85ms/step - loss: 0.4911 - accuracy: 0.7577 - val_loss: 0.5626 - val_accuracy: 0.7285\n",
      "Epoch 16/40\n",
      "705/705 [==============================] - 60s 86ms/step - loss: 0.4849 - accuracy: 0.7618 - val_loss: 0.5722 - val_accuracy: 0.7318\n",
      "Epoch 17/40\n",
      "705/705 [==============================] - 60s 85ms/step - loss: 0.4806 - accuracy: 0.7625 - val_loss: 0.5826 - val_accuracy: 0.7289\n",
      "Epoch 18/40\n",
      "705/705 [==============================] - 60s 86ms/step - loss: 0.4742 - accuracy: 0.7656 - val_loss: 0.5827 - val_accuracy: 0.7275\n",
      "Epoch 19/40\n",
      "705/705 [==============================] - 61s 86ms/step - loss: 0.4681 - accuracy: 0.7697 - val_loss: 0.6407 - val_accuracy: 0.7269\n",
      "Epoch 20/40\n",
      "705/705 [==============================] - 59s 83ms/step - loss: 0.4624 - accuracy: 0.7738 - val_loss: 0.6343 - val_accuracy: 0.7262\n",
      "Epoch 21/40\n",
      "705/705 [==============================] - 59s 84ms/step - loss: 0.4569 - accuracy: 0.7761 - val_loss: 0.6494 - val_accuracy: 0.7198\n",
      "Epoch 22/40\n",
      "705/705 [==============================] - 70s 100ms/step - loss: 0.4512 - accuracy: 0.7792 - val_loss: 0.6523 - val_accuracy: 0.7269\n",
      "Epoch 23/40\n",
      "705/705 [==============================] - 68s 97ms/step - loss: 0.4458 - accuracy: 0.7814 - val_loss: 0.6648 - val_accuracy: 0.7151\n",
      "Epoch 24/40\n",
      "705/705 [==============================] - 65s 92ms/step - loss: 0.4363 - accuracy: 0.7866 - val_loss: 0.6832 - val_accuracy: 0.7181\n",
      "Epoch 25/40\n",
      "705/705 [==============================] - 62s 88ms/step - loss: 0.4305 - accuracy: 0.7902 - val_loss: 0.7183 - val_accuracy: 0.7173\n",
      "Epoch 26/40\n",
      "705/705 [==============================] - 62s 88ms/step - loss: 0.4241 - accuracy: 0.7950 - val_loss: 0.6963 - val_accuracy: 0.7134\n",
      "Epoch 27/40\n",
      "705/705 [==============================] - 61s 87ms/step - loss: 0.4152 - accuracy: 0.7997 - val_loss: 0.7865 - val_accuracy: 0.7166\n",
      "Epoch 28/40\n",
      "705/705 [==============================] - 63s 89ms/step - loss: 0.4127 - accuracy: 0.7998 - val_loss: 0.7768 - val_accuracy: 0.7183\n",
      "Epoch 29/40\n",
      "705/705 [==============================] - 58s 82ms/step - loss: 0.4040 - accuracy: 0.8045 - val_loss: 0.7899 - val_accuracy: 0.7127\n",
      "Epoch 30/40\n",
      "705/705 [==============================] - 53s 76ms/step - loss: 0.3967 - accuracy: 0.8095 - val_loss: 0.8613 - val_accuracy: 0.7195\n",
      "Epoch 31/40\n",
      "705/705 [==============================] - 54s 77ms/step - loss: 0.3901 - accuracy: 0.8124 - val_loss: 0.8458 - val_accuracy: 0.7144\n",
      "Epoch 32/40\n",
      "705/705 [==============================] - 53s 76ms/step - loss: 0.3816 - accuracy: 0.8169 - val_loss: 0.8765 - val_accuracy: 0.7024\n",
      "Epoch 33/40\n",
      "705/705 [==============================] - 53s 75ms/step - loss: 0.3772 - accuracy: 0.8186 - val_loss: 0.8542 - val_accuracy: 0.7093\n",
      "Epoch 34/40\n",
      "705/705 [==============================] - 54s 77ms/step - loss: 0.3709 - accuracy: 0.8225 - val_loss: 0.8921 - val_accuracy: 0.7011\n",
      "Epoch 35/40\n",
      "705/705 [==============================] - 53s 76ms/step - loss: 0.3660 - accuracy: 0.8250 - val_loss: 0.9541 - val_accuracy: 0.7060\n",
      "Epoch 36/40\n",
      "705/705 [==============================] - 53s 76ms/step - loss: 0.3580 - accuracy: 0.8278 - val_loss: 0.9614 - val_accuracy: 0.7027\n",
      "Epoch 37/40\n",
      "705/705 [==============================] - 53s 75ms/step - loss: 0.3557 - accuracy: 0.8277 - val_loss: 0.9460 - val_accuracy: 0.7042\n",
      "Epoch 38/40\n",
      "705/705 [==============================] - 53s 75ms/step - loss: 0.3498 - accuracy: 0.8311 - val_loss: 0.9454 - val_accuracy: 0.7028\n",
      "Epoch 39/40\n",
      "705/705 [==============================] - 53s 75ms/step - loss: 0.3479 - accuracy: 0.8339 - val_loss: 1.0011 - val_accuracy: 0.7037\n",
      "Epoch 40/40\n",
      "705/705 [==============================] - 54s 77ms/step - loss: 0.3401 - accuracy: 0.8357 - val_loss: 1.0571 - val_accuracy: 0.6969\n"
     ]
    },
    {
     "data": {
      "text/html": [
       "<style>#sk-container-id-2 {color: black;}#sk-container-id-2 pre{padding: 0;}#sk-container-id-2 div.sk-toggleable {background-color: white;}#sk-container-id-2 label.sk-toggleable__label {cursor: pointer;display: block;width: 100%;margin-bottom: 0;padding: 0.3em;box-sizing: border-box;text-align: center;}#sk-container-id-2 label.sk-toggleable__label-arrow:before {content: \"▸\";float: left;margin-right: 0.25em;color: #696969;}#sk-container-id-2 label.sk-toggleable__label-arrow:hover:before {color: black;}#sk-container-id-2 div.sk-estimator:hover label.sk-toggleable__label-arrow:before {color: black;}#sk-container-id-2 div.sk-toggleable__content {max-height: 0;max-width: 0;overflow: hidden;text-align: left;background-color: #f0f8ff;}#sk-container-id-2 div.sk-toggleable__content pre {margin: 0.2em;color: black;border-radius: 0.25em;background-color: #f0f8ff;}#sk-container-id-2 input.sk-toggleable__control:checked~div.sk-toggleable__content {max-height: 200px;max-width: 100%;overflow: auto;}#sk-container-id-2 input.sk-toggleable__control:checked~label.sk-toggleable__label-arrow:before {content: \"▾\";}#sk-container-id-2 div.sk-estimator input.sk-toggleable__control:checked~label.sk-toggleable__label {background-color: #d4ebff;}#sk-container-id-2 div.sk-label input.sk-toggleable__control:checked~label.sk-toggleable__label {background-color: #d4ebff;}#sk-container-id-2 input.sk-hidden--visually {border: 0;clip: rect(1px 1px 1px 1px);clip: rect(1px, 1px, 1px, 1px);height: 1px;margin: -1px;overflow: hidden;padding: 0;position: absolute;width: 1px;}#sk-container-id-2 div.sk-estimator {font-family: monospace;background-color: #f0f8ff;border: 1px dotted black;border-radius: 0.25em;box-sizing: border-box;margin-bottom: 0.5em;}#sk-container-id-2 div.sk-estimator:hover {background-color: #d4ebff;}#sk-container-id-2 div.sk-parallel-item::after {content: \"\";width: 100%;border-bottom: 1px solid gray;flex-grow: 1;}#sk-container-id-2 div.sk-label:hover label.sk-toggleable__label {background-color: #d4ebff;}#sk-container-id-2 div.sk-serial::before {content: \"\";position: absolute;border-left: 1px solid gray;box-sizing: border-box;top: 0;bottom: 0;left: 50%;z-index: 0;}#sk-container-id-2 div.sk-serial {display: flex;flex-direction: column;align-items: center;background-color: white;padding-right: 0.2em;padding-left: 0.2em;position: relative;}#sk-container-id-2 div.sk-item {position: relative;z-index: 1;}#sk-container-id-2 div.sk-parallel {display: flex;align-items: stretch;justify-content: center;background-color: white;position: relative;}#sk-container-id-2 div.sk-item::before, #sk-container-id-2 div.sk-parallel-item::before {content: \"\";position: absolute;border-left: 1px solid gray;box-sizing: border-box;top: 0;bottom: 0;left: 50%;z-index: -1;}#sk-container-id-2 div.sk-parallel-item {display: flex;flex-direction: column;z-index: 1;position: relative;background-color: white;}#sk-container-id-2 div.sk-parallel-item:first-child::after {align-self: flex-end;width: 50%;}#sk-container-id-2 div.sk-parallel-item:last-child::after {align-self: flex-start;width: 50%;}#sk-container-id-2 div.sk-parallel-item:only-child::after {width: 0;}#sk-container-id-2 div.sk-dashed-wrapped {border: 1px dashed gray;margin: 0 0.4em 0.5em 0.4em;box-sizing: border-box;padding-bottom: 0.4em;background-color: white;}#sk-container-id-2 div.sk-label label {font-family: monospace;font-weight: bold;display: inline-block;line-height: 1.2em;}#sk-container-id-2 div.sk-label-container {text-align: center;}#sk-container-id-2 div.sk-container {/* jupyter's `normalize.less` sets `[hidden] { display: none; }` but bootstrap.min.css set `[hidden] { display: none !important; }` so we also need the `!important` here to be able to override the default hidden behavior on the sphinx rendered scikit-learn.org. See: https://github.com/scikit-learn/scikit-learn/issues/21755 */display: inline-block !important;position: relative;}#sk-container-id-2 div.sk-text-repr-fallback {display: none;}</style><div id=\"sk-container-id-2\" class=\"sk-top-container\"><div class=\"sk-text-repr-fallback\"><pre>KerasClassifier(\n",
       "\tmodel=None\n",
       "\tbuild_fn=&lt;function build_model at 0x0000027B74A8E560&gt;\n",
       "\twarm_start=False\n",
       "\trandom_state=None\n",
       "\toptimizer=rmsprop\n",
       "\tloss=None\n",
       "\tmetrics=None\n",
       "\tbatch_size=64\n",
       "\tvalidation_batch_size=None\n",
       "\tverbose=1\n",
       "\tcallbacks=None\n",
       "\tvalidation_split=0.0\n",
       "\tshuffle=True\n",
       "\trun_eagerly=False\n",
       "\tepochs=10\n",
       "\tactivation=relu\n",
       "\tlearning_rate=0.001\n",
       "\tnodes=[2048, 2048, 2048, 2048]\n",
       "\tclass_weight=None\n",
       ")</pre><b>In a Jupyter environment, please rerun this cell to show the HTML representation or trust the notebook. <br />On GitHub, the HTML representation is unable to render, please try loading this page with nbviewer.org.</b></div><div class=\"sk-container\" hidden><div class=\"sk-item\"><div class=\"sk-estimator sk-toggleable\"><input class=\"sk-toggleable__control sk-hidden--visually\" id=\"sk-estimator-id-4\" type=\"checkbox\" checked><label for=\"sk-estimator-id-4\" class=\"sk-toggleable__label sk-toggleable__label-arrow\">KerasClassifier</label><div class=\"sk-toggleable__content\"><pre>KerasClassifier(\n",
       "\tmodel=None\n",
       "\tbuild_fn=&lt;function build_model at 0x0000027B74A8E560&gt;\n",
       "\twarm_start=False\n",
       "\trandom_state=None\n",
       "\toptimizer=rmsprop\n",
       "\tloss=None\n",
       "\tmetrics=None\n",
       "\tbatch_size=64\n",
       "\tvalidation_batch_size=None\n",
       "\tverbose=1\n",
       "\tcallbacks=None\n",
       "\tvalidation_split=0.0\n",
       "\tshuffle=True\n",
       "\trun_eagerly=False\n",
       "\tepochs=10\n",
       "\tactivation=relu\n",
       "\tlearning_rate=0.001\n",
       "\tnodes=[2048, 2048, 2048, 2048]\n",
       "\tclass_weight=None\n",
       ")</pre></div></div></div></div></div>"
      ],
      "text/plain": [
       "KerasClassifier(\n",
       "\tmodel=None\n",
       "\tbuild_fn=<function build_model at 0x0000027B74A8E560>\n",
       "\twarm_start=False\n",
       "\trandom_state=None\n",
       "\toptimizer=rmsprop\n",
       "\tloss=None\n",
       "\tmetrics=None\n",
       "\tbatch_size=64\n",
       "\tvalidation_batch_size=None\n",
       "\tverbose=1\n",
       "\tcallbacks=None\n",
       "\tvalidation_split=0.0\n",
       "\tshuffle=True\n",
       "\trun_eagerly=False\n",
       "\tepochs=10\n",
       "\tactivation=relu\n",
       "\tlearning_rate=0.001\n",
       "\tnodes=[2048, 2048, 2048, 2048]\n",
       "\tclass_weight=None\n",
       ")"
      ]
     },
     "execution_count": 38,
     "metadata": {},
     "output_type": "execute_result"
    }
   ],
   "source": [
    "best_mlp_model.fit(X_train,y_train\n",
    "                   , epochs=40\n",
    "                   ,validation_data=(X_test,y_test)\n",
    "                   ,callbacks=[PlotLossesKerasTF()],verbose=1)"
   ]
  },
  {
   "cell_type": "code",
   "execution_count": 39,
   "metadata": {},
   "outputs": [
    {
     "name": "stdout",
     "output_type": "stream",
     "text": [
      "KerasClassifier(\n",
      "\tmodel=None\n",
      "\tbuild_fn=<function build_model at 0x0000027B74A8E560>\n",
      "\twarm_start=False\n",
      "\trandom_state=None\n",
      "\toptimizer=rmsprop\n",
      "\tloss=None\n",
      "\tmetrics=None\n",
      "\tbatch_size=64\n",
      "\tvalidation_batch_size=None\n",
      "\tverbose=1\n",
      "\tcallbacks=None\n",
      "\tvalidation_split=0.0\n",
      "\tshuffle=True\n",
      "\trun_eagerly=False\n",
      "\tepochs=10\n",
      "\tactivation=relu\n",
      "\tlearning_rate=0.001\n",
      "\tnodes=[2048, 2048, 2048, 2048]\n",
      "\tclass_weight=None\n",
      ")\n"
     ]
    }
   ],
   "source": [
    "best_mlp_model = grid_search.best_estimator_\n",
    "print(best_mlp_model)"
   ]
  },
  {
   "cell_type": "code",
   "execution_count": 41,
   "metadata": {},
   "outputs": [
    {
     "name": "stdout",
     "output_type": "stream",
     "text": [
      "301/301 [==============================] - 7s 23ms/step\n",
      "Accuracy 0.6969176299073206\n"
     ]
    }
   ],
   "source": [
    "predictions= best_mlp_model.predict(X_test)\n",
    "print('Accuracy',metrics.accuracy_score(y_test,predictions))"
   ]
  },
  {
   "cell_type": "code",
   "execution_count": 42,
   "metadata": {},
   "outputs": [
    {
     "name": "stdout",
     "output_type": "stream",
     "text": [
      "[[6229 3004]\n",
      " [2817 7156]]\n",
      "Accuracy 0.6969176299073206\n",
      "0.6962099135774182\n",
      "0.7175373508472876\n"
     ]
    }
   ],
   "source": [
    "print(confusion_matrix(y_test,predictions))\n",
    "print('Accuracy',metrics.accuracy_score(y_test,predictions))\n",
    "print(f1_score(y_test,predictions, average='macro'))\n",
    "print(recall_score(y_test,predictions))"
   ]
  }
 ],
 "metadata": {
  "kernelspec": {
   "display_name": "envNAME",
   "language": "python",
   "name": "python3"
  },
  "language_info": {
   "codemirror_mode": {
    "name": "ipython",
    "version": 3
   },
   "file_extension": ".py",
   "mimetype": "text/x-python",
   "name": "python",
   "nbconvert_exporter": "python",
   "pygments_lexer": "ipython3",
   "version": "3.10.8"
  }
 },
 "nbformat": 4,
 "nbformat_minor": 2
}
