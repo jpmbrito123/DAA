{
 "cells": [
  {
   "cell_type": "code",
<<<<<<< Updated upstream
   "execution_count": 6,
   "id": "175385a9-d329-44ad-8251-54453052f8d5",
   "metadata": {},
   "outputs": [
    {
     "ename": "ModuleNotFoundError",
     "evalue": "No module named 'plotly'",
     "output_type": "error",
     "traceback": [
      "\u001b[1;31m---------------------------------------------------------------------------\u001b[0m",
      "\u001b[1;31mModuleNotFoundError\u001b[0m                       Traceback (most recent call last)",
      "\u001b[1;32mc:\\Users\\joaom\\OneDrive\\Ambiente de Trabalho\\DAA\\DAA\\nossodataset\\data_exploration.ipynb Cell 2\u001b[0m line \u001b[0;36m1\n\u001b[0;32m      <a href='vscode-notebook-cell:/c%3A/Users/joaom/OneDrive/Ambiente%20de%20Trabalho/DAA/DAA/nossodataset/data_exploration.ipynb#W1sZmlsZQ%3D%3D?line=7'>8</a>\u001b[0m \u001b[39mfrom\u001b[39;00m \u001b[39mpandas\u001b[39;00m \u001b[39mimport\u001b[39;00m DatetimeIndex\n\u001b[0;32m      <a href='vscode-notebook-cell:/c%3A/Users/joaom/OneDrive/Ambiente%20de%20Trabalho/DAA/DAA/nossodataset/data_exploration.ipynb#W1sZmlsZQ%3D%3D?line=8'>9</a>\u001b[0m \u001b[39mimport\u001b[39;00m \u001b[39mmatplotlib\u001b[39;00m\u001b[39m.\u001b[39;00m\u001b[39mpyplot\u001b[39;00m \u001b[39mas\u001b[39;00m \u001b[39mplt\u001b[39;00m\n\u001b[1;32m---> <a href='vscode-notebook-cell:/c%3A/Users/joaom/OneDrive/Ambiente%20de%20Trabalho/DAA/DAA/nossodataset/data_exploration.ipynb#W1sZmlsZQ%3D%3D?line=9'>10</a>\u001b[0m \u001b[39mimport\u001b[39;00m \u001b[39mplotly\u001b[39;00m\u001b[39m.\u001b[39;00m\u001b[39mexpress\u001b[39;00m \u001b[39mas\u001b[39;00m \u001b[39mpx\u001b[39;00m\n\u001b[0;32m     <a href='vscode-notebook-cell:/c%3A/Users/joaom/OneDrive/Ambiente%20de%20Trabalho/DAA/DAA/nossodataset/data_exploration.ipynb#W1sZmlsZQ%3D%3D?line=10'>11</a>\u001b[0m \u001b[39mimport\u001b[39;00m \u001b[39mplotly\u001b[39;00m\u001b[39m.\u001b[39;00m\u001b[39mgraph_objects\u001b[39;00m \u001b[39mas\u001b[39;00m \u001b[39mgo\u001b[39;00m\n\u001b[0;32m     <a href='vscode-notebook-cell:/c%3A/Users/joaom/OneDrive/Ambiente%20de%20Trabalho/DAA/DAA/nossodataset/data_exploration.ipynb#W1sZmlsZQ%3D%3D?line=11'>12</a>\u001b[0m \u001b[39mfrom\u001b[39;00m \u001b[39mplotly\u001b[39;00m\u001b[39m.\u001b[39;00m\u001b[39msubplots\u001b[39;00m \u001b[39mimport\u001b[39;00m make_subplots\n",
      "\u001b[1;31mModuleNotFoundError\u001b[0m: No module named 'plotly'"
=======
   "execution_count": 2,
   "id": "52a74f7a-ca08-466b-8c3f-edd6581348ea",
   "metadata": {},
   "outputs": [
    {
     "name": "stdout",
     "output_type": "stream",
     "text": [
      "Note: you may need to restart the kernel to use updated packages.Requirement already satisfied: openpyxl in c:\\users\\utilizador\\miniconda3\\envs\\envname\\lib\\site-packages (3.1.2)\n",
      "Requirement already satisfied: et-xmlfile in c:\\users\\utilizador\\miniconda3\\envs\\envname\\lib\\site-packages (from openpyxl) (1.1.0)\n",
      "\n"
     ]
    },
    {
     "name": "stderr",
     "output_type": "stream",
     "text": [
      "WARNING: There was an error checking the latest version of pip.\n"
>>>>>>> Stashed changes
     ]
    }
   ],
   "source": [
<<<<<<< Updated upstream
=======
    "%pip install openpyxl"
   ]
  },
  {
   "cell_type": "code",
   "execution_count": 3,
   "id": "175385a9-d329-44ad-8251-54453052f8d5",
   "metadata": {},
   "outputs": [],
   "source": [
>>>>>>> Stashed changes
    "import pandas as pd\n",
    "import numpy as np\n",
    "import matplotlib.pyplot as plt\n",
    "import seaborn as sns\n",
    "import time\n",
    "from sklearn.model_selection import train_test_split\n",
    "from sklearn.impute import SimpleImputer\n",
    "from pandas import DatetimeIndex\n",
    "import matplotlib.pyplot as plt\n",
    "import plotly.express as px\n",
    "import plotly.graph_objects as go\n",
    "from plotly.subplots import make_subplots\n",
    "\n",
    "pd.set_option('display.max_columns', 500)\n",
    "\n",
    "%matplotlib inline"
   ]
  },
  {
   "cell_type": "markdown",
   "id": "e5fd4891-555e-4edd-9168-eafd6d1b678d",
   "metadata": {},
   "source": [
    "# Data Loading\n"
   ]
  },
  {
   "cell_type": "code",
<<<<<<< Updated upstream
   "execution_count": 7,
=======
   "execution_count": 4,
>>>>>>> Stashed changes
   "id": "144b51a4-212c-4ee3-8d0d-cf1f8f2cf0a7",
   "metadata": {},
   "outputs": [],
   "source": [
    "df = pd.read_csv('diabetes_data.csv') "
   ]
  },
  {
   "cell_type": "markdown",
   "id": "940a0396-ef3d-40bc-a65e-4a132d8e5fd9",
   "metadata": {},
   "source": [
    "### Data Exploration"
   ]
  },
  {
   "cell_type": "code",
<<<<<<< Updated upstream
   "execution_count": 8,
=======
   "execution_count": 5,
>>>>>>> Stashed changes
   "id": "7f52be28-ef9d-4905-b3e6-f6a241d2237a",
   "metadata": {},
   "outputs": [
    {
     "name": "stdout",
     "output_type": "stream",
     "text": [
      "Este dataset possui  18 colunas e 70692 linhas\n"
     ]
    }
   ],
   "source": [
    "print(\"Este dataset possui  {} colunas e {} linhas\".format(df.shape[1],df.shape[0]))"
   ]
  },
  {
   "cell_type": "code",
<<<<<<< Updated upstream
   "execution_count": 9,
=======
   "execution_count": 6,
>>>>>>> Stashed changes
   "id": "873ca1ab-d7c4-4d1c-a55d-0da69c513438",
   "metadata": {},
   "outputs": [
    {
     "name": "stdout",
     "output_type": "stream",
     "text": [
      "<class 'pandas.core.frame.DataFrame'>\n",
      "RangeIndex: 70692 entries, 0 to 70691\n",
      "Data columns (total 18 columns):\n",
      " #   Column                Non-Null Count  Dtype  \n",
      "---  ------                --------------  -----  \n",
      " 0   Age                   70692 non-null  float64\n",
      " 1   Sex                   70692 non-null  float64\n",
      " 2   HighChol              70692 non-null  float64\n",
      " 3   CholCheck             70692 non-null  float64\n",
      " 4   BMI                   70692 non-null  float64\n",
      " 5   Smoker                70692 non-null  float64\n",
      " 6   HeartDiseaseorAttack  70692 non-null  float64\n",
      " 7   PhysActivity          70692 non-null  float64\n",
      " 8   Fruits                70692 non-null  float64\n",
      " 9   Veggies               70692 non-null  float64\n",
      " 10  HvyAlcoholConsump     70692 non-null  float64\n",
      " 11  GenHlth               70692 non-null  float64\n",
      " 12  MentHlth              70692 non-null  float64\n",
      " 13  PhysHlth              70692 non-null  float64\n",
      " 14  DiffWalk              70692 non-null  float64\n",
      " 15  Stroke                70692 non-null  float64\n",
      " 16  HighBP                70692 non-null  float64\n",
      " 17  Diabetes              70692 non-null  float64\n",
      "dtypes: float64(18)\n",
      "memory usage: 9.7 MB\n"
     ]
    }
   ],
   "source": [
    "df.info()"
   ]
  },
  {
   "cell_type": "code",
<<<<<<< Updated upstream
   "execution_count": 10,
=======
   "execution_count": 7,
>>>>>>> Stashed changes
   "id": "4f1de05b-f930-4b36-a672-3e523d011a4a",
   "metadata": {},
   "outputs": [
    {
     "data": {
      "text/html": [
       "<div>\n",
       "<style scoped>\n",
       "    .dataframe tbody tr th:only-of-type {\n",
       "        vertical-align: middle;\n",
       "    }\n",
       "\n",
       "    .dataframe tbody tr th {\n",
       "        vertical-align: top;\n",
       "    }\n",
       "\n",
       "    .dataframe thead th {\n",
       "        text-align: right;\n",
       "    }\n",
       "</style>\n",
       "<table border=\"1\" class=\"dataframe\">\n",
       "  <thead>\n",
       "    <tr style=\"text-align: right;\">\n",
       "      <th></th>\n",
       "      <th>Age</th>\n",
       "      <th>Sex</th>\n",
       "      <th>HighChol</th>\n",
       "      <th>CholCheck</th>\n",
       "      <th>BMI</th>\n",
       "      <th>Smoker</th>\n",
       "      <th>HeartDiseaseorAttack</th>\n",
       "      <th>PhysActivity</th>\n",
       "      <th>Fruits</th>\n",
       "      <th>Veggies</th>\n",
       "      <th>HvyAlcoholConsump</th>\n",
       "      <th>GenHlth</th>\n",
       "      <th>MentHlth</th>\n",
       "      <th>PhysHlth</th>\n",
       "      <th>DiffWalk</th>\n",
       "      <th>Stroke</th>\n",
       "      <th>HighBP</th>\n",
       "      <th>Diabetes</th>\n",
       "    </tr>\n",
       "  </thead>\n",
       "  <tbody>\n",
       "    <tr>\n",
       "      <th>0</th>\n",
       "      <td>4.0</td>\n",
       "      <td>1.0</td>\n",
       "      <td>0.0</td>\n",
       "      <td>1.0</td>\n",
       "      <td>26.0</td>\n",
       "      <td>0.0</td>\n",
       "      <td>0.0</td>\n",
       "      <td>1.0</td>\n",
       "      <td>0.0</td>\n",
       "      <td>1.0</td>\n",
       "      <td>0.0</td>\n",
       "      <td>3.0</td>\n",
       "      <td>5.0</td>\n",
       "      <td>30.0</td>\n",
       "      <td>0.0</td>\n",
       "      <td>0.0</td>\n",
       "      <td>1.0</td>\n",
       "      <td>0.0</td>\n",
       "    </tr>\n",
       "    <tr>\n",
       "      <th>1</th>\n",
       "      <td>12.0</td>\n",
       "      <td>1.0</td>\n",
       "      <td>1.0</td>\n",
       "      <td>1.0</td>\n",
       "      <td>26.0</td>\n",
       "      <td>1.0</td>\n",
       "      <td>0.0</td>\n",
       "      <td>0.0</td>\n",
       "      <td>1.0</td>\n",
       "      <td>0.0</td>\n",
       "      <td>0.0</td>\n",
       "      <td>3.0</td>\n",
       "      <td>0.0</td>\n",
       "      <td>0.0</td>\n",
       "      <td>0.0</td>\n",
       "      <td>1.0</td>\n",
       "      <td>1.0</td>\n",
       "      <td>0.0</td>\n",
       "    </tr>\n",
       "  </tbody>\n",
       "</table>\n",
       "</div>"
      ],
      "text/plain": [
       "    Age  Sex  HighChol  CholCheck   BMI  Smoker  HeartDiseaseorAttack  \\\n",
       "0   4.0  1.0       0.0        1.0  26.0     0.0                   0.0   \n",
       "1  12.0  1.0       1.0        1.0  26.0     1.0                   0.0   \n",
       "\n",
       "   PhysActivity  Fruits  Veggies  HvyAlcoholConsump  GenHlth  MentHlth  \\\n",
       "0           1.0     0.0      1.0                0.0      3.0       5.0   \n",
       "1           0.0     1.0      0.0                0.0      3.0       0.0   \n",
       "\n",
       "   PhysHlth  DiffWalk  Stroke  HighBP  Diabetes  \n",
       "0      30.0       0.0     0.0     1.0       0.0  \n",
       "1       0.0       0.0     1.0     1.0       0.0  "
      ]
     },
<<<<<<< Updated upstream
     "execution_count": 10,
=======
     "execution_count": 7,
>>>>>>> Stashed changes
     "metadata": {},
     "output_type": "execute_result"
    }
   ],
   "source": [
    "df.head(2)"
   ]
  },
  {
   "cell_type": "code",
<<<<<<< Updated upstream
   "execution_count": 11,
=======
   "execution_count": 8,
>>>>>>> Stashed changes
   "id": "b0f763f6-44f2-4cf4-9feb-a3385e17d51f",
   "metadata": {},
   "outputs": [
    {
     "name": "stdout",
     "output_type": "stream",
     "text": [
      "Diabetes\n",
      "0.0    35346\n",
      "1.0    35346\n",
      "Name: count, dtype: int64\n"
     ]
    }
   ],
   "source": [
    "print(df['Diabetes'].value_counts())\n"
   ]
  },
  {
   "cell_type": "code",
<<<<<<< Updated upstream
   "execution_count": 12,
=======
   "execution_count": 9,
>>>>>>> Stashed changes
   "id": "65fdf800-d4f4-43b5-9323-5d7377a5f519",
   "metadata": {},
   "outputs": [
    {
     "name": "stdout",
     "output_type": "stream",
     "text": [
      "Age: [ 4. 12. 13. 11.  8.  1.  6.  3.  7. 10.  9.  5.  2.]\n",
      "Sex: [1. 0.]\n",
      "HighChol: [0. 1.]\n",
      "CholCheck: [1. 0.]\n",
      "BMI: [26. 28. 29. 18. 31. 32. 27. 24. 21. 58. 30. 20. 22. 38. 40. 25. 36. 47.\n",
      " 19. 37. 41. 23. 34. 35. 42. 17. 33. 44. 15. 52. 69. 56. 45. 39. 92. 53.\n",
      " 98. 50. 46. 79. 48. 16. 63. 72. 54. 49. 68. 43. 84. 73. 76. 55. 51. 75.\n",
      " 57. 60. 12. 77. 82. 67. 71. 61. 14. 81. 59. 86. 13. 87. 65. 95. 89. 62.\n",
      " 64. 66. 85. 70. 83. 80. 78. 74.]\n",
      "Smoker: [0. 1.]\n",
      "HeartDiseaseorAttack: [0. 1.]\n",
      "PhysActivity: [1. 0.]\n",
      "Fruits: [0. 1.]\n",
      "Veggies: [1. 0.]\n",
      "HvyAlcoholConsump: [0. 1.]\n",
      "GenHlth: [3. 1. 2. 4. 5.]\n",
      "MentHlth: [ 5.  0.  7.  3.  4.  2. 30. 20.  1. 15. 10. 25. 14. 28.  6. 29. 26. 12.\n",
      " 16. 22. 13.  8.  9. 21. 18. 17. 27. 24. 23. 11. 19.]\n",
      "PhysHlth: [30.  0. 10.  3.  6.  4. 15.  1.  2. 14.  7. 25. 21. 20.  5.  8. 22. 23.\n",
      " 29. 12. 18. 28. 26. 24. 27. 11. 13. 16. 17.  9. 19.]\n",
      "DiffWalk: [0. 1.]\n",
      "Stroke: [0. 1.]\n",
      "HighBP: [1. 0.]\n",
      "Diabetes: [0. 1.]\n"
     ]
    }
   ],
   "source": [
    "for col in df:\n",
    "    print(f'{col}: {df[col].unique()}')"
   ]
  },
  {
   "cell_type": "code",
<<<<<<< Updated upstream
   "execution_count": 14,
   "metadata": {},
   "outputs": [
    {
     "ename": "NameError",
     "evalue": "name 'make_subplots' is not defined",
     "output_type": "error",
     "traceback": [
      "\u001b[1;31m---------------------------------------------------------------------------\u001b[0m",
      "\u001b[1;31mNameError\u001b[0m                                 Traceback (most recent call last)",
      "\u001b[1;32mc:\\Users\\joaom\\OneDrive\\Ambiente de Trabalho\\DAA\\DAA\\nossodataset\\data_exploration.ipynb Cell 11\u001b[0m line \u001b[0;36m1\n\u001b[1;32m----> <a href='vscode-notebook-cell:/c%3A/Users/joaom/OneDrive/Ambiente%20de%20Trabalho/DAA/DAA/nossodataset/data_exploration.ipynb#X13sZmlsZQ%3D%3D?line=0'>1</a>\u001b[0m fig \u001b[39m=\u001b[39m make_subplots(\n\u001b[0;32m      <a href='vscode-notebook-cell:/c%3A/Users/joaom/OneDrive/Ambiente%20de%20Trabalho/DAA/DAA/nossodataset/data_exploration.ipynb#X13sZmlsZQ%3D%3D?line=1'>2</a>\u001b[0m     rows\u001b[39m=\u001b[39m\u001b[39m3\u001b[39m, cols\u001b[39m=\u001b[39m\u001b[39m6\u001b[39m, subplot_titles\u001b[39m=\u001b[39m(\u001b[39m\"\u001b[39m\u001b[39mAge\u001b[39m\u001b[39m\"\u001b[39m, \u001b[39m\"\u001b[39m\u001b[39mSex\u001b[39m\u001b[39m\"\u001b[39m,\n\u001b[0;32m      <a href='vscode-notebook-cell:/c%3A/Users/joaom/OneDrive/Ambiente%20de%20Trabalho/DAA/DAA/nossodataset/data_exploration.ipynb#X13sZmlsZQ%3D%3D?line=2'>3</a>\u001b[0m                                     \u001b[39m\"\u001b[39m\u001b[39mHighChol\u001b[39m\u001b[39m\"\u001b[39m,\u001b[39m\"\u001b[39m\u001b[39mCholCheck\u001b[39m\u001b[39m\"\u001b[39m,\n\u001b[0;32m      <a href='vscode-notebook-cell:/c%3A/Users/joaom/OneDrive/Ambiente%20de%20Trabalho/DAA/DAA/nossodataset/data_exploration.ipynb#X13sZmlsZQ%3D%3D?line=3'>4</a>\u001b[0m                                     \u001b[39m\"\u001b[39m\u001b[39mBMI\u001b[39m\u001b[39m\"\u001b[39m, \u001b[39m\"\u001b[39m\u001b[39mSmoker\u001b[39m\u001b[39m\"\u001b[39m,\n\u001b[0;32m      <a href='vscode-notebook-cell:/c%3A/Users/joaom/OneDrive/Ambiente%20de%20Trabalho/DAA/DAA/nossodataset/data_exploration.ipynb#X13sZmlsZQ%3D%3D?line=4'>5</a>\u001b[0m                                     \u001b[39m'\u001b[39m\u001b[39mHeartDiseaseorAttack\u001b[39m\u001b[39m'\u001b[39m, \u001b[39m'\u001b[39m\u001b[39mPhysActivity\u001b[39m\u001b[39m'\u001b[39m,\n\u001b[0;32m      <a href='vscode-notebook-cell:/c%3A/Users/joaom/OneDrive/Ambiente%20de%20Trabalho/DAA/DAA/nossodataset/data_exploration.ipynb#X13sZmlsZQ%3D%3D?line=5'>6</a>\u001b[0m                                     \u001b[39m'\u001b[39m\u001b[39mFruits\u001b[39m\u001b[39m'\u001b[39m,\u001b[39m'\u001b[39m\u001b[39mVeggies\u001b[39m\u001b[39m'\u001b[39m,\n\u001b[0;32m      <a href='vscode-notebook-cell:/c%3A/Users/joaom/OneDrive/Ambiente%20de%20Trabalho/DAA/DAA/nossodataset/data_exploration.ipynb#X13sZmlsZQ%3D%3D?line=6'>7</a>\u001b[0m                                     \u001b[39m'\u001b[39m\u001b[39mHvyAlcoholConsump\u001b[39m\u001b[39m'\u001b[39m, \u001b[39m'\u001b[39m\u001b[39mGenHlth\u001b[39m\u001b[39m'\u001b[39m,\n\u001b[0;32m      <a href='vscode-notebook-cell:/c%3A/Users/joaom/OneDrive/Ambiente%20de%20Trabalho/DAA/DAA/nossodataset/data_exploration.ipynb#X13sZmlsZQ%3D%3D?line=7'>8</a>\u001b[0m                                     \u001b[39m'\u001b[39m\u001b[39mMentHlth\u001b[39m\u001b[39m'\u001b[39m, \u001b[39m'\u001b[39m\u001b[39mPhysHlth\u001b[39m\u001b[39m'\u001b[39m,\n\u001b[0;32m      <a href='vscode-notebook-cell:/c%3A/Users/joaom/OneDrive/Ambiente%20de%20Trabalho/DAA/DAA/nossodataset/data_exploration.ipynb#X13sZmlsZQ%3D%3D?line=8'>9</a>\u001b[0m                                     \u001b[39m'\u001b[39m\u001b[39mDiffWalk\u001b[39m\u001b[39m'\u001b[39m, \u001b[39m'\u001b[39m\u001b[39mStroke\u001b[39m\u001b[39m'\u001b[39m,\n\u001b[0;32m     <a href='vscode-notebook-cell:/c%3A/Users/joaom/OneDrive/Ambiente%20de%20Trabalho/DAA/DAA/nossodataset/data_exploration.ipynb#X13sZmlsZQ%3D%3D?line=9'>10</a>\u001b[0m                                     \u001b[39m'\u001b[39m\u001b[39mHighBP\u001b[39m\u001b[39m'\u001b[39m, \u001b[39m'\u001b[39m\u001b[39mDiabetes\u001b[39m\u001b[39m'\u001b[39m),\n\u001b[0;32m     <a href='vscode-notebook-cell:/c%3A/Users/joaom/OneDrive/Ambiente%20de%20Trabalho/DAA/DAA/nossodataset/data_exploration.ipynb#X13sZmlsZQ%3D%3D?line=10'>11</a>\u001b[0m     specs\u001b[39m=\u001b[39m[[{\u001b[39m\"\u001b[39m\u001b[39mtype\u001b[39m\u001b[39m\"\u001b[39m: \u001b[39m\"\u001b[39m\u001b[39mdomain\u001b[39m\u001b[39m\"\u001b[39m}, {\u001b[39m\"\u001b[39m\u001b[39mtype\u001b[39m\u001b[39m\"\u001b[39m: \u001b[39m\"\u001b[39m\u001b[39mdomain\u001b[39m\u001b[39m\"\u001b[39m},{\u001b[39m\"\u001b[39m\u001b[39mtype\u001b[39m\u001b[39m\"\u001b[39m: \u001b[39m\"\u001b[39m\u001b[39mdomain\u001b[39m\u001b[39m\"\u001b[39m}, {\u001b[39m\"\u001b[39m\u001b[39mtype\u001b[39m\u001b[39m\"\u001b[39m: \u001b[39m\"\u001b[39m\u001b[39mdomain\u001b[39m\u001b[39m\"\u001b[39m},{\u001b[39m\"\u001b[39m\u001b[39mtype\u001b[39m\u001b[39m\"\u001b[39m: \u001b[39m\"\u001b[39m\u001b[39mdomain\u001b[39m\u001b[39m\"\u001b[39m}, {\u001b[39m\"\u001b[39m\u001b[39mtype\u001b[39m\u001b[39m\"\u001b[39m: \u001b[39m\"\u001b[39m\u001b[39mdomain\u001b[39m\u001b[39m\"\u001b[39m}],\n\u001b[0;32m     <a href='vscode-notebook-cell:/c%3A/Users/joaom/OneDrive/Ambiente%20de%20Trabalho/DAA/DAA/nossodataset/data_exploration.ipynb#X13sZmlsZQ%3D%3D?line=11'>12</a>\u001b[0m        [{\u001b[39m\"\u001b[39m\u001b[39mtype\u001b[39m\u001b[39m\"\u001b[39m: \u001b[39m\"\u001b[39m\u001b[39mdomain\u001b[39m\u001b[39m\"\u001b[39m}, {\u001b[39m\"\u001b[39m\u001b[39mtype\u001b[39m\u001b[39m\"\u001b[39m: \u001b[39m\"\u001b[39m\u001b[39mdomain\u001b[39m\u001b[39m\"\u001b[39m},{\u001b[39m\"\u001b[39m\u001b[39mtype\u001b[39m\u001b[39m\"\u001b[39m: \u001b[39m\"\u001b[39m\u001b[39mdomain\u001b[39m\u001b[39m\"\u001b[39m}, {\u001b[39m\"\u001b[39m\u001b[39mtype\u001b[39m\u001b[39m\"\u001b[39m: \u001b[39m\"\u001b[39m\u001b[39mdomain\u001b[39m\u001b[39m\"\u001b[39m},{\u001b[39m\"\u001b[39m\u001b[39mtype\u001b[39m\u001b[39m\"\u001b[39m: \u001b[39m\"\u001b[39m\u001b[39mdomain\u001b[39m\u001b[39m\"\u001b[39m}, {\u001b[39m\"\u001b[39m\u001b[39mtype\u001b[39m\u001b[39m\"\u001b[39m: \u001b[39m\"\u001b[39m\u001b[39mdomain\u001b[39m\u001b[39m\"\u001b[39m}],\n\u001b[0;32m     <a href='vscode-notebook-cell:/c%3A/Users/joaom/OneDrive/Ambiente%20de%20Trabalho/DAA/DAA/nossodataset/data_exploration.ipynb#X13sZmlsZQ%3D%3D?line=12'>13</a>\u001b[0m        [{\u001b[39m\"\u001b[39m\u001b[39mtype\u001b[39m\u001b[39m\"\u001b[39m: \u001b[39m\"\u001b[39m\u001b[39mdomain\u001b[39m\u001b[39m\"\u001b[39m}, {\u001b[39m\"\u001b[39m\u001b[39mtype\u001b[39m\u001b[39m\"\u001b[39m: \u001b[39m\"\u001b[39m\u001b[39mdomain\u001b[39m\u001b[39m\"\u001b[39m},{\u001b[39m\"\u001b[39m\u001b[39mtype\u001b[39m\u001b[39m\"\u001b[39m: \u001b[39m\"\u001b[39m\u001b[39mdomain\u001b[39m\u001b[39m\"\u001b[39m}, {\u001b[39m\"\u001b[39m\u001b[39mtype\u001b[39m\u001b[39m\"\u001b[39m: \u001b[39m\"\u001b[39m\u001b[39mdomain\u001b[39m\u001b[39m\"\u001b[39m},{\u001b[39m\"\u001b[39m\u001b[39mtype\u001b[39m\u001b[39m\"\u001b[39m: \u001b[39m\"\u001b[39m\u001b[39mdomain\u001b[39m\u001b[39m\"\u001b[39m}, {\u001b[39m\"\u001b[39m\u001b[39mtype\u001b[39m\u001b[39m\"\u001b[39m: \u001b[39m\"\u001b[39m\u001b[39mdomain\u001b[39m\u001b[39m\"\u001b[39m}]],\n\u001b[0;32m     <a href='vscode-notebook-cell:/c%3A/Users/joaom/OneDrive/Ambiente%20de%20Trabalho/DAA/DAA/nossodataset/data_exploration.ipynb#X13sZmlsZQ%3D%3D?line=13'>14</a>\u001b[0m )\n\u001b[0;32m     <a href='vscode-notebook-cell:/c%3A/Users/joaom/OneDrive/Ambiente%20de%20Trabalho/DAA/DAA/nossodataset/data_exploration.ipynb#X13sZmlsZQ%3D%3D?line=15'>16</a>\u001b[0m colours \u001b[39m=\u001b[39m [\u001b[39m'\u001b[39m\u001b[39m#FF0000\u001b[39m\u001b[39m'\u001b[39m, \u001b[39m'\u001b[39m\u001b[39m#FFFF00\u001b[39m\u001b[39m'\u001b[39m, \u001b[39m'\u001b[39m\u001b[39m#FFA500\u001b[39m\u001b[39m'\u001b[39m, \u001b[39m'\u001b[39m\u001b[39m#DA70D6\u001b[39m\u001b[39m'\u001b[39m]\n\u001b[0;32m     <a href='vscode-notebook-cell:/c%3A/Users/joaom/OneDrive/Ambiente%20de%20Trabalho/DAA/DAA/nossodataset/data_exploration.ipynb#X13sZmlsZQ%3D%3D?line=17'>18</a>\u001b[0m fig\u001b[39m.\u001b[39madd_trace(go\u001b[39m.\u001b[39mPie(labels\u001b[39m=\u001b[39mnp\u001b[39m.\u001b[39marray(df[\u001b[39m'\u001b[39m\u001b[39mAge\u001b[39m\u001b[39m'\u001b[39m]\u001b[39m.\u001b[39mvalue_counts()\u001b[39m.\u001b[39mindex),\n\u001b[0;32m     <a href='vscode-notebook-cell:/c%3A/Users/joaom/OneDrive/Ambiente%20de%20Trabalho/DAA/DAA/nossodataset/data_exploration.ipynb#X13sZmlsZQ%3D%3D?line=18'>19</a>\u001b[0m                      values\u001b[39m=\u001b[39m[x \u001b[39mfor\u001b[39;00m x \u001b[39min\u001b[39;00m df[\u001b[39m'\u001b[39m\u001b[39mAge\u001b[39m\u001b[39m'\u001b[39m]\u001b[39m.\u001b[39mvalue_counts()], hole\u001b[39m=\u001b[39m\u001b[39m.35\u001b[39m,\n\u001b[0;32m     <a href='vscode-notebook-cell:/c%3A/Users/joaom/OneDrive/Ambiente%20de%20Trabalho/DAA/DAA/nossodataset/data_exploration.ipynb#X13sZmlsZQ%3D%3D?line=19'>20</a>\u001b[0m                      textinfo\u001b[39m=\u001b[39m\u001b[39m'\u001b[39m\u001b[39mlabel+percent\u001b[39m\u001b[39m'\u001b[39m, rotation\u001b[39m=\u001b[39m\u001b[39m-\u001b[39m\u001b[39m45\u001b[39m, marker_colors\u001b[39m=\u001b[39mcolours),\n\u001b[0;32m     <a href='vscode-notebook-cell:/c%3A/Users/joaom/OneDrive/Ambiente%20de%20Trabalho/DAA/DAA/nossodataset/data_exploration.ipynb#X13sZmlsZQ%3D%3D?line=20'>21</a>\u001b[0m               row\u001b[39m=\u001b[39m\u001b[39m1\u001b[39m, col\u001b[39m=\u001b[39m\u001b[39m1\u001b[39m)\n",
      "\u001b[1;31mNameError\u001b[0m: name 'make_subplots' is not defined"
     ]
=======
   "execution_count": 43,
   "metadata": {},
   "outputs": [
    {
     "data": {
      "application/vnd.plotly.v1+json": {
       "config": {
        "plotlyServerURL": "https://plot.ly"
       },
       "data": [
        {
         "domain": {
          "x": [
           0,
           0.2888888888888889
          ],
          "y": [
           0,
           1
          ]
         },
         "hole": 0.35,
         "labels": [
          10,
          9,
          8,
          11,
          7,
          13,
          12,
          6,
          5,
          4,
          3,
          2,
          1
         ],
         "marker": {
          "colors": [
           "orange",
           "green",
           "red",
           "purple"
          ]
         },
         "rotation": -45,
         "textinfo": "label+percent",
         "type": "pie",
         "values": [
          10856,
          10112,
          8603,
          8044,
          6872,
          5426,
          5394,
          4648,
          3520,
          2793,
          2049,
          1396,
          979
         ]
        },
        {
         "domain": {
          "x": [
           0.35555555555555557,
           0.6444444444444445
          ],
          "y": [
           0,
           1
          ]
         },
         "hole": 0.35,
         "labels": [
          0,
          1
         ],
         "marker": {
          "colors": [
           "orange",
           "green",
           "red",
           "purple"
          ]
         },
         "textinfo": "label+percent",
         "type": "pie",
         "values": [
          52826,
          17866
         ]
        },
        {
         "domain": {
          "x": [
           0.7111111111111111,
           1
          ],
          "y": [
           0,
           1
          ]
         },
         "hole": 0.35,
         "labels": [
          0,
          1
         ],
         "marker": {
          "colors": [
           "orange",
           "green",
           "red",
           "purple"
          ]
         },
         "textinfo": "label+percent",
         "type": "pie",
         "values": [
          35346,
          35346
         ]
        }
       ],
       "layout": {
        "annotations": [
         {
          "font": {
           "size": 16
          },
          "showarrow": false,
          "text": "Age",
          "x": 0.14444444444444446,
          "xanchor": "center",
          "xref": "paper",
          "y": 1,
          "yanchor": "bottom",
          "yref": "paper"
         },
         {
          "font": {
           "size": 16
          },
          "showarrow": false,
          "text": "DiffWalk",
          "x": 0.5,
          "xanchor": "center",
          "xref": "paper",
          "y": 1,
          "yanchor": "bottom",
          "yref": "paper"
         },
         {
          "font": {
           "size": 16
          },
          "showarrow": false,
          "text": "Diabetes",
          "x": 0.8555555555555556,
          "xanchor": "center",
          "xref": "paper",
          "y": 1,
          "yanchor": "bottom",
          "yref": "paper"
         }
        ],
        "font": {
         "size": 15
        },
        "height": 500,
        "showlegend": false,
        "template": {
         "data": {
          "bar": [
           {
            "error_x": {
             "color": "#2a3f5f"
            },
            "error_y": {
             "color": "#2a3f5f"
            },
            "marker": {
             "line": {
              "color": "#E5ECF6",
              "width": 0.5
             },
             "pattern": {
              "fillmode": "overlay",
              "size": 10,
              "solidity": 0.2
             }
            },
            "type": "bar"
           }
          ],
          "barpolar": [
           {
            "marker": {
             "line": {
              "color": "#E5ECF6",
              "width": 0.5
             },
             "pattern": {
              "fillmode": "overlay",
              "size": 10,
              "solidity": 0.2
             }
            },
            "type": "barpolar"
           }
          ],
          "carpet": [
           {
            "aaxis": {
             "endlinecolor": "#2a3f5f",
             "gridcolor": "white",
             "linecolor": "white",
             "minorgridcolor": "white",
             "startlinecolor": "#2a3f5f"
            },
            "baxis": {
             "endlinecolor": "#2a3f5f",
             "gridcolor": "white",
             "linecolor": "white",
             "minorgridcolor": "white",
             "startlinecolor": "#2a3f5f"
            },
            "type": "carpet"
           }
          ],
          "choropleth": [
           {
            "colorbar": {
             "outlinewidth": 0,
             "ticks": ""
            },
            "type": "choropleth"
           }
          ],
          "contour": [
           {
            "colorbar": {
             "outlinewidth": 0,
             "ticks": ""
            },
            "colorscale": [
             [
              0,
              "#0d0887"
             ],
             [
              0.1111111111111111,
              "#46039f"
             ],
             [
              0.2222222222222222,
              "#7201a8"
             ],
             [
              0.3333333333333333,
              "#9c179e"
             ],
             [
              0.4444444444444444,
              "#bd3786"
             ],
             [
              0.5555555555555556,
              "#d8576b"
             ],
             [
              0.6666666666666666,
              "#ed7953"
             ],
             [
              0.7777777777777778,
              "#fb9f3a"
             ],
             [
              0.8888888888888888,
              "#fdca26"
             ],
             [
              1,
              "#f0f921"
             ]
            ],
            "type": "contour"
           }
          ],
          "contourcarpet": [
           {
            "colorbar": {
             "outlinewidth": 0,
             "ticks": ""
            },
            "type": "contourcarpet"
           }
          ],
          "heatmap": [
           {
            "colorbar": {
             "outlinewidth": 0,
             "ticks": ""
            },
            "colorscale": [
             [
              0,
              "#0d0887"
             ],
             [
              0.1111111111111111,
              "#46039f"
             ],
             [
              0.2222222222222222,
              "#7201a8"
             ],
             [
              0.3333333333333333,
              "#9c179e"
             ],
             [
              0.4444444444444444,
              "#bd3786"
             ],
             [
              0.5555555555555556,
              "#d8576b"
             ],
             [
              0.6666666666666666,
              "#ed7953"
             ],
             [
              0.7777777777777778,
              "#fb9f3a"
             ],
             [
              0.8888888888888888,
              "#fdca26"
             ],
             [
              1,
              "#f0f921"
             ]
            ],
            "type": "heatmap"
           }
          ],
          "heatmapgl": [
           {
            "colorbar": {
             "outlinewidth": 0,
             "ticks": ""
            },
            "colorscale": [
             [
              0,
              "#0d0887"
             ],
             [
              0.1111111111111111,
              "#46039f"
             ],
             [
              0.2222222222222222,
              "#7201a8"
             ],
             [
              0.3333333333333333,
              "#9c179e"
             ],
             [
              0.4444444444444444,
              "#bd3786"
             ],
             [
              0.5555555555555556,
              "#d8576b"
             ],
             [
              0.6666666666666666,
              "#ed7953"
             ],
             [
              0.7777777777777778,
              "#fb9f3a"
             ],
             [
              0.8888888888888888,
              "#fdca26"
             ],
             [
              1,
              "#f0f921"
             ]
            ],
            "type": "heatmapgl"
           }
          ],
          "histogram": [
           {
            "marker": {
             "pattern": {
              "fillmode": "overlay",
              "size": 10,
              "solidity": 0.2
             }
            },
            "type": "histogram"
           }
          ],
          "histogram2d": [
           {
            "colorbar": {
             "outlinewidth": 0,
             "ticks": ""
            },
            "colorscale": [
             [
              0,
              "#0d0887"
             ],
             [
              0.1111111111111111,
              "#46039f"
             ],
             [
              0.2222222222222222,
              "#7201a8"
             ],
             [
              0.3333333333333333,
              "#9c179e"
             ],
             [
              0.4444444444444444,
              "#bd3786"
             ],
             [
              0.5555555555555556,
              "#d8576b"
             ],
             [
              0.6666666666666666,
              "#ed7953"
             ],
             [
              0.7777777777777778,
              "#fb9f3a"
             ],
             [
              0.8888888888888888,
              "#fdca26"
             ],
             [
              1,
              "#f0f921"
             ]
            ],
            "type": "histogram2d"
           }
          ],
          "histogram2dcontour": [
           {
            "colorbar": {
             "outlinewidth": 0,
             "ticks": ""
            },
            "colorscale": [
             [
              0,
              "#0d0887"
             ],
             [
              0.1111111111111111,
              "#46039f"
             ],
             [
              0.2222222222222222,
              "#7201a8"
             ],
             [
              0.3333333333333333,
              "#9c179e"
             ],
             [
              0.4444444444444444,
              "#bd3786"
             ],
             [
              0.5555555555555556,
              "#d8576b"
             ],
             [
              0.6666666666666666,
              "#ed7953"
             ],
             [
              0.7777777777777778,
              "#fb9f3a"
             ],
             [
              0.8888888888888888,
              "#fdca26"
             ],
             [
              1,
              "#f0f921"
             ]
            ],
            "type": "histogram2dcontour"
           }
          ],
          "mesh3d": [
           {
            "colorbar": {
             "outlinewidth": 0,
             "ticks": ""
            },
            "type": "mesh3d"
           }
          ],
          "parcoords": [
           {
            "line": {
             "colorbar": {
              "outlinewidth": 0,
              "ticks": ""
             }
            },
            "type": "parcoords"
           }
          ],
          "pie": [
           {
            "automargin": true,
            "type": "pie"
           }
          ],
          "scatter": [
           {
            "fillpattern": {
             "fillmode": "overlay",
             "size": 10,
             "solidity": 0.2
            },
            "type": "scatter"
           }
          ],
          "scatter3d": [
           {
            "line": {
             "colorbar": {
              "outlinewidth": 0,
              "ticks": ""
             }
            },
            "marker": {
             "colorbar": {
              "outlinewidth": 0,
              "ticks": ""
             }
            },
            "type": "scatter3d"
           }
          ],
          "scattercarpet": [
           {
            "marker": {
             "colorbar": {
              "outlinewidth": 0,
              "ticks": ""
             }
            },
            "type": "scattercarpet"
           }
          ],
          "scattergeo": [
           {
            "marker": {
             "colorbar": {
              "outlinewidth": 0,
              "ticks": ""
             }
            },
            "type": "scattergeo"
           }
          ],
          "scattergl": [
           {
            "marker": {
             "colorbar": {
              "outlinewidth": 0,
              "ticks": ""
             }
            },
            "type": "scattergl"
           }
          ],
          "scattermapbox": [
           {
            "marker": {
             "colorbar": {
              "outlinewidth": 0,
              "ticks": ""
             }
            },
            "type": "scattermapbox"
           }
          ],
          "scatterpolar": [
           {
            "marker": {
             "colorbar": {
              "outlinewidth": 0,
              "ticks": ""
             }
            },
            "type": "scatterpolar"
           }
          ],
          "scatterpolargl": [
           {
            "marker": {
             "colorbar": {
              "outlinewidth": 0,
              "ticks": ""
             }
            },
            "type": "scatterpolargl"
           }
          ],
          "scatterternary": [
           {
            "marker": {
             "colorbar": {
              "outlinewidth": 0,
              "ticks": ""
             }
            },
            "type": "scatterternary"
           }
          ],
          "surface": [
           {
            "colorbar": {
             "outlinewidth": 0,
             "ticks": ""
            },
            "colorscale": [
             [
              0,
              "#0d0887"
             ],
             [
              0.1111111111111111,
              "#46039f"
             ],
             [
              0.2222222222222222,
              "#7201a8"
             ],
             [
              0.3333333333333333,
              "#9c179e"
             ],
             [
              0.4444444444444444,
              "#bd3786"
             ],
             [
              0.5555555555555556,
              "#d8576b"
             ],
             [
              0.6666666666666666,
              "#ed7953"
             ],
             [
              0.7777777777777778,
              "#fb9f3a"
             ],
             [
              0.8888888888888888,
              "#fdca26"
             ],
             [
              1,
              "#f0f921"
             ]
            ],
            "type": "surface"
           }
          ],
          "table": [
           {
            "cells": {
             "fill": {
              "color": "#EBF0F8"
             },
             "line": {
              "color": "white"
             }
            },
            "header": {
             "fill": {
              "color": "#C8D4E3"
             },
             "line": {
              "color": "white"
             }
            },
            "type": "table"
           }
          ]
         },
         "layout": {
          "annotationdefaults": {
           "arrowcolor": "#2a3f5f",
           "arrowhead": 0,
           "arrowwidth": 1
          },
          "autotypenumbers": "strict",
          "coloraxis": {
           "colorbar": {
            "outlinewidth": 0,
            "ticks": ""
           }
          },
          "colorscale": {
           "diverging": [
            [
             0,
             "#8e0152"
            ],
            [
             0.1,
             "#c51b7d"
            ],
            [
             0.2,
             "#de77ae"
            ],
            [
             0.3,
             "#f1b6da"
            ],
            [
             0.4,
             "#fde0ef"
            ],
            [
             0.5,
             "#f7f7f7"
            ],
            [
             0.6,
             "#e6f5d0"
            ],
            [
             0.7,
             "#b8e186"
            ],
            [
             0.8,
             "#7fbc41"
            ],
            [
             0.9,
             "#4d9221"
            ],
            [
             1,
             "#276419"
            ]
           ],
           "sequential": [
            [
             0,
             "#0d0887"
            ],
            [
             0.1111111111111111,
             "#46039f"
            ],
            [
             0.2222222222222222,
             "#7201a8"
            ],
            [
             0.3333333333333333,
             "#9c179e"
            ],
            [
             0.4444444444444444,
             "#bd3786"
            ],
            [
             0.5555555555555556,
             "#d8576b"
            ],
            [
             0.6666666666666666,
             "#ed7953"
            ],
            [
             0.7777777777777778,
             "#fb9f3a"
            ],
            [
             0.8888888888888888,
             "#fdca26"
            ],
            [
             1,
             "#f0f921"
            ]
           ],
           "sequentialminus": [
            [
             0,
             "#0d0887"
            ],
            [
             0.1111111111111111,
             "#46039f"
            ],
            [
             0.2222222222222222,
             "#7201a8"
            ],
            [
             0.3333333333333333,
             "#9c179e"
            ],
            [
             0.4444444444444444,
             "#bd3786"
            ],
            [
             0.5555555555555556,
             "#d8576b"
            ],
            [
             0.6666666666666666,
             "#ed7953"
            ],
            [
             0.7777777777777778,
             "#fb9f3a"
            ],
            [
             0.8888888888888888,
             "#fdca26"
            ],
            [
             1,
             "#f0f921"
            ]
           ]
          },
          "colorway": [
           "#636efa",
           "#EF553B",
           "#00cc96",
           "#ab63fa",
           "#FFA15A",
           "#19d3f3",
           "#FF6692",
           "#B6E880",
           "#FF97FF",
           "#FECB52"
          ],
          "font": {
           "color": "#2a3f5f"
          },
          "geo": {
           "bgcolor": "white",
           "lakecolor": "white",
           "landcolor": "#E5ECF6",
           "showlakes": true,
           "showland": true,
           "subunitcolor": "white"
          },
          "hoverlabel": {
           "align": "left"
          },
          "hovermode": "closest",
          "mapbox": {
           "style": "light"
          },
          "paper_bgcolor": "white",
          "plot_bgcolor": "#E5ECF6",
          "polar": {
           "angularaxis": {
            "gridcolor": "white",
            "linecolor": "white",
            "ticks": ""
           },
           "bgcolor": "#E5ECF6",
           "radialaxis": {
            "gridcolor": "white",
            "linecolor": "white",
            "ticks": ""
           }
          },
          "scene": {
           "xaxis": {
            "backgroundcolor": "#E5ECF6",
            "gridcolor": "white",
            "gridwidth": 2,
            "linecolor": "white",
            "showbackground": true,
            "ticks": "",
            "zerolinecolor": "white"
           },
           "yaxis": {
            "backgroundcolor": "#E5ECF6",
            "gridcolor": "white",
            "gridwidth": 2,
            "linecolor": "white",
            "showbackground": true,
            "ticks": "",
            "zerolinecolor": "white"
           },
           "zaxis": {
            "backgroundcolor": "#E5ECF6",
            "gridcolor": "white",
            "gridwidth": 2,
            "linecolor": "white",
            "showbackground": true,
            "ticks": "",
            "zerolinecolor": "white"
           }
          },
          "shapedefaults": {
           "line": {
            "color": "#2a3f5f"
           }
          },
          "ternary": {
           "aaxis": {
            "gridcolor": "white",
            "linecolor": "white",
            "ticks": ""
           },
           "baxis": {
            "gridcolor": "white",
            "linecolor": "white",
            "ticks": ""
           },
           "bgcolor": "#E5ECF6",
           "caxis": {
            "gridcolor": "white",
            "linecolor": "white",
            "ticks": ""
           }
          },
          "title": {
           "x": 0.05
          },
          "xaxis": {
           "automargin": true,
           "gridcolor": "white",
           "linecolor": "white",
           "ticks": "",
           "title": {
            "standoff": 15
           },
           "zerolinecolor": "white",
           "zerolinewidth": 2
          },
          "yaxis": {
           "automargin": true,
           "gridcolor": "white",
           "linecolor": "white",
           "ticks": "",
           "title": {
            "standoff": 15
           },
           "zerolinecolor": "white",
           "zerolinewidth": 2
          }
         }
        }
       }
      }
     },
     "metadata": {},
     "output_type": "display_data"
>>>>>>> Stashed changes
    }
   ],
   "source": [
    "fig = make_subplots(\n",
    "    rows=1, cols=3, subplot_titles=('Age', 'DiffWalk', 'Diabetes'),\n",
    "    specs=[[{\"type\": \"domain\"}, {\"type\": \"domain\"}, {\"type\": \"domain\"}]],\n",
    ")\n",
    "\n",
    "colours = ['orange', 'green', 'red', 'purple']\n",
    "\n",
    "fig.add_trace(go.Pie(labels=np.array(df['Age'].value_counts().index),\n",
    "                     values=[x for x in df['Age'].value_counts()], hole=.35,\n",
    "                     textinfo='label+percent', rotation=-45, marker_colors=colours),\n",
    "                     row=1, col=1)\n",
    "\n",
    "fig.add_trace(go.Pie(labels=np.array(df['DiffWalk'].value_counts().index),\n",
    "                     values=[x for x in df['DiffWalk'].value_counts()], hole=.35,\n",
    "                     textinfo='label+percent', marker_colors=colours),\n",
    "              row=1, col=2)\n",
    "\n",
    "fig.add_trace(go.Pie(labels=np.array(df['Diabetes'].value_counts().index),\n",
    "                     values=[x for x in df['Diabetes'].value_counts()], hole=.35,\n",
    "                     textinfo='label+percent', marker_colors=colours),\n",
    "              row=1, col=3)\n",
    "\n",
    "fig.update_layout(height=500, font=dict(size=15), showlegend=False)\n",
    "\n",
    "fig.show()"
   ]
  },
  {
   "cell_type": "code",
   "execution_count": 46,
   "metadata": {},
   "outputs": [
    {
     "data": {
      "application/vnd.plotly.v1+json": {
       "config": {
        "plotlyServerURL": "https://plot.ly"
       },
       "data": [
        {
         "domain": {
          "x": [
           0,
           0.2125
          ],
          "y": [
           0.7777777777777778,
           1
          ]
         },
         "hole": 0.35,
         "labels": [
          0,
          1
         ],
         "marker": {
          "colors": [
           "orange",
           "green",
           "red",
           "purple"
          ]
         },
         "rotation": -45,
         "textinfo": "label+percent",
         "type": "pie",
         "values": [
          38386,
          32306
         ]
        },
        {
         "domain": {
          "x": [
           0.2625,
           0.475
          ],
          "y": [
           0.7777777777777778,
           1
          ]
         },
         "hole": 0.35,
         "labels": [
          1,
          0
         ],
         "marker": {
          "colors": [
           "orange",
           "green",
           "red",
           "purple"
          ]
         },
         "textinfo": "label+percent",
         "type": "pie",
         "values": [
          37163,
          33529
         ]
        },
        {
         "domain": {
          "x": [
           0.525,
           0.7375
          ],
          "y": [
           0.7777777777777778,
           1
          ]
         },
         "hole": 0.35,
         "labels": [
          1,
          0
         ],
         "marker": {
          "colors": [
           "orange",
           "green",
           "red",
           "purple"
          ]
         },
         "textinfo": "label+percent",
         "type": "pie",
         "values": [
          68943,
          1749
         ]
        },
        {
         "domain": {
          "x": [
           0.7875,
           1
          ],
          "y": [
           0.7777777777777778,
           1
          ]
         },
         "hole": 0.35,
         "labels": [
          0,
          1
         ],
         "marker": {
          "colors": [
           "orange",
           "green",
           "red",
           "purple"
          ]
         },
         "textinfo": "label+percent",
         "type": "pie",
         "values": [
          37094,
          33598
         ]
        },
        {
         "domain": {
          "x": [
           0,
           0.2125
          ],
          "y": [
           0.3888888888888889,
           0.6111111111111112
          ]
         },
         "hole": 0.35,
         "labels": [
          0,
          1
         ],
         "marker": {
          "colors": [
           "orange",
           "green",
           "red",
           "purple"
          ]
         },
         "textinfo": "label+percent",
         "type": "pie",
         "values": [
          60243,
          10449
         ]
        },
        {
         "domain": {
          "x": [
           0.2625,
           0.475
          ],
          "y": [
           0.3888888888888889,
           0.6111111111111112
          ]
         },
         "hole": 0.35,
         "labels": [
          1,
          0
         ],
         "marker": {
          "colors": [
           "orange",
           "green",
           "red",
           "purple"
          ]
         },
         "textinfo": "label+percent",
         "type": "pie",
         "values": [
          49699,
          20993
         ]
        },
        {
         "domain": {
          "x": [
           0.525,
           0.7375
          ],
          "y": [
           0.3888888888888889,
           0.6111111111111112
          ]
         },
         "hole": 0.35,
         "labels": [
          1,
          0
         ],
         "marker": {
          "colors": [
           "orange",
           "green",
           "red",
           "purple"
          ]
         },
         "textinfo": "label+percent",
         "type": "pie",
         "values": [
          43249,
          27443
         ]
        },
        {
         "domain": {
          "x": [
           0.7875,
           1
          ],
          "y": [
           0.3888888888888889,
           0.6111111111111112
          ]
         },
         "hole": 0.35,
         "labels": [
          1,
          0
         ],
         "marker": {
          "colors": [
           "orange",
           "green",
           "red",
           "purple"
          ]
         },
         "textinfo": "label+percent",
         "type": "pie",
         "values": [
          55760,
          14932
         ]
        },
        {
         "domain": {
          "x": [
           0,
           0.2125
          ],
          "y": [
           0,
           0.22222222222222224
          ]
         },
         "hole": 0.35,
         "labels": [
          0,
          1
         ],
         "marker": {
          "colors": [
           "orange",
           "green",
           "red",
           "purple"
          ]
         },
         "textinfo": "label+percent",
         "type": "pie",
         "values": [
          67672,
          3020
         ]
        },
        {
         "domain": {
          "x": [
           0.2625,
           0.475
          ],
          "y": [
           0,
           0.22222222222222224
          ]
         },
         "hole": 0.35,
         "labels": [
          3,
          2,
          4,
          1,
          5
         ],
         "marker": {
          "colors": [
           "orange",
           "green",
           "red",
           "purple"
          ]
         },
         "textinfo": "label+percent",
         "type": "pie",
         "values": [
          23427,
          19872,
          13303,
          8282,
          5808
         ]
        },
        {
         "domain": {
          "x": [
           0.525,
           0.7375
          ],
          "y": [
           0,
           0.22222222222222224
          ]
         },
         "hole": 0.35,
         "labels": [
          0,
          1
         ],
         "marker": {
          "colors": [
           "orange",
           "green",
           "red",
           "purple"
          ]
         },
         "textinfo": "label+percent",
         "type": "pie",
         "values": [
          66297,
          4395
         ]
        },
        {
         "domain": {
          "x": [
           0.7875,
           1
          ],
          "y": [
           0,
           0.22222222222222224
          ]
         },
         "hole": 0.35,
         "labels": [
          1,
          0
         ],
         "marker": {
          "colors": [
           "orange",
           "green",
           "red",
           "purple"
          ]
         },
         "textinfo": "label+percent",
         "type": "pie",
         "values": [
          39832,
          30860
         ]
        }
       ],
       "layout": {
        "annotations": [
         {
          "font": {
           "size": 16
          },
          "showarrow": false,
          "text": "Sex",
          "x": 0.10625,
          "xanchor": "center",
          "xref": "paper",
          "y": 1,
          "yanchor": "bottom",
          "yref": "paper"
         },
         {
          "font": {
           "size": 16
          },
          "showarrow": false,
          "text": "HighChol",
          "x": 0.36875,
          "xanchor": "center",
          "xref": "paper",
          "y": 1,
          "yanchor": "bottom",
          "yref": "paper"
         },
         {
          "font": {
           "size": 16
          },
          "showarrow": false,
          "text": "CholCheck",
          "x": 0.6312500000000001,
          "xanchor": "center",
          "xref": "paper",
          "y": 1,
          "yanchor": "bottom",
          "yref": "paper"
         },
         {
          "font": {
           "size": 16
          },
          "showarrow": false,
          "text": "Smoker",
          "x": 0.89375,
          "xanchor": "center",
          "xref": "paper",
          "y": 1,
          "yanchor": "bottom",
          "yref": "paper"
         },
         {
          "font": {
           "size": 16
          },
          "showarrow": false,
          "text": "HeartDiseaseorAttack",
          "x": 0.10625,
          "xanchor": "center",
          "xref": "paper",
          "y": 0.6111111111111112,
          "yanchor": "bottom",
          "yref": "paper"
         },
         {
          "font": {
           "size": 16
          },
          "showarrow": false,
          "text": "PhysActivity",
          "x": 0.36875,
          "xanchor": "center",
          "xref": "paper",
          "y": 0.6111111111111112,
          "yanchor": "bottom",
          "yref": "paper"
         },
         {
          "font": {
           "size": 16
          },
          "showarrow": false,
          "text": "Fruits",
          "x": 0.6312500000000001,
          "xanchor": "center",
          "xref": "paper",
          "y": 0.6111111111111112,
          "yanchor": "bottom",
          "yref": "paper"
         },
         {
          "font": {
           "size": 16
          },
          "showarrow": false,
          "text": "Veggies",
          "x": 0.89375,
          "xanchor": "center",
          "xref": "paper",
          "y": 0.6111111111111112,
          "yanchor": "bottom",
          "yref": "paper"
         },
         {
          "font": {
           "size": 16
          },
          "showarrow": false,
          "text": "HvyAlcoholConsump",
          "x": 0.10625,
          "xanchor": "center",
          "xref": "paper",
          "y": 0.22222222222222224,
          "yanchor": "bottom",
          "yref": "paper"
         },
         {
          "font": {
           "size": 16
          },
          "showarrow": false,
          "text": "GenHlth",
          "x": 0.36875,
          "xanchor": "center",
          "xref": "paper",
          "y": 0.22222222222222224,
          "yanchor": "bottom",
          "yref": "paper"
         },
         {
          "font": {
           "size": 16
          },
          "showarrow": false,
          "text": "Stroke",
          "x": 0.6312500000000001,
          "xanchor": "center",
          "xref": "paper",
          "y": 0.22222222222222224,
          "yanchor": "bottom",
          "yref": "paper"
         },
         {
          "font": {
           "size": 16
          },
          "showarrow": false,
          "text": "HighBP",
          "x": 0.89375,
          "xanchor": "center",
          "xref": "paper",
          "y": 0.22222222222222224,
          "yanchor": "bottom",
          "yref": "paper"
         }
        ],
        "font": {
         "size": 15
        },
        "height": 1000,
        "showlegend": false,
        "template": {
         "data": {
          "bar": [
           {
            "error_x": {
             "color": "#2a3f5f"
            },
            "error_y": {
             "color": "#2a3f5f"
            },
            "marker": {
             "line": {
              "color": "#E5ECF6",
              "width": 0.5
             },
             "pattern": {
              "fillmode": "overlay",
              "size": 10,
              "solidity": 0.2
             }
            },
            "type": "bar"
           }
          ],
          "barpolar": [
           {
            "marker": {
             "line": {
              "color": "#E5ECF6",
              "width": 0.5
             },
             "pattern": {
              "fillmode": "overlay",
              "size": 10,
              "solidity": 0.2
             }
            },
            "type": "barpolar"
           }
          ],
          "carpet": [
           {
            "aaxis": {
             "endlinecolor": "#2a3f5f",
             "gridcolor": "white",
             "linecolor": "white",
             "minorgridcolor": "white",
             "startlinecolor": "#2a3f5f"
            },
            "baxis": {
             "endlinecolor": "#2a3f5f",
             "gridcolor": "white",
             "linecolor": "white",
             "minorgridcolor": "white",
             "startlinecolor": "#2a3f5f"
            },
            "type": "carpet"
           }
          ],
          "choropleth": [
           {
            "colorbar": {
             "outlinewidth": 0,
             "ticks": ""
            },
            "type": "choropleth"
           }
          ],
          "contour": [
           {
            "colorbar": {
             "outlinewidth": 0,
             "ticks": ""
            },
            "colorscale": [
             [
              0,
              "#0d0887"
             ],
             [
              0.1111111111111111,
              "#46039f"
             ],
             [
              0.2222222222222222,
              "#7201a8"
             ],
             [
              0.3333333333333333,
              "#9c179e"
             ],
             [
              0.4444444444444444,
              "#bd3786"
             ],
             [
              0.5555555555555556,
              "#d8576b"
             ],
             [
              0.6666666666666666,
              "#ed7953"
             ],
             [
              0.7777777777777778,
              "#fb9f3a"
             ],
             [
              0.8888888888888888,
              "#fdca26"
             ],
             [
              1,
              "#f0f921"
             ]
            ],
            "type": "contour"
           }
          ],
          "contourcarpet": [
           {
            "colorbar": {
             "outlinewidth": 0,
             "ticks": ""
            },
            "type": "contourcarpet"
           }
          ],
          "heatmap": [
           {
            "colorbar": {
             "outlinewidth": 0,
             "ticks": ""
            },
            "colorscale": [
             [
              0,
              "#0d0887"
             ],
             [
              0.1111111111111111,
              "#46039f"
             ],
             [
              0.2222222222222222,
              "#7201a8"
             ],
             [
              0.3333333333333333,
              "#9c179e"
             ],
             [
              0.4444444444444444,
              "#bd3786"
             ],
             [
              0.5555555555555556,
              "#d8576b"
             ],
             [
              0.6666666666666666,
              "#ed7953"
             ],
             [
              0.7777777777777778,
              "#fb9f3a"
             ],
             [
              0.8888888888888888,
              "#fdca26"
             ],
             [
              1,
              "#f0f921"
             ]
            ],
            "type": "heatmap"
           }
          ],
          "heatmapgl": [
           {
            "colorbar": {
             "outlinewidth": 0,
             "ticks": ""
            },
            "colorscale": [
             [
              0,
              "#0d0887"
             ],
             [
              0.1111111111111111,
              "#46039f"
             ],
             [
              0.2222222222222222,
              "#7201a8"
             ],
             [
              0.3333333333333333,
              "#9c179e"
             ],
             [
              0.4444444444444444,
              "#bd3786"
             ],
             [
              0.5555555555555556,
              "#d8576b"
             ],
             [
              0.6666666666666666,
              "#ed7953"
             ],
             [
              0.7777777777777778,
              "#fb9f3a"
             ],
             [
              0.8888888888888888,
              "#fdca26"
             ],
             [
              1,
              "#f0f921"
             ]
            ],
            "type": "heatmapgl"
           }
          ],
          "histogram": [
           {
            "marker": {
             "pattern": {
              "fillmode": "overlay",
              "size": 10,
              "solidity": 0.2
             }
            },
            "type": "histogram"
           }
          ],
          "histogram2d": [
           {
            "colorbar": {
             "outlinewidth": 0,
             "ticks": ""
            },
            "colorscale": [
             [
              0,
              "#0d0887"
             ],
             [
              0.1111111111111111,
              "#46039f"
             ],
             [
              0.2222222222222222,
              "#7201a8"
             ],
             [
              0.3333333333333333,
              "#9c179e"
             ],
             [
              0.4444444444444444,
              "#bd3786"
             ],
             [
              0.5555555555555556,
              "#d8576b"
             ],
             [
              0.6666666666666666,
              "#ed7953"
             ],
             [
              0.7777777777777778,
              "#fb9f3a"
             ],
             [
              0.8888888888888888,
              "#fdca26"
             ],
             [
              1,
              "#f0f921"
             ]
            ],
            "type": "histogram2d"
           }
          ],
          "histogram2dcontour": [
           {
            "colorbar": {
             "outlinewidth": 0,
             "ticks": ""
            },
            "colorscale": [
             [
              0,
              "#0d0887"
             ],
             [
              0.1111111111111111,
              "#46039f"
             ],
             [
              0.2222222222222222,
              "#7201a8"
             ],
             [
              0.3333333333333333,
              "#9c179e"
             ],
             [
              0.4444444444444444,
              "#bd3786"
             ],
             [
              0.5555555555555556,
              "#d8576b"
             ],
             [
              0.6666666666666666,
              "#ed7953"
             ],
             [
              0.7777777777777778,
              "#fb9f3a"
             ],
             [
              0.8888888888888888,
              "#fdca26"
             ],
             [
              1,
              "#f0f921"
             ]
            ],
            "type": "histogram2dcontour"
           }
          ],
          "mesh3d": [
           {
            "colorbar": {
             "outlinewidth": 0,
             "ticks": ""
            },
            "type": "mesh3d"
           }
          ],
          "parcoords": [
           {
            "line": {
             "colorbar": {
              "outlinewidth": 0,
              "ticks": ""
             }
            },
            "type": "parcoords"
           }
          ],
          "pie": [
           {
            "automargin": true,
            "type": "pie"
           }
          ],
          "scatter": [
           {
            "fillpattern": {
             "fillmode": "overlay",
             "size": 10,
             "solidity": 0.2
            },
            "type": "scatter"
           }
          ],
          "scatter3d": [
           {
            "line": {
             "colorbar": {
              "outlinewidth": 0,
              "ticks": ""
             }
            },
            "marker": {
             "colorbar": {
              "outlinewidth": 0,
              "ticks": ""
             }
            },
            "type": "scatter3d"
           }
          ],
          "scattercarpet": [
           {
            "marker": {
             "colorbar": {
              "outlinewidth": 0,
              "ticks": ""
             }
            },
            "type": "scattercarpet"
           }
          ],
          "scattergeo": [
           {
            "marker": {
             "colorbar": {
              "outlinewidth": 0,
              "ticks": ""
             }
            },
            "type": "scattergeo"
           }
          ],
          "scattergl": [
           {
            "marker": {
             "colorbar": {
              "outlinewidth": 0,
              "ticks": ""
             }
            },
            "type": "scattergl"
           }
          ],
          "scattermapbox": [
           {
            "marker": {
             "colorbar": {
              "outlinewidth": 0,
              "ticks": ""
             }
            },
            "type": "scattermapbox"
           }
          ],
          "scatterpolar": [
           {
            "marker": {
             "colorbar": {
              "outlinewidth": 0,
              "ticks": ""
             }
            },
            "type": "scatterpolar"
           }
          ],
          "scatterpolargl": [
           {
            "marker": {
             "colorbar": {
              "outlinewidth": 0,
              "ticks": ""
             }
            },
            "type": "scatterpolargl"
           }
          ],
          "scatterternary": [
           {
            "marker": {
             "colorbar": {
              "outlinewidth": 0,
              "ticks": ""
             }
            },
            "type": "scatterternary"
           }
          ],
          "surface": [
           {
            "colorbar": {
             "outlinewidth": 0,
             "ticks": ""
            },
            "colorscale": [
             [
              0,
              "#0d0887"
             ],
             [
              0.1111111111111111,
              "#46039f"
             ],
             [
              0.2222222222222222,
              "#7201a8"
             ],
             [
              0.3333333333333333,
              "#9c179e"
             ],
             [
              0.4444444444444444,
              "#bd3786"
             ],
             [
              0.5555555555555556,
              "#d8576b"
             ],
             [
              0.6666666666666666,
              "#ed7953"
             ],
             [
              0.7777777777777778,
              "#fb9f3a"
             ],
             [
              0.8888888888888888,
              "#fdca26"
             ],
             [
              1,
              "#f0f921"
             ]
            ],
            "type": "surface"
           }
          ],
          "table": [
           {
            "cells": {
             "fill": {
              "color": "#EBF0F8"
             },
             "line": {
              "color": "white"
             }
            },
            "header": {
             "fill": {
              "color": "#C8D4E3"
             },
             "line": {
              "color": "white"
             }
            },
            "type": "table"
           }
          ]
         },
         "layout": {
          "annotationdefaults": {
           "arrowcolor": "#2a3f5f",
           "arrowhead": 0,
           "arrowwidth": 1
          },
          "autotypenumbers": "strict",
          "coloraxis": {
           "colorbar": {
            "outlinewidth": 0,
            "ticks": ""
           }
          },
          "colorscale": {
           "diverging": [
            [
             0,
             "#8e0152"
            ],
            [
             0.1,
             "#c51b7d"
            ],
            [
             0.2,
             "#de77ae"
            ],
            [
             0.3,
             "#f1b6da"
            ],
            [
             0.4,
             "#fde0ef"
            ],
            [
             0.5,
             "#f7f7f7"
            ],
            [
             0.6,
             "#e6f5d0"
            ],
            [
             0.7,
             "#b8e186"
            ],
            [
             0.8,
             "#7fbc41"
            ],
            [
             0.9,
             "#4d9221"
            ],
            [
             1,
             "#276419"
            ]
           ],
           "sequential": [
            [
             0,
             "#0d0887"
            ],
            [
             0.1111111111111111,
             "#46039f"
            ],
            [
             0.2222222222222222,
             "#7201a8"
            ],
            [
             0.3333333333333333,
             "#9c179e"
            ],
            [
             0.4444444444444444,
             "#bd3786"
            ],
            [
             0.5555555555555556,
             "#d8576b"
            ],
            [
             0.6666666666666666,
             "#ed7953"
            ],
            [
             0.7777777777777778,
             "#fb9f3a"
            ],
            [
             0.8888888888888888,
             "#fdca26"
            ],
            [
             1,
             "#f0f921"
            ]
           ],
           "sequentialminus": [
            [
             0,
             "#0d0887"
            ],
            [
             0.1111111111111111,
             "#46039f"
            ],
            [
             0.2222222222222222,
             "#7201a8"
            ],
            [
             0.3333333333333333,
             "#9c179e"
            ],
            [
             0.4444444444444444,
             "#bd3786"
            ],
            [
             0.5555555555555556,
             "#d8576b"
            ],
            [
             0.6666666666666666,
             "#ed7953"
            ],
            [
             0.7777777777777778,
             "#fb9f3a"
            ],
            [
             0.8888888888888888,
             "#fdca26"
            ],
            [
             1,
             "#f0f921"
            ]
           ]
          },
          "colorway": [
           "#636efa",
           "#EF553B",
           "#00cc96",
           "#ab63fa",
           "#FFA15A",
           "#19d3f3",
           "#FF6692",
           "#B6E880",
           "#FF97FF",
           "#FECB52"
          ],
          "font": {
           "color": "#2a3f5f"
          },
          "geo": {
           "bgcolor": "white",
           "lakecolor": "white",
           "landcolor": "#E5ECF6",
           "showlakes": true,
           "showland": true,
           "subunitcolor": "white"
          },
          "hoverlabel": {
           "align": "left"
          },
          "hovermode": "closest",
          "mapbox": {
           "style": "light"
          },
          "paper_bgcolor": "white",
          "plot_bgcolor": "#E5ECF6",
          "polar": {
           "angularaxis": {
            "gridcolor": "white",
            "linecolor": "white",
            "ticks": ""
           },
           "bgcolor": "#E5ECF6",
           "radialaxis": {
            "gridcolor": "white",
            "linecolor": "white",
            "ticks": ""
           }
          },
          "scene": {
           "xaxis": {
            "backgroundcolor": "#E5ECF6",
            "gridcolor": "white",
            "gridwidth": 2,
            "linecolor": "white",
            "showbackground": true,
            "ticks": "",
            "zerolinecolor": "white"
           },
           "yaxis": {
            "backgroundcolor": "#E5ECF6",
            "gridcolor": "white",
            "gridwidth": 2,
            "linecolor": "white",
            "showbackground": true,
            "ticks": "",
            "zerolinecolor": "white"
           },
           "zaxis": {
            "backgroundcolor": "#E5ECF6",
            "gridcolor": "white",
            "gridwidth": 2,
            "linecolor": "white",
            "showbackground": true,
            "ticks": "",
            "zerolinecolor": "white"
           }
          },
          "shapedefaults": {
           "line": {
            "color": "#2a3f5f"
           }
          },
          "ternary": {
           "aaxis": {
            "gridcolor": "white",
            "linecolor": "white",
            "ticks": ""
           },
           "baxis": {
            "gridcolor": "white",
            "linecolor": "white",
            "ticks": ""
           },
           "bgcolor": "#E5ECF6",
           "caxis": {
            "gridcolor": "white",
            "linecolor": "white",
            "ticks": ""
           }
          },
          "title": {
           "x": 0.05
          },
          "xaxis": {
           "automargin": true,
           "gridcolor": "white",
           "linecolor": "white",
           "ticks": "",
           "title": {
            "standoff": 15
           },
           "zerolinecolor": "white",
           "zerolinewidth": 2
          },
          "yaxis": {
           "automargin": true,
           "gridcolor": "white",
           "linecolor": "white",
           "ticks": "",
           "title": {
            "standoff": 15
           },
           "zerolinecolor": "white",
           "zerolinewidth": 2
          }
         }
        }
       }
      }
     },
     "metadata": {},
     "output_type": "display_data"
    }
   ],
   "source": [
    "fig = make_subplots(\n",
    "    rows=3, cols=4, subplot_titles=(\"Sex\",\"HighChol\",\n",
    "                                    \"CholCheck\",\"Smoker\",\n",
    "                                    'HeartDiseaseorAttack', 'PhysActivity',\n",
    "                                    'Fruits','Veggies',\n",
    "                                    'HvyAlcoholConsump', 'GenHlth',\n",
    "                                    'Stroke', 'HighBP'),\n",
    "    specs=[[{\"type\": \"domain\"}, {\"type\": \"domain\"},{\"type\": \"domain\"}, {\"type\": \"domain\"}],\n",
    "       [{\"type\": \"domain\"}, {\"type\": \"domain\"},{\"type\": \"domain\"}, {\"type\": \"domain\"}],\n",
    "       [{\"type\": \"domain\"}, {\"type\": \"domain\"},{\"type\": \"domain\"}, {\"type\": \"domain\"}]],\n",
    ")\n",
    "\n",
    "colours = ['orange', 'green', 'red', 'purple']\n",
    "\n",
    "fig.add_trace(go.Pie(labels=np.array(df['Sex'].value_counts().index),\n",
    "                     values=[x for x in df['Sex'].value_counts()], hole=.35,\n",
    "                     textinfo='label+percent', rotation=-45, marker_colors=colours),\n",
    "              row=1, col=1)\n",
    "\n",
    "fig.add_trace(go.Pie(labels=np.array(df['HighChol'].value_counts().index),\n",
    "                     values=[x for x in df['HighChol'].value_counts()], hole=.35,\n",
    "                     textinfo='label+percent', marker_colors=colours),\n",
    "              row=1, col=2)\n",
    "\n",
    "fig.add_trace(go.Pie(labels=np.array(df['CholCheck'].value_counts().index),\n",
    "                     values=[x for x in df['CholCheck'].value_counts()], hole=.35,\n",
    "                     textinfo='label+percent', marker_colors=colours),\n",
    "              row=1, col=3)\n",
    "\n",
    "fig.add_trace(go.Pie(labels=np.array(df['Smoker'].value_counts().index),\n",
    "                     values=[x for x in df['Smoker'].value_counts()], hole=.35,\n",
    "                     textinfo='label+percent', marker_colors=colours),\n",
    "              row=1, col=4)\n",
    "\n",
    "fig.add_trace(go.Pie(labels=np.array(df['HeartDiseaseorAttack'].value_counts().index),\n",
    "                     values=[x for x in df['HeartDiseaseorAttack'].value_counts()], hole=.35,\n",
    "                     textinfo='label+percent', marker_colors=colours),\n",
    "              row=2, col=1)\n",
    "\n",
    "fig.add_trace(go.Pie(labels=np.array(df['PhysActivity'].value_counts().index),\n",
    "                     values=[x for x in df['PhysActivity'].value_counts()], hole=.35,\n",
    "                     textinfo='label+percent', marker_colors=colours),\n",
    "              row=2, col=2)\n",
    "\n",
    "fig.add_trace(go.Pie(labels=np.array(df['Fruits'].value_counts().index),\n",
    "                     values=[x for x in df['Fruits'].value_counts()], hole=.35,\n",
    "                     textinfo='label+percent', marker_colors=colours),\n",
    "              row=2, col=3)\n",
    "\n",
    "fig.add_trace(go.Pie(labels=np.array(df['Veggies'].value_counts().index),\n",
    "                     values=[x for x in df['Veggies'].value_counts()], hole=.35,\n",
    "                     textinfo='label+percent', marker_colors=colours),\n",
    "              row=2, col=4)\n",
    "\n",
    "fig.add_trace(go.Pie(labels=np.array(df['HvyAlcoholConsump'].value_counts().index),\n",
    "                     values=[x for x in df['HvyAlcoholConsump'].value_counts()], hole=.35,\n",
    "                     textinfo='label+percent', marker_colors=colours),\n",
    "              row=3, col=1)\n",
    "\n",
    "fig.add_trace(go.Pie(labels=np.array(df['GenHlth'].value_counts().index),\n",
    "                     values=[x for x in df['GenHlth'].value_counts()], hole=.35,\n",
    "                     textinfo='label+percent', marker_colors=colours),\n",
    "              row=3, col=2)\n",
    "\n",
    "fig.add_trace(go.Pie(labels=np.array(df['Stroke'].value_counts().index),\n",
    "                     values=[x for x in df['Stroke'].value_counts()], hole=.35,\n",
    "                     textinfo='label+percent', marker_colors=colours),\n",
    "              row=3, col=3)\n",
    "\n",
    "fig.add_trace(go.Pie(labels=np.array(df['HighBP'].value_counts().index),\n",
    "                     values=[x for x in df['HighBP'].value_counts()], hole=.35,\n",
    "                     textinfo='label+percent', marker_colors=colours),\n",
    "              row=3, col=4)\n",
    "\n",
    "\n",
    "fig.update_layout(height=1000, font=dict(size=15), showlegend=False)\n",
    "\n",
    "fig.show()"
   ]
  },
  {
   "cell_type": "markdown",
   "id": "4a5b452d-d20c-4e76-8a44-0b40f192cbcc",
   "metadata": {},
   "source": [
    "## Null values"
   ]
  },
  {
   "cell_type": "code",
   "execution_count": 15,
   "id": "9b820443-5251-4f42-ac2a-6a7240f7a5ba",
   "metadata": {},
   "outputs": [
    {
     "name": "stdout",
     "output_type": "stream",
     "text": [
      "Age                     0\n",
      "Sex                     0\n",
      "HighChol                0\n",
      "CholCheck               0\n",
      "BMI                     0\n",
      "Smoker                  0\n",
      "HeartDiseaseorAttack    0\n",
      "PhysActivity            0\n",
      "Fruits                  0\n",
      "Veggies                 0\n",
      "HvyAlcoholConsump       0\n",
      "GenHlth                 0\n",
      "MentHlth                0\n",
      "PhysHlth                0\n",
      "DiffWalk                0\n",
      "Stroke                  0\n",
      "HighBP                  0\n",
      "Diabetes                0\n",
      "dtype: int64\n"
     ]
    }
   ],
   "source": [
    "print(df.isna().sum())"
   ]
  },
  {
   "cell_type": "markdown",
   "id": "cb4b4fcd-b4ae-4c19-9366-67bac133bc1e",
   "metadata": {
    "tags": []
   },
   "source": [
    "## Duplicate rows\n"
   ]
  },
  {
   "cell_type": "code",
   "execution_count": 18,
   "id": "42d213da-1eca-450a-a076-1098e2cb295c",
   "metadata": {},
   "outputs": [
    {
     "name": "stdout",
     "output_type": "stream",
     "text": [
      "6672\n"
     ]
    },
    {
     "data": {
      "text/html": [
       "<div>\n",
       "<style scoped>\n",
       "    .dataframe tbody tr th:only-of-type {\n",
       "        vertical-align: middle;\n",
       "    }\n",
       "\n",
       "    .dataframe tbody tr th {\n",
       "        vertical-align: top;\n",
       "    }\n",
       "\n",
       "    .dataframe thead th {\n",
       "        text-align: right;\n",
       "    }\n",
       "</style>\n",
       "<table border=\"1\" class=\"dataframe\">\n",
       "  <thead>\n",
       "    <tr style=\"text-align: right;\">\n",
       "      <th></th>\n",
       "      <th>Age</th>\n",
       "      <th>Sex</th>\n",
       "      <th>HighChol</th>\n",
       "      <th>CholCheck</th>\n",
       "      <th>BMI</th>\n",
       "      <th>Smoker</th>\n",
       "      <th>HeartDiseaseorAttack</th>\n",
       "      <th>PhysActivity</th>\n",
       "      <th>Fruits</th>\n",
       "      <th>Veggies</th>\n",
       "      <th>HvyAlcoholConsump</th>\n",
       "      <th>GenHlth</th>\n",
       "      <th>MentHlth</th>\n",
       "      <th>PhysHlth</th>\n",
       "      <th>DiffWalk</th>\n",
       "      <th>Stroke</th>\n",
       "      <th>HighBP</th>\n",
       "      <th>Diabetes</th>\n",
       "    </tr>\n",
       "  </thead>\n",
       "  <tbody>\n",
       "    <tr>\n",
       "      <th>0</th>\n",
       "      <td>4.0</td>\n",
       "      <td>1.0</td>\n",
       "      <td>0.0</td>\n",
       "      <td>1.0</td>\n",
       "      <td>26.0</td>\n",
       "      <td>0.0</td>\n",
       "      <td>0.0</td>\n",
       "      <td>1.0</td>\n",
       "      <td>0.0</td>\n",
       "      <td>1.0</td>\n",
       "      <td>0.0</td>\n",
       "      <td>3.0</td>\n",
       "      <td>5.0</td>\n",
       "      <td>30.0</td>\n",
       "      <td>0.0</td>\n",
       "      <td>0.0</td>\n",
       "      <td>1.0</td>\n",
       "      <td>0.0</td>\n",
       "    </tr>\n",
       "    <tr>\n",
       "      <th>1</th>\n",
       "      <td>12.0</td>\n",
       "      <td>1.0</td>\n",
       "      <td>1.0</td>\n",
       "      <td>1.0</td>\n",
       "      <td>26.0</td>\n",
       "      <td>1.0</td>\n",
       "      <td>0.0</td>\n",
       "      <td>0.0</td>\n",
       "      <td>1.0</td>\n",
       "      <td>0.0</td>\n",
       "      <td>0.0</td>\n",
       "      <td>3.0</td>\n",
       "      <td>0.0</td>\n",
       "      <td>0.0</td>\n",
       "      <td>0.0</td>\n",
       "      <td>1.0</td>\n",
       "      <td>1.0</td>\n",
       "      <td>0.0</td>\n",
       "    </tr>\n",
       "    <tr>\n",
       "      <th>2</th>\n",
       "      <td>13.0</td>\n",
       "      <td>1.0</td>\n",
       "      <td>0.0</td>\n",
       "      <td>1.0</td>\n",
       "      <td>26.0</td>\n",
       "      <td>0.0</td>\n",
       "      <td>0.0</td>\n",
       "      <td>1.0</td>\n",
       "      <td>1.0</td>\n",
       "      <td>1.0</td>\n",
       "      <td>0.0</td>\n",
       "      <td>1.0</td>\n",
       "      <td>0.0</td>\n",
       "      <td>10.0</td>\n",
       "      <td>0.0</td>\n",
       "      <td>0.0</td>\n",
       "      <td>0.0</td>\n",
       "      <td>0.0</td>\n",
       "    </tr>\n",
       "    <tr>\n",
       "      <th>3</th>\n",
       "      <td>11.0</td>\n",
       "      <td>1.0</td>\n",
       "      <td>1.0</td>\n",
       "      <td>1.0</td>\n",
       "      <td>28.0</td>\n",
       "      <td>1.0</td>\n",
       "      <td>0.0</td>\n",
       "      <td>1.0</td>\n",
       "      <td>1.0</td>\n",
       "      <td>1.0</td>\n",
       "      <td>0.0</td>\n",
       "      <td>3.0</td>\n",
       "      <td>0.0</td>\n",
       "      <td>3.0</td>\n",
       "      <td>0.0</td>\n",
       "      <td>0.0</td>\n",
       "      <td>1.0</td>\n",
       "      <td>0.0</td>\n",
       "    </tr>\n",
       "    <tr>\n",
       "      <th>4</th>\n",
       "      <td>8.0</td>\n",
       "      <td>0.0</td>\n",
       "      <td>0.0</td>\n",
       "      <td>1.0</td>\n",
       "      <td>29.0</td>\n",
       "      <td>1.0</td>\n",
       "      <td>0.0</td>\n",
       "      <td>1.0</td>\n",
       "      <td>1.0</td>\n",
       "      <td>1.0</td>\n",
       "      <td>0.0</td>\n",
       "      <td>2.0</td>\n",
       "      <td>0.0</td>\n",
       "      <td>0.0</td>\n",
       "      <td>0.0</td>\n",
       "      <td>0.0</td>\n",
       "      <td>0.0</td>\n",
       "      <td>0.0</td>\n",
       "    </tr>\n",
       "    <tr>\n",
       "      <th>...</th>\n",
       "      <td>...</td>\n",
       "      <td>...</td>\n",
       "      <td>...</td>\n",
       "      <td>...</td>\n",
       "      <td>...</td>\n",
       "      <td>...</td>\n",
       "      <td>...</td>\n",
       "      <td>...</td>\n",
       "      <td>...</td>\n",
       "      <td>...</td>\n",
       "      <td>...</td>\n",
       "      <td>...</td>\n",
       "      <td>...</td>\n",
       "      <td>...</td>\n",
       "      <td>...</td>\n",
       "      <td>...</td>\n",
       "      <td>...</td>\n",
       "      <td>...</td>\n",
       "    </tr>\n",
       "    <tr>\n",
       "      <th>70687</th>\n",
       "      <td>6.0</td>\n",
       "      <td>0.0</td>\n",
       "      <td>1.0</td>\n",
       "      <td>1.0</td>\n",
       "      <td>37.0</td>\n",
       "      <td>0.0</td>\n",
       "      <td>0.0</td>\n",
       "      <td>0.0</td>\n",
       "      <td>0.0</td>\n",
       "      <td>1.0</td>\n",
       "      <td>0.0</td>\n",
       "      <td>4.0</td>\n",
       "      <td>0.0</td>\n",
       "      <td>0.0</td>\n",
       "      <td>0.0</td>\n",
       "      <td>0.0</td>\n",
       "      <td>0.0</td>\n",
       "      <td>1.0</td>\n",
       "    </tr>\n",
       "    <tr>\n",
       "      <th>70688</th>\n",
       "      <td>10.0</td>\n",
       "      <td>1.0</td>\n",
       "      <td>1.0</td>\n",
       "      <td>1.0</td>\n",
       "      <td>29.0</td>\n",
       "      <td>1.0</td>\n",
       "      <td>1.0</td>\n",
       "      <td>0.0</td>\n",
       "      <td>1.0</td>\n",
       "      <td>1.0</td>\n",
       "      <td>0.0</td>\n",
       "      <td>2.0</td>\n",
       "      <td>0.0</td>\n",
       "      <td>0.0</td>\n",
       "      <td>1.0</td>\n",
       "      <td>0.0</td>\n",
       "      <td>0.0</td>\n",
       "      <td>1.0</td>\n",
       "    </tr>\n",
       "    <tr>\n",
       "      <th>70689</th>\n",
       "      <td>13.0</td>\n",
       "      <td>0.0</td>\n",
       "      <td>1.0</td>\n",
       "      <td>1.0</td>\n",
       "      <td>25.0</td>\n",
       "      <td>0.0</td>\n",
       "      <td>1.0</td>\n",
       "      <td>0.0</td>\n",
       "      <td>1.0</td>\n",
       "      <td>0.0</td>\n",
       "      <td>0.0</td>\n",
       "      <td>5.0</td>\n",
       "      <td>15.0</td>\n",
       "      <td>0.0</td>\n",
       "      <td>1.0</td>\n",
       "      <td>0.0</td>\n",
       "      <td>1.0</td>\n",
       "      <td>1.0</td>\n",
       "    </tr>\n",
       "    <tr>\n",
       "      <th>70690</th>\n",
       "      <td>11.0</td>\n",
       "      <td>0.0</td>\n",
       "      <td>1.0</td>\n",
       "      <td>1.0</td>\n",
       "      <td>18.0</td>\n",
       "      <td>0.0</td>\n",
       "      <td>0.0</td>\n",
       "      <td>0.0</td>\n",
       "      <td>0.0</td>\n",
       "      <td>0.0</td>\n",
       "      <td>0.0</td>\n",
       "      <td>4.0</td>\n",
       "      <td>0.0</td>\n",
       "      <td>0.0</td>\n",
       "      <td>1.0</td>\n",
       "      <td>0.0</td>\n",
       "      <td>1.0</td>\n",
       "      <td>1.0</td>\n",
       "    </tr>\n",
       "    <tr>\n",
       "      <th>70691</th>\n",
       "      <td>9.0</td>\n",
       "      <td>0.0</td>\n",
       "      <td>1.0</td>\n",
       "      <td>1.0</td>\n",
       "      <td>25.0</td>\n",
       "      <td>0.0</td>\n",
       "      <td>1.0</td>\n",
       "      <td>1.0</td>\n",
       "      <td>1.0</td>\n",
       "      <td>0.0</td>\n",
       "      <td>0.0</td>\n",
       "      <td>2.0</td>\n",
       "      <td>0.0</td>\n",
       "      <td>0.0</td>\n",
       "      <td>0.0</td>\n",
       "      <td>0.0</td>\n",
       "      <td>1.0</td>\n",
       "      <td>1.0</td>\n",
       "    </tr>\n",
       "  </tbody>\n",
       "</table>\n",
       "<p>64020 rows × 18 columns</p>\n",
       "</div>"
      ],
      "text/plain": [
       "        Age  Sex  HighChol  CholCheck   BMI  Smoker  HeartDiseaseorAttack  \\\n",
       "0       4.0  1.0       0.0        1.0  26.0     0.0                   0.0   \n",
       "1      12.0  1.0       1.0        1.0  26.0     1.0                   0.0   \n",
       "2      13.0  1.0       0.0        1.0  26.0     0.0                   0.0   \n",
       "3      11.0  1.0       1.0        1.0  28.0     1.0                   0.0   \n",
       "4       8.0  0.0       0.0        1.0  29.0     1.0                   0.0   \n",
       "...     ...  ...       ...        ...   ...     ...                   ...   \n",
       "70687   6.0  0.0       1.0        1.0  37.0     0.0                   0.0   \n",
       "70688  10.0  1.0       1.0        1.0  29.0     1.0                   1.0   \n",
       "70689  13.0  0.0       1.0        1.0  25.0     0.0                   1.0   \n",
       "70690  11.0  0.0       1.0        1.0  18.0     0.0                   0.0   \n",
       "70691   9.0  0.0       1.0        1.0  25.0     0.0                   1.0   \n",
       "\n",
       "       PhysActivity  Fruits  Veggies  HvyAlcoholConsump  GenHlth  MentHlth  \\\n",
       "0               1.0     0.0      1.0                0.0      3.0       5.0   \n",
       "1               0.0     1.0      0.0                0.0      3.0       0.0   \n",
       "2               1.0     1.0      1.0                0.0      1.0       0.0   \n",
       "3               1.0     1.0      1.0                0.0      3.0       0.0   \n",
       "4               1.0     1.0      1.0                0.0      2.0       0.0   \n",
       "...             ...     ...      ...                ...      ...       ...   \n",
       "70687           0.0     0.0      1.0                0.0      4.0       0.0   \n",
       "70688           0.0     1.0      1.0                0.0      2.0       0.0   \n",
       "70689           0.0     1.0      0.0                0.0      5.0      15.0   \n",
       "70690           0.0     0.0      0.0                0.0      4.0       0.0   \n",
       "70691           1.0     1.0      0.0                0.0      2.0       0.0   \n",
       "\n",
       "       PhysHlth  DiffWalk  Stroke  HighBP  Diabetes  \n",
       "0          30.0       0.0     0.0     1.0       0.0  \n",
       "1           0.0       0.0     1.0     1.0       0.0  \n",
       "2          10.0       0.0     0.0     0.0       0.0  \n",
       "3           3.0       0.0     0.0     1.0       0.0  \n",
       "4           0.0       0.0     0.0     0.0       0.0  \n",
       "...         ...       ...     ...     ...       ...  \n",
       "70687       0.0       0.0     0.0     0.0       1.0  \n",
       "70688       0.0       1.0     0.0     0.0       1.0  \n",
       "70689       0.0       1.0     0.0     1.0       1.0  \n",
       "70690       0.0       1.0     0.0     1.0       1.0  \n",
       "70691       0.0       0.0     0.0     1.0       1.0  \n",
       "\n",
       "[64020 rows x 18 columns]"
      ]
     },
     "execution_count": 18,
     "metadata": {},
     "output_type": "execute_result"
    }
   ],
   "source": [
    "\n",
    "print(df.duplicated().sum())\n",
    "df.drop_duplicates()"
   ]
  },
  {
   "cell_type": "markdown",
   "metadata": {},
   "source": [
    "## Binning"
   ]
  },
  {
   "cell_type": "code",
   "execution_count": 33,
   "metadata": {},
   "outputs": [],
   "source": [
    "def hist_plots(df):\n",
    "    plt.figure(figsize=(10,4))\n",
    "    plt.hist(df)\n",
    "    plt.title(\"Histogram Plot\")\n",
    "    plt.show()"
   ]
  },
  {
   "cell_type": "code",
   "execution_count": 34,
   "metadata": {},
   "outputs": [
    {
     "data": {
      "image/png": "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",
      "text/plain": [
       "<Figure size 1000x400 with 1 Axes>"
      ]
     },
     "metadata": {},
     "output_type": "display_data"
    }
   ],
   "source": [
    "hist_plots(df['Age'])"
   ]
  },
  {
   "cell_type": "code",
   "execution_count": 35,
   "metadata": {},
   "outputs": [
    {
     "name": "stderr",
     "output_type": "stream",
     "text": [
      "c:\\Users\\Utilizador\\miniconda3\\envs\\envNAME\\lib\\site-packages\\seaborn\\_oldcore.py:1498: FutureWarning:\n",
      "\n",
      "is_categorical_dtype is deprecated and will be removed in a future version. Use isinstance(dtype, CategoricalDtype) instead\n",
      "\n"
     ]
    },
    {
     "data": {
      "image/png": "iVBORw0KGgoAAAANSUhEUgAAAgoAAAGwCAYAAADIeE3bAAAAOXRFWHRTb2Z0d2FyZQBNYXRwbG90bGliIHZlcnNpb24zLjguMCwgaHR0cHM6Ly9tYXRwbG90bGliLm9yZy81sbWrAAAACXBIWXMAAA9hAAAPYQGoP6dpAAAZ0UlEQVR4nO3dbYxU5Rnw8WuWld1FFlSsIAIWlcS2+IptjDWi1lgBtVXTWETEaoyagiim2tYmVForX6TVmGBLEOMjFWIRgwaMr2iM9SUiCn5QG42gQrWpylpZEPY8H/owjwNzlV12YRb390tImLP3Oedm72Xmv2fOQqkoiiIAAKqoq/UEAIDuSygAACmhAACkhAIAkBIKAEBKKAAAKaEAAKTqd3XHtra2+PDDD6O5uTlKpVJXzgkA2E2KooiWlpYYPHhw1NXt/HrBLofChx9+GEOHDt3V3QGAGlq7dm0MGTJkp+N2ORSam5vLJ+rXr9+uHgYA2IM2bNgQQ4cOLb+O78wuh8K2txv69esnFABgL9Pe2wbczAgApIQCAJASCgBASigAACmhAACkhAIAkBIKAEBKKAAAKaEAAKSEAgCQEgoAQEooAAApoQAApIQCAJASCgBASigAACmhAACkhAIAkBIKAEBKKAAAKaEAAKSEAgCQEgoAQEooAAApoQAApIQCAJASCgBASigAACmhAACkhAIAkBIKAEBKKAAAqfpaT4D/rSiKaG1trfU0OqSxsTFKpVKtpwFAFxAK3Vxra2uMGTOm1tPokGXLlkVTU1OtpwFAF/DWAwCQckVhL/L5seOjqOuCJdv6ZTS/tiAiIlqO+WlEr306fchS25bou/L+Th8HgO5FKOxFirr6LnlRr9Brny45ZtEFUwGg+/HWAwCQEgoAQEooAAApoQAApIQCAJASCgBASigAACmhAACkhAIAkBIKAEBKKAAAKaEAAKSEAgCQEgoAQEooAAApoQAApIQCAJASCgBASigAACmhAACkhAIAkBIKAEBKKAAAKaEAAKSEAgCQEgoAQEooAAApoQAApIQCAJASCgBASigAACmhAACkhAIAkBIKAEBKKAAAKaEAAKSEAgCQEgoAQEooAAApoQAApIQCAJASCgBASigAACmhAACkhAIAkBIKAEBKKAAAKaEAAKSEAgCQEgoAQEooAAApoQAApIQCAJASCgBASigAACmhAACkhAIAkBIKAEBKKAAAKaEAAKSEAgCQEgoAQEooAAApoQAApIQCAJASCgBASigAACmhAACkhAIAkKqv9QTaoyiKaG1tjYiIxsbGKJVKNZ4R/JevTeDrbq+4otDa2hpjxoyJMWPGlJ+UoTvwtQl83e0VoQAA1IZQAABSQgEASAkFACAlFACAlFAAAFJCAQBICQUAICUUAICUUAAAUkIBAEgJBQAgJRQAgJRQAABSQgEASAkFACAlFACAlFAAAFJCAQBICQUAICUUAICUUAAAUkIBAEgJBQAgJRQAgJRQAABSQgEASAkFACAlFACAlFAAAFJCAQBICQUAICUUAICUUAAAUkIBAEgJBQAgJRQAgJRQAABSQgEASAkFACAlFACAlFAAAFJCAQBICQUAICUUAICUUAAAUkIBAEgJBQAgJRQAgJRQAABSQgEASAkFACAlFACAlFAAAFJCAQBICQUAICUUAICUUAAAUkIBAEgJBQAgJRQAgJRQAABSQgEASAkFACAlFACAlFAAAFJCAQBICQUAICUUAIBUfa0nsL3nn38+br/99pg6dWqcdNJJtZ4O7LJTTz21/Pvly5d3eptjtm/smWeeGZs3b47evXvHY489FhERp59+erS1tUVdXV089dRT5X2qjR0zZkxs3LgxmpqaYtmyZRERcc4550RLS0s0NzfHww8/HBERkydPjtWrV8fIkSPjzjvvLB/zkksuiTVr1sSwYcPi3nvvTc9Tbdtpp50WRVFEqVSKp59+OiLy58Rq+8+dOzfmz58fEyZMiMsvvzz9HGXHbO/YjnyOq+3f3vN0ZJ7VZGvUXtX+nB3RmfN3du5dqVtdUWhtbY1Zs2bFP//5z5g1a1a0trbWekqwS776RLbtcWe27a5jjh07tmL72LFjq44977zzKradd9555ReibbY9vvDCCyu2X3jhhTF9+vSKbdOnT4/rr7++Ytv1118ff/zjHyu2bXs8e/bsiu2zZ8+uOvbZZ5+NzZs3R0TE5s2b49lnn41ly5ZFW1tbRES0tbWVX/yrjX3hhRdi48aNERGxcePGeOGFF2LFihXR0tISEREtLS2xYsWKWLNmTaxevToiIlavXh1r1qyJiIi33367/Ps1a9bE22+/XfU81bYtWbIkiqKIiIiiKGLJkiXpc2K1/T/99NOYP39+tLW1xfz58+PTTz+t+nnLjjlnzpyKsXPmzKk6tiOf42r7L1q0qOI8ixYtqjoum2e1/avJ1qi9qv05O6Iz5+/s3Ltaqdj2ldlBGzZsiP79+8dnn30W/fr165LJzJ07N+67775yUU+cODEuu+yy2LhxY4wZMyYiIpYtWxZNTU1dcr69wVf/7C3HT4zotU/nD7r1y2he8X922zF70hplX5vbv9h21vLlyx2zGx2zT58+8cUXX1Q8Xrp0aZxxxhmxZcuW8vb6+vqKxx01ceLEqs+J1eZ+1FFHxapVq8qPjz766Hj99dc7dcxqY7ddJdmZ5cuXV31Or7Z/tfMURdHueVa7qjB27Niqa9Re7T1PpjPn7+zcd6ajr9/dJhTef//9mDRpUmzdurW8rb6+Pu6555444IADyt/5LF68OBobGzt9vr1Fa2tr+bu5luMujqjv3fmD7o5Q2LI5ml+9LyJ61hp9dX2WLl0affr06fIXNbpe7969y98tdpXshbkr1dfXx+GHHx5vvvlmlx6zd+/eFS9MXWHIkCGxbt26iuf09urVq1cURVG+ShHx33nut99+8a9//WuH8YMGDYoFCxaUH99///3x5z//eYdxV155ZYwfP36n57/mmmuqruXRRx8dd9xxx07378z5Ozv39thtobBp06bYtGlTxYmGDh3aJaFQFEXccMMNsWLFioovql69esXxxx8fv/rVr+L888/v1Dm+DlqO+WlE7z6dP9DuCIXNX0Tzawt2Pu5rbPHixTtcooeuVFdXV/Hi2V2PuSeOvb2HH344mpubY8uWLXHGGWek45544omor89vz/vqVcJqdnbFtDPn7+zc26ujodDuexRuvfXW6N+/f/nX0KFDOzXRr1qzZk28/PLLO5Tn1q1b4+WXX47333+/y84FsLfaHS+6u/OFfE9FQsR/byKNiJ2+NbKzj19zzTWd+nhnzt/Zue8u3f6KwqhRo2L69Okxbty4iOhZl7UjvPXQ3W3/1sP2NwdCV3JFIeeKQvt19IpCu8/Y0NAQDQ0NnZpcplQqxdSpU2PSpElVt9fV/f8LH42NjT3mRrkdlEq1nkHuK3PrqWtUKpV2y413dL3dcY/CMcccE6+99lqXHnN7dXV1MWLEiC69R6Guri4aGxu7/B6FYcOGxQcffLBL+3b0HoWDDz44mpuby+OuvPLKqu/zX3311Tt9oW1qakrvNzn22GN3+tzWmfN3du67S7f58cghQ4bERRddFKX/94JTKpXioosuikMOOaTGM4OO6cid0Y5Zm2Puys/Ef1WfPn12eHz77bfv8ETe2Sf2iRMn7vCcWO1FJOK/P/XwVUcffXS7j5ndUb/92G2X99vj3nvv3eE5Pdt/+/NMmDAhJkyYsMM8//a3v1Xd//777694PH78+KprtP2P7mayGxb/9Kc/tWv/zpy/s3PfHbpNKERETJgwIQYMGBAREQceeGBcdNFFNZ4RfL1Ve0KqZv/999/h8eGHH16xbdvjgQMHVmwfOHBgjB49umLb6NGjY9SoURXbRo0aFT/60Y8qtm17XO3fZqg2dsaMGRXbZsyYETfeeGPFtm2Pq42dOXNmxbaZM2fGrFmzKrbNmjUr7rrrropt2x5X+3cLqp2n2rZp06ZVbJs2bVr6nFht/9/97nflq691dXUxY8aMqp+37JgTJkyoGLvtxXr7sR35HFfbf8qUKRVjp0yZUnVcNs9q+1eTrVF7VftzdkRnzt/ZuXe1bhUKjY2NMW3atBg4cGBcd911PeZ9br5+tv8uePny5Z3atruOuf13kkuXLq06dvHixRXbFi9eHHPnzq3Ytu3xwoULK7YvXLgwbr755optN998c9x2220V22677ba47rrrKrZte3z11VdXbL/66qurjj3llFOid+//3sfTu3fvOOWUU2LMmDEVL6Db3n+uNvbEE08sX1puamqKE088MY4//vjyZe3m5uY4/vjjY9iwYTFy5MiIiBg5cmQMGzYsIiJGjBhR/v2wYcNixIgRVc9Tbdu5555b8R30ueeemz4nVtt/v/32iwkTJkRdXV1MmDAh9ttvv6qft+yYV1xxRcXYK664ourYjnyOq+1/wQUXVJznggsuqDoum2e1/avJ1qi9qv05O6Iz5+/s3Ltat/l3FP4X/+CSf3Cpu+rJX5vA3mm3/XgkANDzCAUAICUUAICUUAAAUkIBAEgJBQAgJRQAgJRQAABSQgEASAkFACAlFACAlFAAAFJCAQBICQUAICUUAICUUAAAUkIBAEgJBQAgJRQAgJRQAABSQgEASAkFACAlFACAlFAAAFJCAQBICQUAICUUAICUUAAAUkIBAEgJBQAgJRQAgJRQAABSQgEASAkFACAlFACAlFAAAFJCAQBICQUAICUUAICUUAAAUkIBAEgJBQAgJRQAgJRQAABSQgEASAkFACAlFACAlFAAAFJCAQBICQUAICUUAICUUAAAUkIBAEgJBQAgJRQAgJRQAABSQgEASAkFACAlFACAlFAAAFJCAQBICQUAICUUAICUUAAAUkIBAEgJBQAgJRQAgJRQAABS9bWeQHs0NjbGsmXLyr+H7sLXJvB1t1eEQqlUiqamplpPA3bgaxP4uvPWAwCQEgoAQEooAAApoQAApIQCAJASCgBASigAACmhAACkhAIAkBIKAEBKKAAAKaEAAKSEAgCQEgoAQEooAAApoQAApIQCAJASCgBASigAACmhAACkhAIAkBIKAEBKKAAAKaEAAKSEAgCQEgoAQEooAAApoQAApIQCAJASCgBASigAACmhAACkhAIAkBIKAEBKKAAAKaEAAKSEAgCQEgoAQEooAAApoQAApIQCAJASCgBASigAACmhAACkhAIAkBIKAEBKKAAAKaEAAKSEAgCQEgoAQEooAAApoQAApIQCAJASCgBASigAACmhAACkhAIAkBIKAEBKKAAAKaEAAKSEAgCQEgoAQEooAAApoQAApIQCAJASCgBASigAACmhAACkhAIAkKqv9QRov1Lblii64kBbv6z++04otW3pkuMA0L0Ihb1I35X3d/kxm19b0OXHBODrw1sPAEDKFYVurrGxMZYtW1braXRIY2NjracAQBcRCt1cqVSKpqamWk8DgB7KWw8AQEooAAApoQAApIQCAJASCgBASigAACmhAACkhAIAkBIKAEBKKAAAKaEAAKSEAgCQEgoAQEooAAApoQAApIQCAJASCgBASigAACmhAACkhAIAkBIKAEBKKAAAKaEAAKSEAgCQEgoAQEooAAApoQAApIQCAJASCgBASigAACmhAACkhAIAkBIKAECqfld3LIoiIiI2bNjQZZMBAHavba/b217Hd2aXQ6GlpSUiIoYOHbqrhwAAaqSlpSX69++/03Glor1JsZ22trb48MMPo7m5OUql0q4cYq+2YcOGGDp0aKxduzb69etX6+lQhTXq/qxR92eNur+OrlFRFNHS0hKDBw+Ourqd34Gwy1cU6urqYsiQIbu6+9dGv379/OXp5qxR92eNuj9r1P11ZI3acyVhGzczAgApoQAApITCLmpoaIjp06dHQ0NDradCwhp1f9ao+7NG3d/uXqNdvpkRAPj6c0UBAEgJBQAgJRQAgJRQAABSQuF/uPXWW+O73/1uNDc3x0EHHRQ//vGP480336wYUxRF/Pa3v43BgwdHU1NTnHrqqfHGG2/UaMbceuutUSqV4tprry1vs0a198EHH8TFF18cAwYMiD59+sSxxx4br7zySvnj1qi2tmzZEr/5zW9i+PDh0dTUFIcddljMmDEj2traymOs0Z717LPPxjnnnBODBw+OUqkUDz30UMXH27MemzZtiilTpsSBBx4Y++67b5x77rnx/vvvd3wyBakf/vCHxbx584rVq1cXK1euLMaNG1cMGzas+Pzzz8tjZs6cWTQ3NxeLFi0qVq1aVVx44YXFwQcfXGzYsKGGM++ZXnrppeKb3/xmcfTRRxdTp04tb7dGtfXvf/+7OPTQQ4tLL720ePHFF4t33323eOKJJ4p//OMf5THWqLZ+//vfFwMGDCgeeeSR4t133y0eeOCBom/fvsWf/vSn8hhrtGctXbq0uOmmm4pFixYVEVEsXry44uPtWY+rrrqqOOSQQ4rHH3+8WLFiRXHaaacVxxxzTLFly5YOzUUodMBHH31URETxzDPPFEVRFG1tbcWgQYOKmTNnlse0trYW/fv3L+66665aTbNHamlpKUaMGFE8/vjjxejRo8uhYI1q78YbbyxOPvnk9OPWqPbGjRtXXHbZZRXbzj///OLiiy8uisIa1dr2odCe9fj000+LffbZp1iwYEF5zAcffFDU1dUVjz76aIfO762HDvjss88iIuKAAw6IiIh333031q9fH2eeeWZ5TENDQ4wePTqef/75msyxp/r5z38e48aNizPOOKNiuzWqvSVLlsQJJ5wQP/nJT+Kggw6K4447LubMmVP+uDWqvZNPPjmefPLJeOuttyIi4rXXXovnnnsuxo4dGxHWqLtpz3q88sor8eWXX1aMGTx4cIwcObLDa7bL/ylUT1MURUybNi1OPvnkGDlyZERErF+/PiIiBg4cWDF24MCB8d577+3xOfZUCxYsiBUrVsTLL7+8w8esUe298847MXv27Jg2bVr8+te/jpdeeimuueaaaGhoiEsuucQadQM33nhjfPbZZ3HkkUdGr169YuvWrXHLLbfE+PHjI8Lfo+6mPeuxfv366N27d+y///47jNm2f3sJhXaaPHlyvP766/Hcc8/t8LHt/5vtoih65H+9XQtr166NqVOnxmOPPRaNjY3pOGtUO21tbXHCCSfEH/7wh4iIOO644+KNN96I2bNnxyWXXFIeZ41qZ+HChXHffffFX//61/jOd74TK1eujGuvvTYGDx4ckyZNKo+zRt3LrqzHrqyZtx7aYcqUKbFkyZJ4+umnK/5r7UGDBkVE7FBnH3300Q6lx+7xyiuvxEcffRSjRo2K+vr6qK+vj2eeeSbuuOOOqK+vL6+DNaqdgw8+OL797W9XbPvWt74Va9asiQh/j7qDX/ziF/HLX/4yfvrTn8ZRRx0VEydOjOuuuy5uvfXWiLBG3U171mPQoEGxefPm+OSTT9Ix7SUU/oeiKGLy5Mnx4IMPxlNPPRXDhw+v+Pjw4cNj0KBB8fjjj5e3bd68OZ555pk46aST9vR0e6Qf/OAHsWrVqli5cmX51wknnBATJkyIlStXxmGHHWaNauz73//+Dj9W/NZbb8Whhx4aEf4edQdffPFF1NVVvhz06tWr/OOR1qh7ac96jBo1KvbZZ5+KMevWrYvVq1d3fM127R7MnuHqq68u+vfvXyxfvrxYt25d+dcXX3xRHjNz5syif//+xYMPPlisWrWqGD9+vB8ZqrGv/tRDUVijWnvppZeK+vr64pZbbinefvvtYv78+UWfPn2K++67rzzGGtXWpEmTikMOOaT845EPPvhgceCBBxY33HBDeYw12rNaWlqKV199tXj11VeLiChmzZpVvPrqq8V7771XFEX71uOqq64qhgwZUjzxxBPFihUritNPP92PR3a1iKj6a968eeUxbW1txfTp04tBgwYVDQ0NxSmnnFKsWrWqdpNmh1CwRrX38MMPFyNHjiwaGhqKI488svjLX/5S8XFrVFsbNmwopk6dWgwbNqxobGwsDjvssOKmm24qNm3aVB5jjfasp59+uurrz6RJk4qiaN96bNy4sZg8eXJxwAEHFE1NTcXZZ59drFmzpsNz8d9MAwAp9ygAACmhAACkhAIAkBIKAEBKKAAAKaEAAKSEAgCQEgoAQEooAAApoQA9xKWXXhqlUqn8a8CAAXHWWWfF66+/Xh6z7WMvvPBCxb6bNm2KAQMGRKlUiuXLl1eMf+ihh/bQnwCoBaEAPchZZ50V69ati3Xr1sWTTz4Z9fX1cfbZZ1eMGTp0aMybN69i2+LFi6Nv3757cqpANyEUoAdpaGiIQYMGxaBBg+LYY4+NG2+8MdauXRsff/xxecykSZNiwYIFsXHjxvK2u+++OyZNmlSLKQM1JhSgh/r8889j/vz5ccQRR8SAAQPK20eNGhXDhw+PRYsWRUTE2rVr49lnn42JEyfWaqpADQkF6EEeeeSR6Nu3b/Tt2zeam5tjyZIlsXDhwqirq3wq+NnPfhZ33313RETMmzcvxo4dG9/4xjdqMWWgxoQC9CCnnXZarFy5MlauXBkvvvhinHnmmTFmzJh47733KsZdfPHF8fe//z3eeeeduOeee+Kyyy6r0YyBWhMK0IPsu+++ccQRR8QRRxwR3/ve92Lu3Lnxn//8J+bMmVMxbsCAAXH22WfH5ZdfHq2trTFmzJgazRioNaEAPVipVIq6urqKGxe3ueyyy2L58uVxySWXRK9evWowO6A7qK/1BIA9Z9OmTbF+/fqIiPjkk0/izjvvjM8//zzOOeecHcaeddZZ8fHHH0e/fv329DSBbkQoQA/y6KOPxsEHHxwREc3NzXHkkUfGAw88EKeeeuoOY0ulUhx44IF7eIZAd1MqiqKo9SQAgO7JPQoAQEooAAApoQAApIQCAJASCgBASigAACmhAACkhAIAkBIKAEBKKAAAKaEAAKT+LzM0Z8Vr7eljAAAAAElFTkSuQmCC",
      "text/plain": [
       "<Figure size 640x480 with 1 Axes>"
      ]
     },
     "metadata": {},
     "output_type": "display_data"
    },
    {
     "data": {
      "image/png": "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",
      "text/plain": [
       "<Figure size 1000x400 with 1 Axes>"
      ]
     },
     "metadata": {},
     "output_type": "display_data"
    }
   ],
   "source": [
    "sns.boxplot(x=df['BMI'])\n",
    "hist_plots(df['BMI'])"
   ]
  },
  {
   "cell_type": "code",
   "execution_count": 36,
   "metadata": {},
   "outputs": [
    {
     "name": "stderr",
     "output_type": "stream",
     "text": [
      "c:\\Users\\Utilizador\\miniconda3\\envs\\envNAME\\lib\\site-packages\\seaborn\\_oldcore.py:1498: FutureWarning:\n",
      "\n",
      "is_categorical_dtype is deprecated and will be removed in a future version. Use isinstance(dtype, CategoricalDtype) instead\n",
      "\n",
      "c:\\Users\\Utilizador\\miniconda3\\envs\\envNAME\\lib\\site-packages\\seaborn\\_oldcore.py:1498: FutureWarning:\n",
      "\n",
      "is_categorical_dtype is deprecated and will be removed in a future version. Use isinstance(dtype, CategoricalDtype) instead\n",
      "\n",
      "c:\\Users\\Utilizador\\miniconda3\\envs\\envNAME\\lib\\site-packages\\seaborn\\_oldcore.py:1498: FutureWarning:\n",
      "\n",
      "is_categorical_dtype is deprecated and will be removed in a future version. Use isinstance(dtype, CategoricalDtype) instead\n",
      "\n"
     ]
    },
    {
     "data": {
      "text/plain": [
       "<Axes: xlabel='GenHlth', ylabel='count'>"
      ]
     },
     "execution_count": 36,
     "metadata": {},
     "output_type": "execute_result"
    },
    {
     "data": {
      "image/png": "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",
      "text/plain": [
       "<Figure size 640x480 with 1 Axes>"
      ]
     },
     "metadata": {},
     "output_type": "display_data"
    }
   ],
   "source": [
    "sns.countplot(x=df['GenHlth'])"
   ]
  },
  {
   "cell_type": "code",
   "execution_count": 38,
   "metadata": {},
   "outputs": [
    {
     "data": {
      "image/png": "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",
      "text/plain": [
       "<Figure size 1000x400 with 1 Axes>"
      ]
     },
     "metadata": {},
     "output_type": "display_data"
    }
   ],
   "source": [
    "#sns.countplot(x=df['MentHlth'])\n",
    "hist_plots(df['MentHlth'])"
   ]
  },
  {
   "cell_type": "code",
   "execution_count": 39,
   "metadata": {},
   "outputs": [
    {
     "data": {
      "image/png": "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",
      "text/plain": [
       "<Figure size 1000x400 with 1 Axes>"
      ]
     },
     "metadata": {},
     "output_type": "display_data"
    }
   ],
   "source": [
    "hist_plots(df['PhysHlth'])"
   ]
  },
  {
   "cell_type": "code",
   "execution_count": 75,
   "metadata": {},
   "outputs": [
    {
     "data": {
      "image/png": "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",
      "text/plain": [
       "<Figure size 640x480 with 1 Axes>"
      ]
     },
     "metadata": {},
     "output_type": "display_data"
    }
   ],
   "source": [
    "def plot_pie(data, labels):\n",
    "    fig, ax = plt.subplots()\n",
    "    ax.pie(data, labels=labels, autopct='%1.1f%%', startangle=90)\n",
    "    ax.axis('equal')  # Equal aspect ratio ensures that pie is drawn as a circle.\n",
    "    plt.title('Distribution of DiffWalk in Dataset')\n",
    "\n",
    "data = df['DiffWalk'].value_counts()\n",
    "labels = [\"No\", \"Yes\"]\n",
    "plot_pie(data, labels)\n",
    "plt.show()"
   ]
  },
  {
   "cell_type": "code",
   "execution_count": 69,
   "metadata": {},
   "outputs": [
    {
     "data": {
      "image/png": "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",
      "text/plain": [
       "<Figure size 640x480 with 1 Axes>"
      ]
     },
     "metadata": {},
     "output_type": "display_data"
    }
   ],
   "source": [
    "def plot_pie(data, labels):\n",
    "    fig, ax = plt.subplots()\n",
    "    ax.pie(data, labels=labels, autopct='%1.1f%%', startangle=90)\n",
    "    ax.axis('equal')  # Equal aspect ratio ensures that pie is drawn as a circle.\n",
    "    plt.title('Distribution of Stroke in Dataset')\n",
    "\n",
    "data = df['Stroke'].value_counts()\n",
    "labels = [\"No\", \"Yes\"]\n",
    "plot_pie(data, labels)\n",
    "plt.show()"
   ]
  },
  {
   "cell_type": "code",
   "execution_count": 70,
   "metadata": {},
   "outputs": [
    {
     "data": {
      "image/png": "iVBORw0KGgoAAAANSUhEUgAAAgMAAAGZCAYAAAAUzjLvAAAAOXRFWHRTb2Z0d2FyZQBNYXRwbG90bGliIHZlcnNpb24zLjguMCwgaHR0cHM6Ly9tYXRwbG90bGliLm9yZy81sbWrAAAACXBIWXMAAA9hAAAPYQGoP6dpAABFT0lEQVR4nO3dd3gU5cIF8LMlu9lsek8IJPQaepNI71VBRMACCmLhWu69fOrVqyAWREVFFCtVmoiAIkVBOoQSegmEnkJ679ky3x+5BAIJJGGz7+7O+T1PHshmMnOy2XLyzjszCkmSJBAREZFsKUUHICIiIrFYBoiIiGSOZYCIiEjmWAaIiIhkjmWAiIhI5lgGiIiIZI5lgIiISOZYBoiIiGSOZYCIiEjmWAZkYPHixVAoFGUfzs7OCAwMRO/evTFr1iykpKTc8T0zZsyAQqGo1nYKCgowY8YM7Ny5s1rfV9G2wsLCMGzYsGqt515WrFiBL774osKvKRQKzJgxw6Lbs7S///4bHTt2hF6vh0KhwPr16ytc7urVq1AoFPj0008r/Pqnn34KhUKBq1evlt02ceJEhIWF1SjXjd9fWlraPZcNCwu747HYqFEj/Otf/7rj+2+s98aHRqNB/fr18corryArK+uu27lxHyxevLhGP1NFJk6cWC6PXq9HWFgYRowYgUWLFqG4uLjG6960aZNNPf7u9lwhx6QWHYCsZ9GiRWjWrBkMBgNSUlKwd+9ezJ49G59++il+/vln9OvXr2zZyZMnY9CgQdVaf0FBAd59910AQK9evar8fTXZVk2sWLECp0+fxquvvnrH1yIjIxESElLrGWpKkiSMGTMGTZo0we+//w69Xo+mTZtabP1vv/02XnnlFYut724iIiLKikphYSGioqIwY8YM7N69G1FRUXcsv2XLFnh4eCA3NxebNm3C3LlzcejQIezfv7/SwhoUFITIyEg0bNjQotl1Oh22b99elj0uLg6bN2/Gs88+izlz5mDLli01ehxt2rQJX3/9tc0Ugrs9V8gxsQzISKtWrdCxY8eyzx955BH885//xIMPPohRo0bhwoULCAgIAACEhITU+ptjQUEBXFxcrLKte+natavQ7d/L9evXkZGRgZEjR6Jv374WX7+l3zTvxtPTs9z93bt3b+Tm5uK9995DTEwMmjRpUm75Dh06wNfXFwDQv39/pKen46effsL+/fsRERFR4Ta0Wm2t/E6VSuUd633qqafw9NNPY9iwYRg9ejQOHDhg8e0S1TbuJpC5evXqYc6cOcjNzcV3331XdntFQ/fbt29Hr1694OPjA51Oh3r16uGRRx5BQUEBrl69Cj8/PwDAu+++WzaUOnHixHLrO3r0KEaPHg0vL6+yN6C77ZJYt24dWrduDWdnZzRo0ABffvllua/f2AVy65A3AOzcuRMKhaJsl0WvXr2wceNGXLt2rdxQ7w0V7SY4ffo0HnroIXh5ecHZ2Rlt27bFkiVLKtzOypUr8dZbbyE4OBju7u7o168fzp8/X/kdf4u9e/eib9++cHNzg4uLC7p164aNGzeWfX3GjBllZen111+HQqGo8ZB+ZSraTZCVlYVJkybB29sbrq6uGDp0KC5fvlzpLpXk5GSMGzcOHh4eCAgIwDPPPIPs7Owqbd/DwwMA4OTkdM9lb7wZX7t2rdJlKtpNcONxdubMmRrnrMyAAQPw7LPP4uDBg9i9e3fZ7T///DMGDBiAoKAg6HQ6NG/eHG+88Qby8/PLlpk4cSK+/vprACj32LzxmP7666/Ro0cP+Pv7Q6/XIzw8HB9//DEMBkO5DMeOHcOwYcPg7+8PrVaL4OBgDB06FPHx8WXLSJKE+fPno23bttDpdPDy8sLo0aNx+fLlsmXu9Vwhx8SRAcKQIUOgUqnKvYjd7urVqxg6dCi6d++OhQsXwtPTEwkJCdiyZQtKSkoQFBSELVu2YNCgQZg0aRImT54MAGUF4YZRo0Zh7NixeP7558u9IFbk+PHjePXVVzFjxgwEBgZi+fLleOWVV1BSUoJp06ZV62ecP38+pkyZgkuXLmHdunX3XP78+fPo1q0b/P398eWXX8LHxwfLli3DxIkTkZycjNdee63c8m+++SYiIiLw448/IicnB6+//jqGDx+O6OhoqFSqSreza9cu9O/fH61bt8aCBQug1Woxf/58DB8+HCtXrsRjjz2GyZMno02bNhg1ahReeukljB8/Hlqt9p4/g9lshtForPD2qnzv8OHDy4bw27dvj8jIyLvuznnkkUfw2GOPYdKkSTh16hT+85//AAAWLlxYbjlJkspyFRUV4fDhw/jiiy8QERGB+vXr3zPbxYsXAdz52KqqquasrhEjRmD+/PnYvXs3evToAQC4cOEChgwZgldffRV6vR7nzp3D7NmzcejQobLdDW+//Tby8/OxZs0aREZGlq0vKCgIAHDp0iWMHz8e9evXh0ajwYkTJ/DBBx/g3LlzZZnz8/PRv39/1K9fH19//TUCAgKQlJSEHTt2IDc3t2ydzz33HBYvXoyXX34Zs2fPRkZGBmbOnIlu3brhxIkTCAgIqPZzhRyERA5v0aJFEgDp8OHDlS4TEBAgNW/evOzz6dOnS7c+PNasWSMBkI4fP17pOlJTUyUA0vTp0+/42o31vfPOO5V+7VahoaGSQqG4Y3v9+/eX3N3dpfz8/HI/25UrV8ott2PHDgmAtGPHjrLbhg4dKoWGhlaY/fbcY8eOlbRarRQbG1tuucGDB0suLi5SVlZWue0MGTKk3HKrV6+WAEiRkZEVbu+Grl27Sv7+/lJubm7ZbUajUWrVqpUUEhIimc1mSZIk6cqVKxIA6ZNPPrnr+m5d9l4ft95nEyZMKHffbNy4UQIgffPNN+XWPWvWrDvuqxu/v48//rjcsi+++KLk7Oxc9jNIUunvtaIsnTt3lhITE8t9/431JiUlSQaDQcrMzJSWLVsm6XQ6qW7dulJhYeE974NFixbVKGdFJkyYIOn1+kq/Hh0dLQGQXnjhhQq/bjabJYPBIO3atUsCIJ04caLsa1OnTr3jOVARk8kkGQwGaenSpZJKpZIyMjIkSZKkqKgoCYC0fv36Sr83MjJSAiDNmTOn3O1xcXGSTqeTXnvttbLb7vZcIcfE3QQEoPSvtbtp27YtNBoNpkyZgiVLlpQbVqyORx55pMrLtmzZEm3atCl32/jx45GTk4OjR4/WaPtVtX37dvTt2xd169Ytd/vEiRNRUFBQ7i84oPSvwlu1bt0awN2HsvPz83Hw4EGMHj0arq6uZberVCo8+eSTiI+Pr/Kuhoq88sorOHz48B0fVZkouGvXLgDAmDFjyt0+bty4Sr+novugqKjojqNVHnzwwbIs+/btw4IFC5Camoo+ffpUeERCYGAgnJyc4OXlhSeeeALt27fHli1b4OzsfM+f435yVldFz6HLly9j/PjxCAwMhEqlgpOTE3r27AkAiI6OrtJ6jx07hhEjRsDHx6dsHU899RRMJhNiYmIAAI0aNYKXlxdef/11fPvttzh79uwd6/njjz+gUCjwxBNPwGg0ln0EBgaiTZs21T4KiBwLdxMQ8vPzkZ6ejvDw8EqXadiwIbZt24aPP/4YU6dORX5+Pho0aICXX365WrPQbwx9VkVgYGClt6Wnp1d5PTWRnp5eYdbg4OAKt+/j41Pu8xvD+IWFhZVuIzMzE5IkVWs71RESElJuwugNVXnRT09Ph1qthre3d7nbb0wwrUhV7wMPD49yubp164YWLVrggQcewJw5czBr1qxyy2/btg0eHh5wcnJCSEjIHduprpr8rqriRvG78bvLy8tD9+7d4ezsjPfffx9NmjSBi4sL4uLiMGrUqCptLzY2Ft27d0fTpk0xd+5chIWFwdnZGYcOHcLUqVPL1uHh4YFdu3bhgw8+wJtvvonMzEwEBQXh2WefxX//+184OTkhOTkZkiRV+jts0KDBff38ZN9YBggbN26EyWS65+GA3bt3R/fu3WEymRAVFYV58+bh1VdfRUBAAMaOHVulbVVnIlJSUlKlt914Qb/x1+Htx3hX5Zj3u/Hx8UFiYuIdt1+/fh0Ayma33w8vLy8olcpa305N+Pj4wGg0IiMjo1whqOh3Ygk3RlJOnDhxx9fatGkj7H6ojt9//x3AzcNqt2/fjuvXr2Pnzp1lowEA7nmOhFutX78e+fn5WLt2LUJDQ8tuP378+B3LhoeHY9WqVZAkCSdPnsTixYsxc+ZM6HQ6vPHGG/D19YVCocCePXsqnHNSlXko5Li4m0DmYmNjMW3aNHh4eOC5556r0veoVCp06dKlbAb0jSF7S/2FdcOZM2fueHNYsWIF3Nzc0L59ewAomwF/8uTJcsvdeGG+lVarrXK2vn37lr2Y32rp0qVwcXGxyGFrer0eXbp0wdq1a8vlMpvNWLZsGUJCQu44zM5abrx5/fzzz+VuX7VqVa1s78abm7+/f62sv7Zt3boVP/74I7p164YHH3wQwM3ie/ub7K1H7dxQ2XOnonVIkoQffvih0iwKhQJt2rTB559/Dk9Pz7Ln57BhwyBJEhISEtCxY8c7Pm4dGazOc4UcA0cGZOT06dNl+wlTUlKwZ88eLFq0CCqVCuvWrbvr7Oxvv/0W27dvx9ChQ1GvXj0UFRWVzWS+cbIiNzc3hIaG4rfffkPfvn3h7e0NX1/fGh8GFxwcjBEjRmDGjBkICgrCsmXLsHXrVsyePRsuLi4AgE6dOqFp06aYNm0ajEYjvLy8sG7dOuzdu/eO9YWHh2Pt2rX45ptv0KFDByiVygqH0QFg+vTp+OOPP9C7d2+888478Pb2xvLly7Fx40Z8/PHHZYfC3a9Zs2ahf//+6N27N6ZNmwaNRoP58+fj9OnTWLlypbBDugYNGoSIiAj8+9//Rk5ODjp06IDIyEgsXboUQOnx9jWVlZVVdiy+wWBAdHQ0PvzwQ2i1WkydOtUi+WuL2Wwuy15cXIzY2Fhs3rwZq1evRvPmzbF69eqyZbt16wYvLy88//zzmD59OpycnLB8+fIKRz9uvBHPnj0bgwcPhkqlQuvWrdG/f39oNBqMGzcOr732GoqKivDNN98gMzOz3Pf/8ccfmD9/Ph5++GE0aNAAkiRh7dq1yMrKQv/+/QGUnuxpypQpePrppxEVFYUePXpAr9cjMTERe/fuRXh4OF544YWyPFV9rpCDEDd3kazlxoz7Gx8ajUby9/eXevbsKX344YdSSkrKHd9z+wz/yMhIaeTIkVJoaKik1WolHx8fqWfPntLvv/9e7vu2bdsmtWvXTtJqtRIAacKECeXWl5qaes9tSVLprPOhQ4dKa9askVq2bClpNBopLCxM+uyzz+74/piYGGnAgAGSu7u75OfnJ7300ktls+FvPZogIyNDGj16tOTp6SkpFIpy20QFR0GcOnVKGj58uOTh4SFpNBqpTZs25WanS9LNowl++eWXcrdXNJu9Mnv27JH69Okj6fV6SafTSV27dpU2bNhQ4fqqczRBZct+8skn9zyaQJJK76+nn35a8vT0lFxcXKT+/ftLBw4ckABIc+fOLVuust9tRUd63H40gUqlkurVqyeNHj1aOnbsWLnvv9tjpqr3QUVHE1QlZ0UmTJhQLrtOp5Pq1asnDR8+XFq4cKFUXFx8x/fs379feuCBByQXFxfJz89Pmjx5snT06NE7shUXF0uTJ0+W/Pz8yh6bN/Js2LBBatOmjeTs7CzVqVNH+r//+z9p8+bN5R7f586dk8aNGyc1bNhQ0ul0koeHh9S5c2dp8eLFd2RauHCh1KVLl7LHW8OGDaWnnnpKioqKKlvmbs8VckwKSbrHNHIiov9ZsWIFHn/8cezbtw/dunUTHYeILIRlgIgqtHLlSiQkJCA8PBxKpRIHDhzAJ598gnbt2pUdekhEjoFzBoioQm5ubli1ahXef/995OfnIygoCBMnTsT7778vOhoRWRhHBoiIiGSOhxYSERHJHMsAERGRzLEMEBERyRzLABERkcyxDBAREckcywAREZHMsQwQERHJHMsAERGRzLEMEBERyRzLABERkcyxDBAREckcywAREZHMsQwQERHJHMsAERGRzLEMEBERyRzLABERkcyxDBAREckcywAREZHMsQwQERHJHMsAERGRzKlFByCi+5dVUILrWUXIyC9BbpEBucVG5BUZkVtkRF6xAXnFpf/PLTKi0GCCySzBLEkwmyWYJWCD9r+AQgUo1f/7UN78v9oZ0PsCer8KPnwBnRegUIi+C4joPrAMENk4o8mMq+n5iM0oQGJ2ERKzikr/zS5EUnbp/wsNpvvbiPOxmn+v0glw8QFcbysKrv6AT2MgoAXgGcrCQGTDWAaIbETpm34BLiTnIiY5DzEpubiQnIsrafkwmCTR8SpnNgB5SaUfldG4An7NAP/mQEDL0n/9W5YWCCISTiFJkg2/yhA5JpNZQnRiDo7GZuJYbBaiE3NwOTUfJSazkDxXnccL2S5cfEtHDvxv/WgOaF3F5CGSKZYBIivIzC/B0dhMHI3NxJFrmTgZn42Ckvsc2rcgYWWgQgogoBXQoCfQoBcQ2g3Q6EWHInJoLANEtSCnyIC9F9KwOyYVh65m4EpaPmz5mWZbZeA2Kg1Qp2NpMWjQs/T/Ku7hJLIklgEiC5AkCWeu52Dn+RTsiknFsdgsGM3289Sy6TJwO41b6WjBjXIQ0FJ0IiK7xzJAVEPZBQbsupCKnedTsDsmDWl5xaIj1ZhdlYHb6f2B+j2Ahr2BpkMAF2/RiYjsDssAUTXkFRux9WwSfj9+HXsvptn2LP9qsOsycCuVBmjUH2j9KNBkMODkLDoRkV1gGSC6hyKDCdvPpWDDievYcT4FRQYxM/5rk8OUgVtp3YHmI0qLQViP0hMpEVGFWAaIKmA0mbH7Qio2nEjE1rPJyCs2io5UqxyyDNzKLRhoNQpoPQYIaiM6DZHNYRkgukVCViFWHozF6qg4pOTa7xyA6nL4MnArv2ZA+KOlH16hotMQ2QSWAZI9s1nCzpgULD8Qix3nU2BHBwFYjKzKQBkFUK8r0P4poNVoQK0RHYhIGJYBkq3U3GKsjorDioOxSMgqFB1HKHmWgVu4BQFdngc6Pg04e4hOQ2R1LAMkOyfisvDDnsv480ySwxwNcL9kXwZu0LgBHSYAXV8EPOqITkNkNSwDJBs7zqfg252XcPBKhugoNodl4DZKp9IJh91eBgJbiU5DVOtYBsihmc0SNpy8jm92XsK5pFzRcWwWy8BdNOxTWgoa9hadhKjWsAyQQzKazFh7LAHf7ryEy2n5ouPYPJaBKghsXVoKWo7ktRHI4bAMkEMxmSX8eiQeX26/gPhMeU8KrA6WgWrwqAs8+CrQ4WlAqRKdhsgiWAbIYfwdnYzZW84hJjlPdBS7wzJQA37NgAHvA437i05CdN9YBsjuHY/LwoebonGIEwNrjGXgPjTsCwz8APBvLjoJUY2xDJDdupKWj0/+PIdNp5JER7F7LAP3SaEqPXlR77cAVz/RaYiqjWWA7E56XjHm/n0BKw/F8jwBFsIyYCFad6D7v0rPU6DWik5DVGUsA2Q3JEnC8oOx+HjLOeQUOfaFg6yNZcDCPEOBfjNKz1VAZAdYBsgunL2eg7fWn8Kx2CzRURwSy0AtqdsFGDgLCOkgOgnRXbEMkE3LLzbi860xWLT/KkxyvIKQlbAM1CZF6RUSB30E6H1EhyGqEMsA2awtp5Mwc8MZXM8uEh3F4bEMWIHeDxg+F2g2VHQSojuwDJDNuZ5ViHd+O41t0Smio8gGy4AVtRkPDP6IV0ckm8IyQDZl3bF4vPPbGeRygqBVsQxYmXsI8PDXQINeopMQAWAZIBuRVVCCt9afxsaTiaKjyBLLgAgKoNNkoP9MQOMiOgzJHMsACbc7JhX/t+YEknOKRUeRLZYBgbwbAiO/Bep2Fp2EZIxlgIQpMpgwa1M0lh64Bj4KxWIZEEyhAiJeBnq9Cag1otOQDLEMkBCn4rPxz9XHcTGFFxWyBSwDNiKgVekoQWC46CQkM0rRAUh+Fu+7glHf7GMRILpd8mnghz7Ans/A4TKyJo4MkNUUlpjwn7Unsf74ddFR6DYcGbBBTQYDo74HnN1FJyEZ4MgAWcXVtHyMnL+PRYCoqmI2Az/0BlLOiU5CMsAyQLVu29lkDP9qL84l5YqOQmRf0i8CP/YFzv4mOgk5OJYBqjVms4RP/zyPZ3+K4kmEiGqqJA9Y/RSwbQZgNotOQw6KcwaoVmQXGPDSqmPYHZMqOgpVAecM2IlG/YHRCzmPgCyOIwNkcXEZBRj5zT4WASJLu7gVWDgQyLwmOgk5GJYBsqgTcVkYOX8fLqfmi45C5JhSzpYefhh7UHQSciAsA2Qx284mY+z3B5CWVyI6CpFjK0gDlgwHTvwsOgk5CJYBsoifIq/iuWVHUGgwiY5CJA+mYmDdFODv93iCIrpvatEByL5JkoRZm8/h+92XRUchkqc9nwIF6cCwzwGFQnQaslMsA1RjxUYT/rX6BC87TCTakUWAyQCMmAcoOeBL1ccyQDVSZDDh2aVR2HMhTXQUIgKA48sAU0nphY6UKtFpyM6wQlK1FZaY8MziwywCRLbm1Grg10mAiSf5ouphGaBqyS82YsKiQ9h/KV10FCKqyJl1wC8TACOP6qGqYxmgKsstMuCphYdw6EqG6ChEdDfn/gB+fgIwFotOQnaCZYCqJLvQgCcXHMKRa5mioxBRVVz4E1g5FjAUik5CdoBlgO4pq6AET/x4EMfjskRHIaLquLQdWP4oUMIzgtLdsQzQXeUUGfD4jwdxKiFbdBQiqomre4BljwDFvIQ4VY5lgCpVZDBh8uIonLmeIzoKEd2P2Ejgp5FAEUs9VYxlgCpkMkv4x4pjOHSVkwWJHEL8YWDleB5lQBViGaAKvfHrSWyLThYdg4gs6dpe4LepolOQDWIZoDvM2hSNX47Ei45BRLXh1Gpgx4eiU5CNYRmgcr7ffQnf8aJDRI5t12zg+ArRKciGsAxQmTVH4jFr8znRMYjIGn5/Gbi8S3QKshEsAwQA2B2Tijd+PcnLohPJhdkArH4SSOEfAMQyQAAupuRh6oqjMJrZBIhkpSi79KREeSmik5BgLAMyl1VQgslLDiO3iFc5I5Kl7FhgxWNASYHoJCQQy4CMGU1mvLDsKK6m80WASNauHwV+nQyYzaKTkCAsAzI284+ziLzMSxETEYDzG4G/3hKdggRhGZCp1VFxWBp5TXQMIrIlB+YDB78XnYIEYBmQoeNxWfjv+tOiYxCRLfrzP0B8lOgUZGUsAzKTnleM5386ghIj9w0SUQXMRuDXSUARL1AmJywDMiJJEqb9cgJJOUWioxCRLcu8Cmz8l+gUZEUsAzKycN9V7DifKjoGEdmDU7/wlMUywjIgE6cTsjGbpxomourY9H9A+iXRKcgKWAZkIL/YiJdWHkOJifMEiKgaSvKANc8AJoPoJFTLWAZk4J3fzuBKWr7oGERkjxKPA9tmiE5BtYxlwMGtP5aAX4/Gi45BRPYs8mvg4jbRKagWsQw4sGvp+TyfABFZgASsewHI4wRkR8Uy4KAkScK/V59AXjEvQEREFpCfAqx/HrzOuWNiGXBQSyOvIepapugYRORILm4r3WVADodlwAElZBXi4y08jJCIasHf7wLJZ0SnIAtjGXBAb649hfwSk+gYROSITCXAxn+LTkEWxjLgYH49Eo9dMZzkQ0S1KDYSOL5SdAqyIJYBB5KWV4z3Np4VHYOI5GDrO0BRtugUZCEsAw5k+u9nkFXAM4URkRXkpwDbPxCdgiyEZcBBbD2bjI0nE0XHICI5OfwjkHhSdAqyAJYBB1BsNOHdDZzdS0RWJpmATdN47gEHwDLgAH7ccwXxmYWiYxCRHMUdBI4vF52C7hPLgJ1LyS3C/B0XRccgIjnbOh0ozBKdgu4Dy4Cd+2TLeZ5TgIjEKkgDtr8nOgXdB5YBO3Y6IZtXJCQi2xC1ELh+XHQKqiGWATs2c8NZmDlvh4hsgWQuPTMhJxPaJZYBO7XxZCIOXc0QHYOI6KaEKODYMtEpqAZYBuxQsdGEWZujRccgIrrTrtmAiSc/szcsA3ZoxcFYHkpIRLYpO46HGtohlgE7U2Qw4dtdl0THICKq3J7PAJNRdAqqBpYBO7PyUCySc4pFxyAiqlzWNeDkKtEpqBpYBuxIkcGEb3ZyVICI7MCeOYCZ50CxFywDdmTFwVik5HJUgIjsQMZl4NQvolNQFbEM2AnOFSAiu7P7U8BsFp2CqoBlwE5wVICI7E76BeDMWtEpqApYBuxAkcGEbzgqQET2aPenPCuhHWAZsAO/HIlHKkcFiMgepUYDZ38TnYLugWXAxkmShMX7roiOQURUcxwdsHksAzZu94U0XErNFx2DiKjmkk8B5zaKTkF3wTJg4xZxVICIHMGeT0UnoLtgGbBhl1LzsCsmVXQMIqL7d/1Y6QfZJJYBG7Zk/1XuZiMix3F0qegEVAmWARuVU2TAr0fiRccgIrKcU78CJQWiU1AFWAZs1OrDccgv4Xm9iciBFGfzMEMbxTJggyRJwpLIq6JjEBFZHncV2CSWARsUeSkdcRmFomMQEVle7H4g7aLoFHQblgEbtOYo5woQkQM7ukR0AroNy4CNKSgx4s/TSaJjEBHVnhOrAJNRdAq6BcuAjdl8KokTB4nIseWnADGbRaegW7AM2Ji1x7iLgIhkgBMJbQrLgA25nlWIyEvpomMQEdW+i38D2QmiU9D/sAzYkHXHEmDmGQeJSA4kE3B8hegU9D8sAzbkVx5FQERycuwnXtrYRrAM2IhT8dm4zEsVE5GcZF0DEo6ITkFgGbAZf53l4YREJEMxf4pOQGAZsBlbzyaLjkBEZH0XWAZsAcuADYjLKMC5pFzRMYiIrC/xJJDLkVHRWAZsAEcFiEi+JODCX6JDyB7LgA1gGSAiWeO8AeFYBgTLLjDg8NUM0TGIiMS5vBMwlohOIWssA4JtP58MI880RERyVpIHXNsrOoWssQwIxl0EREQAYjhvQCSWAYFMZgl7YtJExyAiEo+HGArFMiDQifgs5Bbzmt5ERMi4DKRdEJ1CtlgGBOIVComIbsGjCoRhGRBo/yXuIiAiKsNdBcKwDAhSbDThyLVM0TGIiGzHtUigKMciq5IkCf369cPAgQPv+Nr8+fPh4eGB2NhYi2zLEbAMCHIyPhtFBrPoGEREtsNsAOIPW2RVCoUCixYtwsGDB/Hdd9+V3X7lyhW8/vrrmDt3LurVq2eRbTkClgFBDl3hiYaIiO4QH2WxVdWtWxdz587FtGnTcOXKFUiShEmTJqFv377o3LkzhgwZAldXVwQEBODJJ59EWtrNXbdr1qxBeHg4dDodfHx80K9fP+TnO+5l5lkGBOFZB4mIKpBguTIAABMmTEDfvn3x9NNP46uvvsLp06cxd+5c9OzZE23btkVUVBS2bNmC5ORkjBkzBgCQmJiIcePG4ZlnnkF0dDR27tyJUaNGQZIc9wRxCsmRfzobZTZLaDPzL+QW8bBCsg1XnceLjkBUSucNvH7FoqtMSUlBq1atkJ6ejjVr1uDYsWM4ePAg/vzz5oTF+Ph41K1bF+fPn0deXh46dOiAq1evIjQ01KJZbBVHBgSIScllESAiqkhhBpB+yaKr9Pf3x5QpU9C8eXOMHDkSR44cwY4dO+Dq6lr20axZMwDApUuX0KZNG/Tt2xfh4eF49NFH8cMPPyAz07EnfLMMCHAmwTKzZYmIHJIF5w3coFaroVarAQBmsxnDhw/H8ePHy31cuHABPXr0gEqlwtatW7F582a0aNEC8+bNQ9OmTXHlimVHLGwJy4AAZ66zDBARVcrC8wZu1759e5w5cwZhYWFo1KhRuQ+9Xg+g9GiEiIgIvPvuuzh27Bg0Gg3WrVtXq7lEYhkQ4Mz1bNERiIhs1/Vjtbr6qVOnIiMjA+PGjcOhQ4dw+fJl/PXXX3jmmWdgMplw8OBBfPjhh4iKikJsbCzWrl2L1NRUNG/evFZziaQWHUCOohM5MkBEVKnks4DZDChr5+/V4OBg7Nu3D6+//joGDhyI4uJihIaGYtCgQVAqlXB3d8fu3bvxxRdfICcnB6GhoZgzZw4GDx5cK3lsAY8msLK4jAJ0/3iH6BhE5fBoArI5/4gCfBuLTiEb3E1gZdxFQERUBUknRSeQFZYBKzvLyYNERPeWdFp0AllhGbAyHklARFQFSadEJ5AVlgErO5eUKzoCEZHtYxmwKpYBKyo2mpCYXSg6BhGR7ctLstjljOneeGihFcVnFsLMYzeIHNKsPcV4c3sxXumiwReDnAEAM3YWYdVpI+JyzNCogA5BKnzQR4suIZW/9PZanI9d10x33D6ksRobx7sAAJafNOCNv4uQXyJhUjsNPhngXLbc1SwzBvxUgKgperhrFRb+Ka0sJwFwdhedQhZYBqwoNqNAdAQiqgWHE0z4/mgJWgeUH2xt4qPCV0PUaOClRKFBwucHSjBgWQEuvuQKP33FA7NrH3NBienmXw3pBRLafJuPR1uUvlynFZgxeUMhFj+kQwMvJYauKECvMBWGNnECALywsRAf9dPafxEAgOwEwN9xT/RjS7ibwIriWAaIHE5eiYTH1xbih+E6eDmXfwMeH+6Efg1Ky0BLfxU+G+iMnGLgZLK50vV56xQIdFWWfWy9bISLE/Boi9I3+8uZEjy0CjzWygmd6qjQu74KZ1NL17filAEalQKjmjvV3g9sTTnxohPIBsuAFV1LZxkgcjRTNxVhaGM1+jW4+0BriUnC90dK4KEF2gRW/aV3wTEDxrZygl5TWjQaeytRYJBwLNGEjEIJhxNMaB2gQkahhHd2FOGrwc73WKMdyU4QnUA2uJvAiribgMixrDptwNFEEw4/q690mT9iDBi7phAFBiDITYGtT+rh61K1MnAowYTTKWYsGKEru81Lp8CSh3V4an0hCg0SnmrjhIGN1Hjmt0K81FmDK1lmjFhVAIMJmNFLi9Et7HiUIIdlwFpYBqyIuwmIHEdcthmvbCnCX0+4wFld+f753mFqHH/eFWkFZvxwxIAxawpwcLIe/pXMGbjVgqMlaOWvROc6qnK3j2zuhJG37ArYedWIUykmfDXEGY2+zMPKR3QIdFWg84/56BGqqtK2bFI2dxNYi50+QuwTywCR4ziSaEJKvoQO3+dDPTMH6pk52HXNhC8PlkA9Mwem/x06pNco0Mhbia4haix4SAe1UoEFRw33XH+BQcKqMwZMbnf3v+yLjRJe3FiE74bpcDHDDKMZ6BmmRlNfFZr4KHEw/s4jE+wGRwashiMDVpKRX4L8Ejt+UhJROX3rq3HqhfK7B57+rRDNfFV4PUIDlbLi0QJJklBsuvcxxqvPGFBsBJ5offcy8N7uYgxupEb7IBWOJZpgvOX4ZYMJqMKmbBfnDFgNy4CVpOYWi45ARBbkplWglX/54Xu9kwI+utLb80skfLCnGCOaqhHkqkR6oYT5h0sQnyOVHRkAAE+tK0QdNwVm9Ss/8W/BMQMebqaGz13mF5xJMeHnM0Ycf660lDTzVUKpUGDB0RIEuipwLs2MTsGqSr/f5hkLgYIMwMVbdBKHxzJgJZkFJaIjEJEVqZTAuTQzlpwoRFqBBB+dAp3qqLDnaT1a3lIiYrPNUCrKv+HHpJuwN9aEv55wqXT9kiRhyh9F+HygtuxIA52TAosfdsbUTUUoNgJfDXFGHXc73xucHc8yYAUKSZLseRDJbmw+lYgXlh8VHYOoQledx4uOQFSxcauApoNFp3B4dl4Z7UcGRwaIiKqPRxRYBcuAlWTmswwQEVUbjyiwCpYBK8ksuPehREREdJvcJNEJZIFlwEo4MkBEVAMGXvbdGlgGrIRzBoiIasDE105rYBmwEu4mICKqASPP0WINLANWUlBsFB2BiMj+cGTAKlgGrOTWU4QSEVEVcWTAKlgGrKTEaBYdgYjI/phYBqyBZcBKDCaWASKiajNyN4E1sAxYCXcTEBHVAEcGrIJlwEoM3E1ARFR9HBmwCpYBKzGYWQaIiKqNIwNWwTJgJQYTdxMQEVUbRwasgmXACsxmCSbOGSAbZnAPFR2BqGIcGbAKlgEiwi734aIjEFWM5xmwCpYBK1AqFXBSKUTHIKrUjPgOkNQ60TGIKiABJp7OvbaxDFiJs1olOgJRpeKLtLgSNFh0DKI7KVSAykl0CofHMmAlWife1WTbPs/uKToC0Z20bqITyALfoaxEy5EBsnEbUvyQ599BdAyi8pzdRSeQBZYBK+HIANmDNaohoiMQlaf1EJ1AFvgOZSWcM0D2YHZsE5j0/qJjEN3EkQGrYBmwEo4MkD0oNKlw2HuE6BhEN2lZBqyB71BWwpEBshfvJnaFpOTsbbIRHBmwCpYBK3HRsAyQfYjOc0FiUF/RMYhKcWTAKlgGrMRbrxEdgajKvitkGSAbwZEBq2AZsBJfN63oCERVtuR6HRR5Nxcdg4gjA1bCMmAlvq4sA2RfNumGiY5AxJEBK2EZsBJfV+4mIPvyXmw4JB7jTaJxZMAq1KIDyIWfnY8MZO1djux9K8vdptR7ou4/lpV9bkiLQ+auRSiKPQ1AgpNPPfg9/DrU7hUft15wfj+yD6yGITMRMBuh9gqGe6eRcG3Vp2yZvDM7kLVrCSRDEVxbD4BX72fKvmbMTkbyz28jaMIXUGpdLPsDEzINapz2H4bwuOWio5CcObOQWgPLgJX42HkZAAAn33oIeOyDmzcobw4sGTITkbT8Nbi27g/PBx+HQquHIT0OClXlIyJKnSs8HhgDJ++6gEqNwkuHkL7pC6hcPKBr0AGmgmxkbJkHnyGvQu0ZiJQ170JbLxwuDTsBANL/nA+vnhNZBGrRR2kPYhlWQAFJdBSSK44MWAXLgJU4xG4CpQoqV68Kv5S1eyl0DTuW+8vdyTPwrqtzrte63OdOHR9C/untKI4/C12DDjBmJUGhdYG+eY+y5Q1psUDDTsg/uxMKlRouTbvd5w9Fd7Mv0wMZ9bvDJ3G36CgkV65+ohPIAucMWImXiwYqpUJ0jPtizLyO+K+fQvy3k5D622wYspIAAJJkRuHlKKi9gpH889uIm/c4Epf+CwUxkVVetyRJKLx6HIaMeGjrtgIAqL3rQDIUoyT5EkyFuShJjIHGLwymwlxk7VkO7/7P18rPSeUtNQ4QHYHkSukEeIaKTiELCkmSOP5nJZ0/2IaU3GLRMWqk8FIUzMZiOHnXgSk/C9n7V8GQEY/gSfMBkwnxXz8JhZMWnt2fhHO91ii8cgRZu5YiYNyHcK4XXul6zcX5iP96AiSTAVAo4TPgBbi2vvnmUxCzH1l7lkMylkDfshc8H3wcaZu+gMa/PjQBDZGx7XvAbIRHxHjomz1ojbtCdlQKM875/xdO2VdFRyG58WkEvHREdApZ4G4CK6rr7WK3ZUDXsOPNT/wAbXAzJHw/Gfmn/obL/4bxdY26wr3TwwAATUADFCdEI/f45ruWAYVGh6Cnv4RUUoSia8eRsX0B1J6BZbsQXJp0g0uTm7sCimJPwpB6Dd79n8f176fAd/j/QaX3QuLSf8G5biuo9J4W/9nlziQpsdNtOPpnzxMdheTGu6HoBLLB3QRWFOajFx3BYpQaZ2h8w2DIvA6VizugVMHJt265ZZx86sKUk3rX9SgUSjh5BUMT0ADunUdB3zQC2ZG/VLisZDQg469v4D1wKoyZiZDMJjjXC4eTTwicvOugOPG8xX4+Ku/d+PaQnDhRk6zMh2XAWlgGrKi+r+O8mEpGAwzpcVC5ekOhcoI2sDGMGQnlljFkJEBVyWGFla5Xkkp3GVQga/8qODfoAG1gI0AyA2bTze8zGwGzufo/CFVJfJEWlwIHi45BcuPdQHQC2WAZsKIwX/sdGcjcvgBFsadgyEpC8fXzSF3/IcwlBXBtVXoOe/cuo5AfvQe5x7fAkHkdOUc2oPDiIbi1H1K2jrQ/5iBz1+Kyz7MjV6PwyjEYspJgSI9DzqF1yD+zHfqWve/YfknqNRSc2w3PB58AAKi9QwCFErkn/kLBpcMwpMdDE9S4du8Emfssq6foCCQ3HBmwGs4ZsCJ73k1gzE1D2oZPYCrIgcrFHdrgZgh8cg7UHqV/+bs06QafgS8i+8AvyPz7e6i968Bv5JtwDml5cx05qYDiZv80G4qRsXU+TLnpUKg1cPIOge+wf5cdSniDJEnI+PMrePV5FkqNMwBA6aSFz5BXkbH1G0gmA7z7Pw+1m68V7gn52pTqi9x6HeGWEiU6CskF5wxYDY8msKL8YiNaTv9TdAyiGpseFo2nk94THYPkQKUF3koqd3Izqj28l61Ir1XDj1cvJDv2cVwTmPQBomOQHHiFsQhYEe9pK6tvx7sKiApNKhzyHiE6BskB5wtYFcuAldW340mERAAwM7ELJKWT6Bjk6HgkgVWxDFhZk0A30RGI7kt0nguuB/UTHYMcHUcGrIplwMpaBvMKXGT/vi3sc++FiO4HjySwKpYBK2sZ7A6FfV+viAg/Xa+DIp8WomOQI/NrJjqBrMiqDEycOBEKhQIfffRRudvXr18PhZXeod2cnVDP23HOREjytdF5qOgI5Ki8wgA3HrViTbIqAwDg7OyM2bNnIzMzU1iGVsEewrZNZCnvx4bD7OwpOgY5orpdRSeQHdmVgX79+iEwMBCzZs2qdJlff/0VLVu2hFarRVhYGObMmWPRDK1DWAbI/mUa1DjtN0x0DHJE9VgGrE12ZUClUuHDDz/EvHnzEB8ff8fXjxw5gjFjxmDs2LE4deoUZsyYgbfffhuLFy+2WIY2dT0tti4ikWalRUBSyO5lhGpbvQdEJ5AdWT6LR44cibZt22L69Ol3fO2zzz5D37598fbbb6NJkyaYOHEi/vGPf+CTTz6x2PZbh3hApeQsQrJ/kZkeSA/sLjoGORKdF+DXVHQK2ZFlGQCA2bNnY8mSJTh79my526OjoxEREVHutoiICFy4cAEmkwmW4KJRo7G/q0XWRSTaEtMA0RHIkdTtAh5yZX2yLQM9evTAwIED8eabb5a7XZKkO44sqI1rOXUM87L4OolE+CouDAaPMNExyFHU7SI6gSzJtgwAwEcffYQNGzZg//79Zbe1aNECe/fuLbfc/v370aRJE6hUKottO6IhL7dLjkGSFNjhxusVkIVwvoAQsi4D4eHhePzxxzFv3ryy2/7973/j77//xnvvvYeYmBgsWbIEX331FaZNm2bRbT/Q0IcjYeQw3o1vB8mJ58+g+6TSAnXai04hS7IuAwDw3nvvldsN0L59e6xevRqrVq1Cq1at8M4772DmzJmYOHGiRbfr6aJBiyCempgcQ0KRFpcCB4uOQfYuuC2g5mXeRVBItbFDnKrkw03R+H73ZdExiCxisF8avsl9WXQMsmcRrwD9Z4pOIUuyHxkQqVtDH9ERiCxmc6ovcvw7iY5B9oxnHhSGZUCgzvW94aTixAFyHL+oBomOQHZLwTMPCsQyIJCLRo22PBshOZBPY5vApA8UHYPsUUBLwMVbdArZYhkQrBsPMSQHUmhS4aA3DzOkGmjOx41ILAOC9W7mLzoCkUXNTOwMSekkOgbZmxYsAyKxDAjWJsQDQR7OomMQWcy5PBckBPUXHYPsiW8TwL+56BSyxjIgmEKhwMCW3MdKjmV+QR/REciecBeBcCwDNoBlgBzNisRgFPq0FB2D7AV3EQjHMmADOtf3ho9eIzoGkUVt1A4VHYHsgVcYENRGdArZYxmwASqlAv2aB4iOQWRR78W1gtnZU3QMsnXcRWATWAZsxKBW3FVAjiXboMYpv+GiY5Cta/GQ6AQElgGbEdHIF25ategYRBb1YWoEJAVfZqgS7nWAOh1EpyCwDNgMjVqJPs15zgFyLAez3JEe2EN0DLJVzYeD13K3DSwDNuThtnVERyCyuEXGAaIjkK3iLgKbwTJgQ3o08UOgO09ARI5lfnwoDB4NRMcgW6P351UKbQjLgA1RKRUY1Z6jA+RYJEmB7W7DRMcgW9N8GKDkW5Ct4G/Cxjzasa7oCEQWNzO+HSQnvegYZEvaPiE6Ad2CZcDG1PfVo1OYl+gYRBaVUKTFxcDBomOQrQhuD4TwKAJbwjJggzg6QI5oTlZP0RHIVnSeIjoB3YZlwAYNax0EvUYlOgaRRW1J9UFOQGfRMUg0F1+g1SjRKeg2LAM2yEWjxtDWQaJjEFncagV3FchehwmAWis6Bd2GZcBGPdapnugIRBb3SWxjmPQ89bZsKVRAx0miU1AFWAZsVIdQL7Sp6yk6BpFFFZuVOOjNC9PIVrMhgAcPn7ZFLAM2bPKD9UVHILK4Gde7QFLxkt2yxImDNotlwIYNCQ9CHU+d6BhEFhWTr0NCUH/RMcja/FsA9XmdClvFMmDDVEoFno4IEx2DyOK+zu8tOgJZW6fJohPQXbAM2LjHOtXlpY3J4axMDEahbyvRMchatB5Am7GiU9BdsAzYODdnJ4ztzJMQkePZoB0qOgJZS9vxgIano7ZlLAN2YGJEfaiVvOY3OZYPYlvC7MxTbzs+BdD5WdEh6B5YBuxAHU8dBofzJETkWLINapzy49UMHV7TwYBPQ9Ep6B5YBuzEi70aQsHBAXIwH6RGQFLwZchxKYBe/xEdgqqAz0I70TzIHUM4OkAO5lCWO9ICeQEjh9V8OBDUWnQKqgKWATvyz35NoOLcAXIwiww854BDUiiB3m+KTkFVxDJgRxr5u+KhtsGiYxBZ1DcJoSjxbCA6Bllay5GAf3PRKaiKWAbszKt9m8BJxdEBchySpMB21+GiY5AlKVScK2BnWAbsTD0fF4zuwPMOkGN5N74dJCceh+4wWo8BfBuLTkHVwDJgh17u2wgaNX915DgSizS4EDhEdAyyBJWWcwXsEN9R7FCQhw7jO9cTHYPIoj7N5FEFDqHzs4AnX5/sDcuAnfpHn0a8ZgE5lL/SvJEd0EV0DLofzp5Aj2miU1ANsAzYKV9XLV7px31y5Fh+VgwSHYHuR49pgI6nmLZHLAN2bEK3MDTydxUdg8hi5sQ2hsmVh8/aJc96QOcpolNQDbEM2DEnlRLTh7cQHYPIYorNSkR68TBDu9TnbUCtFZ2CaohlwM51b+yHAS0CRMcgspiZ1ztDUmlEx6DqqNcNCH9UdAq6DywDDuDtYS2g5aGG5CBi8nWID+Ipiu2GSguM+BK8kpp94zuIA6jr7YIpPXg6V3IcX+f3ER2BqqrnazzBkANgGXAQL/ZqhGAPZ9ExiCxiVWIQCnzDRcegewkIByJeFZ2CLIBlwEHoNCpMH9FSdAwii9mgGSo6At2NQgU8NA9Q8XwnjoBlwIEMbBmIYa2DRMcgsoj3Y1vArPMWHYMq88CLQHA70SnIQlgGHMzMh1rB15Uzscn+5RrVOOk7THQMqohXfaD3W6JTkAWxDDgYb70G7z/cSnQMIot4PyUCkoIvUzZn+FzASSc6BVkQn2UOaFCrIAzl7gJyAFHZbkgL6iU6Bt2q3ZNAA15UytGwDDio9x5qBR89dxeQ/Vto6Cc6At3gGggMeF90CqoFLAMOyluvwcyHuLuA7N+38aEo8WwoOgYBwJBPAJ2n6BRUC1gGHNjQ1kEYGs7dBWTfJEmBv115vQLhmg8HWowQnYJqCcuAg3v/4VYIdOfJiMi+vRvXFpJGLzqGfLkGAEM/E52CahHLgIPz0mvwxdi2UPK04WTHkoo1iAkYIjqGPCnVwKOLAVd/0UmoFrEMyEDXBj74Rx+eO5zs26eZnMEuRN/pQGg30SmolrEMyMQrfRujcxjP5kb2a2uaN7IDuoiOIS/NRwARL4tOQVbAMiATKqUC88a349kJya6twmDREeTDpxHw0NeiU5CVsAzISIC7M+aObcf5A2S3Po1rDKNbHdExHJ+TCzDmJ8DZXXQSshKWAZmJaOSLV/o2ER2DqEYMZgUiPXmYYa0bPhcIaCE6BVkRy4AMvdSnEXo19RMdg6hGZl7vBEnF3V21ptNkoPUY0SnIylgGZEipVGDeuHZo7O8qOgpRtV3I1yEuaIDoGI6pTkdg4CzRKUgAlgGZcnN2woIJneDN6xeQHfoqr4/oCI7HxQcYswRQ8zVBjlgGZKyejwu+faIDNCo+DMi+rE4KRIFva9ExHIdCCTzyI+ARIjoJCcJ3AZnrXN8b74/kBY3I/vyuGSo6guPo/RbQkKMtcsYyQBjTsS6m9GggOgZRtXwQ2xxmnY/oGPav07NAj2miU5BgLAMEAHhjUDP0a85zj5P9yDWqcdx3mOgY9q3VI8Dgj0WnIBvAMkAASo8wmDu2HVoE8SQjZD/eT+kGScGXsRpp2BcY+R2g5P1HLAN0C71WjaWTOqO+Ly8VS/bhaLYbUoN6iY5hf0I6AY/9BKicRCchG8EyQOX4umqxbHIXBHs4i45CVCULS/qLjmBf/JoB41cDGpZ+uollgO5Qx1OHnyZ3gQ/PQUB24LuEeijxbCQ6hn3wqAc8uQ5w4RVMqTyWAapQQz9XLHmmM9yc1aKjEN2VJCmwzZUTCe/JxRd4aj3gHiw6CdkglgGqVKs6Hlg4sRN0TirRUYjuakZcO0ganl67Uho34IlfAZ+GopOQjWIZoLvqFOaNb5/kWQrJtqUUOyEmgCchqpBKC4xbCQS3FZ2EbBhf4emeejbxw5fj2sJJpRAdhahSH2d0Fx3B9ihUwOgFQH3eN3R3LANUJYNaBeG7JztAq+ZDhmzT3+neyA7oKjqG7VA6AaO+B5oPF52E7ABf2anK+jQLwMKJneCi4RwCsk0rMUh0BNvgpAfGrwLCR4tOQnZCIUmSJDoE2Zeoqxl4evFh5BYZRUchKsdJKSHa5zWocxNERxFH5w08/gsQ0lF0ErIjHBmgausY5o0Vk7vCy4VnLyPbYjArsN9zhOgY4riHAM9sYRGgamMZoBoJD/HAqikPwM9NKzoKUTnvJnSEpJLh49K3CTDpT8CvqegkZIdYBqjGmga6YfVzD6COp050FKIylwp0iA0aKDqGddXpADzzJ+ARIjoJ2SmWAbov9X31WPdiN4TX8RAdhajMV3m9REewnga9gad+5ymG6b6wDNB983d3xurnHkD/FgGioxABAH5JCkSBbxvRMWpfy1GlFx3S8uyLdH9YBsgidBoVvnuiAyY/WF90FCIAwHrNENERalenZ4FHFgBqXlCM7h8PLSSLW3bgGqb/fgYmMx9aJI5ebcIpt1ehLEwXHcXyev0H6PWG6BTkQDgyQBb3RNdQLJjQEa5aXvGQxMk3qnDM18HOvqd1B8YsZREgi+PIANWac0k5mLQ4CglZhaKjkEy198jDryUvQCGZREe5f/4tgDE/Ab6NRCchB8SRAao1zQLd8cdLD6JHEz/RUUimjma7IiWot+gY96/1WGDy3ywCVGtYBqhWeek1WDyxE/7VvwmUvOghCbCgpK/oCDWn0gLDPgdGfQdoXESnIQfG3QRkNXsvpOGVVceQnl8iOgrJTEzgO9BkXRQdo3o86wGPLgHqtBedhGSAIwNkNQ829sXGl7ujY6iX6CgkM3+52tlEwsYDgCm7WATIajgyQFZnNJkxe8s5/LDniugoJBP+WgMOaqdCUZInOsrdKZRArzeBHtMABferkfWwDJAwf55Jwn/WnkIGdxuQFWxp/Buaxf0sOkblXHyBR34EGjrAhEeyOywDJFRqbjHeXHcKW88mi45CDq6PTyYW5k8VHaNioRHAqB8Ajzqik5BMsQyQTVhzJB7vbjiD3CKj6CjkwI6HzYNnUqToGDdp3YF+M4COz3C3AAnFCYRkE0Z3CMFf/+yB7o19RUchB7ZCGiQ6wk1NhwJTDwKdJrEIkHAcGSCb89OBa5i1KRoFJQ5w1jiyKU5KCdE+r0GdmyAuhN4fGPIx0HKkuAxEt+HIANmcJ7uGYssrPdClPq/PTpZlMCuwz3OEuADtngD+cYhFgGwORwbIpq09Go8PN51DWl6x6CjkIBq4FOFvxQtQmKz4mPKqDwz/AmjQy3rbJKoGlgGyeTlFBnz2Vwx+OnCNl0Umi9jZaBXC4n+v/Q0pVMADLwK93wKcdLW/PaIaYhkguxGdmIO3159G1LVM0VHIzj0SkIw52f+s3Y0EhgMjvgKC29budogsgGWA7IokSfj1aAI+2hyNtDyerIhq7kzIbOjTTlh+xTpvoPu/gS7PAyq15ddPVAtYBsgu5RQZ8PnWGCw/EIsSk1l0HLJDH9Y/hfGJsyy3Qo0r8MBU4IF/AM7ullsvkRWwDJBdi00vwKd/nceGk9fBRzJVh15twim3f0JZmHZ/K1JpgU6Tge7/AvQ8TwbZJ5YBcginE7Ixe8s57Llwny/sJCu/Nt6KDnGLavbNChXQdjzQ6w3AI8SywYisjGWAHMqBy+mY89d5HL7KSYZ0b23d87DO8AIUUnVOcKUAWjwE9Pkv4Nu41rIRWRPLADmknedT8PnWGJyIzxYdhWzcgQaLEHh9a9UWbtgX6PsOjxAgh8MyQA5t38U0fLvrEncfUKUmh8Thv2mv332hkM5Av+lA2IPWCUVkZSwDJAtnr+fg+92X8MfJRBh54iK6TUzQdGgyL9x2qwJo3B/o+iLQsLeQXETWwjJAspKQVYgf91zGz4fjeCEkKjOvYRSGJ3xW+omTHmg7DujyAuDbSGwwIithGSBZyi4w4KcDV7E08hpScnndA7nz0xhwwH8WVG3HAR0mADov0ZGIrIplgGTNZJaw/VwKVh2Kxc6YVF77QGYUCuDBRr54vEso+rcIgEqpEB2JSAiWAaL/ScouwuqoOPx8OA4JWYWi41At8tZr8Ej7OhjfJRT1ffWi4xAJxzJAdBuzWcKei2lYdSgW26KTYTDxKeIIdE4q9GsRgJHtgtGjsR/UKqXoSEQ2g2WA6C7S8oqx+XQSNp1MxKGrGdyNYGdUSgW6NfTBw23rYFCrQOi1vHAQUUVYBoiqKC2vGFtOJ2HTqUQcvMJiYMvC63jg4XZ1MLxNEPzdnEXHIbJ5LANENZCeV4wtZ0qLwYHLLAaiadVKdGvogz7NA9C3mT+CPXWiIxHZFZYBovuUmV+CfZfSsCcmDXsvpnHyoZUEeTijdzN/9Gnqj4hGvtBpVKIjEdktlgEiC7uUmoe9F9Kw50IqDlzOQF6xUXQkh+CiUaFdPU880MAHvZv5o2Wwh+hIRA6DZYCoFhlMZhyLzcK+i2k4FpeFE3FZyC40iI5lF3z0GnQM80KnMG90CvNGy2B3HgFAVEtYBois7EpaPo7HZeJ4bBaOx2cj+noOSkxm0bGEclIp0MDXFS3ruKNzmDc6hnmjkb+r6FhEssEyQCRYidGMs4k5OBmfhQvJebiUWvqRnOOYp0n2c9OiWaAbmge5o1mgG5oFuqORvys0av7VTyQKywCRjcorNuJSys1ycCklH5fT8pCYVYRcG56HoFAAfq5a1PHSIcTLBXU8dajjpUMDXz2aBbrBx1UrOiIR3YZlgMgOFZQYkZJTjOScIiTnFiMlpwgp//s3OacYmQUlyCs2Ir/YiLxi432fRdHZSQlPnQYeOid46Jzg/r9/b3wEuGtL3/i9dAj2dIZWzZn9RPaEZYBIBoqNJhSVmEv/NZhRZDShxGiGSqmASqmAUlH6r0qhgFKJsv+rlAq4Oqv55k7k4FgGiIiIZI4zdoiIiGSOZYCIiEjmWAaIiIhkjmWAiIhI5lgGiIiIZI5lgIiISOZYBoiIiGSOZYCIiEjmWAaIiIhkjmWAiIhI5lgGiIiIZI5lgIiISOZYBoiIiGSOZYCIiEjmWAaIiIhkjmWAiIhI5lgGiIiIZI5lgIiISOZYBoiIiGSOZYCIiEjmWAaIiIhkjmWAiIhI5lgGiIiIZI5lgIiISOZYBoiIiGTu/wGdiIdbkRzfzQAAAABJRU5ErkJggg==",
      "text/plain": [
       "<Figure size 640x480 with 1 Axes>"
      ]
     },
     "metadata": {},
     "output_type": "display_data"
    }
   ],
   "source": [
    "def plot_pie(data, labels):\n",
    "    fig, ax = plt.subplots()\n",
    "    ax.pie(data, labels=labels, autopct='%1.1f%%', startangle=90)\n",
    "    ax.axis('equal')  # Equal aspect ratio ensures that pie is drawn as a circle.\n",
    "    plt.title('Distribution of HighBP in Dataset')\n",
    "\n",
    "data = df['HighBP'].value_counts()\n",
    "labels = [\"No\", \"Yes\"]\n",
    "plot_pie(data, labels)\n",
    "plt.show()             "
   ]
  },
  {
   "cell_type": "code",
   "execution_count": 71,
   "metadata": {},
   "outputs": [
    {
     "data": {
      "image/png": "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",
      "text/plain": [
       "<Figure size 640x480 with 1 Axes>"
      ]
     },
     "metadata": {},
     "output_type": "display_data"
    }
   ],
   "source": [
    "def plot_pie(data, labels):\n",
    "    fig, ax = plt.subplots()\n",
    "    ax.pie(data, labels=labels, autopct='%1.1f%%', startangle=90)\n",
    "    ax.axis('equal')  # Equal aspect ratio ensures that pie is drawn as a circle.\n",
    "    plt.title('Distribution of Diabetes in Dataset')\n",
    "\n",
    "data = df['Diabetes'].value_counts()\n",
    "labels = [\"No\", \"Yes\"]\n",
    "plot_pie(data, labels)\n",
    "plt.show()                   "
   ]
  }
 ],
 "metadata": {
  "kernelspec": {
   "display_name": "Python 3 (ipykernel)",
   "language": "python",
   "name": "python3"
  },
  "language_info": {
   "codemirror_mode": {
    "name": "ipython",
    "version": 3
   },
   "file_extension": ".py",
   "mimetype": "text/x-python",
   "name": "python",
   "nbconvert_exporter": "python",
   "pygments_lexer": "ipython3",
   "version": "3.10.0"
  }
 },
 "nbformat": 4,
 "nbformat_minor": 5
}
