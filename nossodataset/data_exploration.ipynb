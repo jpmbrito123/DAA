{
 "cells": [
  {
   "cell_type": "code",
   "execution_count": 6,
   "id": "175385a9-d329-44ad-8251-54453052f8d5",
   "metadata": {},
   "outputs": [
    {
     "ename": "ModuleNotFoundError",
     "evalue": "No module named 'plotly'",
     "output_type": "error",
     "traceback": [
      "\u001b[1;31m---------------------------------------------------------------------------\u001b[0m",
      "\u001b[1;31mModuleNotFoundError\u001b[0m                       Traceback (most recent call last)",
      "\u001b[1;32mc:\\Users\\joaom\\OneDrive\\Ambiente de Trabalho\\DAA\\DAA\\nossodataset\\data_exploration.ipynb Cell 2\u001b[0m line \u001b[0;36m1\n\u001b[0;32m      <a href='vscode-notebook-cell:/c%3A/Users/joaom/OneDrive/Ambiente%20de%20Trabalho/DAA/DAA/nossodataset/data_exploration.ipynb#W1sZmlsZQ%3D%3D?line=7'>8</a>\u001b[0m \u001b[39mfrom\u001b[39;00m \u001b[39mpandas\u001b[39;00m \u001b[39mimport\u001b[39;00m DatetimeIndex\n\u001b[0;32m      <a href='vscode-notebook-cell:/c%3A/Users/joaom/OneDrive/Ambiente%20de%20Trabalho/DAA/DAA/nossodataset/data_exploration.ipynb#W1sZmlsZQ%3D%3D?line=8'>9</a>\u001b[0m \u001b[39mimport\u001b[39;00m \u001b[39mmatplotlib\u001b[39;00m\u001b[39m.\u001b[39;00m\u001b[39mpyplot\u001b[39;00m \u001b[39mas\u001b[39;00m \u001b[39mplt\u001b[39;00m\n\u001b[1;32m---> <a href='vscode-notebook-cell:/c%3A/Users/joaom/OneDrive/Ambiente%20de%20Trabalho/DAA/DAA/nossodataset/data_exploration.ipynb#W1sZmlsZQ%3D%3D?line=9'>10</a>\u001b[0m \u001b[39mimport\u001b[39;00m \u001b[39mplotly\u001b[39;00m\u001b[39m.\u001b[39;00m\u001b[39mexpress\u001b[39;00m \u001b[39mas\u001b[39;00m \u001b[39mpx\u001b[39;00m\n\u001b[0;32m     <a href='vscode-notebook-cell:/c%3A/Users/joaom/OneDrive/Ambiente%20de%20Trabalho/DAA/DAA/nossodataset/data_exploration.ipynb#W1sZmlsZQ%3D%3D?line=10'>11</a>\u001b[0m \u001b[39mimport\u001b[39;00m \u001b[39mplotly\u001b[39;00m\u001b[39m.\u001b[39;00m\u001b[39mgraph_objects\u001b[39;00m \u001b[39mas\u001b[39;00m \u001b[39mgo\u001b[39;00m\n\u001b[0;32m     <a href='vscode-notebook-cell:/c%3A/Users/joaom/OneDrive/Ambiente%20de%20Trabalho/DAA/DAA/nossodataset/data_exploration.ipynb#W1sZmlsZQ%3D%3D?line=11'>12</a>\u001b[0m \u001b[39mfrom\u001b[39;00m \u001b[39mplotly\u001b[39;00m\u001b[39m.\u001b[39;00m\u001b[39msubplots\u001b[39;00m \u001b[39mimport\u001b[39;00m make_subplots\n",
      "\u001b[1;31mModuleNotFoundError\u001b[0m: No module named 'plotly'"
     ]
    }
   ],
   "source": [
    "import pandas as pd\n",
    "import numpy as np\n",
    "import matplotlib.pyplot as plt\n",
    "import seaborn as sns\n",
    "import time\n",
    "from sklearn.model_selection import train_test_split\n",
    "from sklearn.impute import SimpleImputer\n",
    "from pandas import DatetimeIndex\n",
    "import matplotlib.pyplot as plt\n",
    "import plotly.express as px\n",
    "import plotly.graph_objects as go\n",
    "from plotly.subplots import make_subplots\n",
    "\n",
    "pd.set_option('display.max_columns', 500)\n",
    "\n",
    "%matplotlib inline"
   ]
  },
  {
   "cell_type": "markdown",
   "id": "e5fd4891-555e-4edd-9168-eafd6d1b678d",
   "metadata": {},
   "source": [
    "# Data Loading\n"
   ]
  },
  {
   "cell_type": "code",
   "execution_count": 7,
   "id": "144b51a4-212c-4ee3-8d0d-cf1f8f2cf0a7",
   "metadata": {},
   "outputs": [],
   "source": [
    "df = pd.read_csv('diabetes_data.csv') "
   ]
  },
  {
   "cell_type": "markdown",
   "id": "940a0396-ef3d-40bc-a65e-4a132d8e5fd9",
   "metadata": {},
   "source": [
    "### Data Exploration"
   ]
  },
  {
   "cell_type": "code",
   "execution_count": 8,
   "id": "7f52be28-ef9d-4905-b3e6-f6a241d2237a",
   "metadata": {},
   "outputs": [
    {
     "name": "stdout",
     "output_type": "stream",
     "text": [
      "Este dataset possui  18 colunas e 70692 linhas\n"
     ]
    }
   ],
   "source": [
    "print(\"Este dataset possui  {} colunas e {} linhas\".format(df.shape[1],df.shape[0]))"
   ]
  },
  {
   "cell_type": "code",
   "execution_count": 9,
   "id": "873ca1ab-d7c4-4d1c-a55d-0da69c513438",
   "metadata": {},
   "outputs": [
    {
     "name": "stdout",
     "output_type": "stream",
     "text": [
      "<class 'pandas.core.frame.DataFrame'>\n",
      "RangeIndex: 70692 entries, 0 to 70691\n",
      "Data columns (total 18 columns):\n",
      " #   Column                Non-Null Count  Dtype  \n",
      "---  ------                --------------  -----  \n",
      " 0   Age                   70692 non-null  float64\n",
      " 1   Sex                   70692 non-null  float64\n",
      " 2   HighChol              70692 non-null  float64\n",
      " 3   CholCheck             70692 non-null  float64\n",
      " 4   BMI                   70692 non-null  float64\n",
      " 5   Smoker                70692 non-null  float64\n",
      " 6   HeartDiseaseorAttack  70692 non-null  float64\n",
      " 7   PhysActivity          70692 non-null  float64\n",
      " 8   Fruits                70692 non-null  float64\n",
      " 9   Veggies               70692 non-null  float64\n",
      " 10  HvyAlcoholConsump     70692 non-null  float64\n",
      " 11  GenHlth               70692 non-null  float64\n",
      " 12  MentHlth              70692 non-null  float64\n",
      " 13  PhysHlth              70692 non-null  float64\n",
      " 14  DiffWalk              70692 non-null  float64\n",
      " 15  Stroke                70692 non-null  float64\n",
      " 16  HighBP                70692 non-null  float64\n",
      " 17  Diabetes              70692 non-null  float64\n",
      "dtypes: float64(18)\n",
      "memory usage: 9.7 MB\n"
     ]
    }
   ],
   "source": [
    "df.info()"
   ]
  },
  {
   "cell_type": "code",
   "execution_count": 10,
   "id": "4f1de05b-f930-4b36-a672-3e523d011a4a",
   "metadata": {},
   "outputs": [
    {
     "data": {
      "text/html": [
       "<div>\n",
       "<style scoped>\n",
       "    .dataframe tbody tr th:only-of-type {\n",
       "        vertical-align: middle;\n",
       "    }\n",
       "\n",
       "    .dataframe tbody tr th {\n",
       "        vertical-align: top;\n",
       "    }\n",
       "\n",
       "    .dataframe thead th {\n",
       "        text-align: right;\n",
       "    }\n",
       "</style>\n",
       "<table border=\"1\" class=\"dataframe\">\n",
       "  <thead>\n",
       "    <tr style=\"text-align: right;\">\n",
       "      <th></th>\n",
       "      <th>Age</th>\n",
       "      <th>Sex</th>\n",
       "      <th>HighChol</th>\n",
       "      <th>CholCheck</th>\n",
       "      <th>BMI</th>\n",
       "      <th>Smoker</th>\n",
       "      <th>HeartDiseaseorAttack</th>\n",
       "      <th>PhysActivity</th>\n",
       "      <th>Fruits</th>\n",
       "      <th>Veggies</th>\n",
       "      <th>HvyAlcoholConsump</th>\n",
       "      <th>GenHlth</th>\n",
       "      <th>MentHlth</th>\n",
       "      <th>PhysHlth</th>\n",
       "      <th>DiffWalk</th>\n",
       "      <th>Stroke</th>\n",
       "      <th>HighBP</th>\n",
       "      <th>Diabetes</th>\n",
       "    </tr>\n",
       "  </thead>\n",
       "  <tbody>\n",
       "    <tr>\n",
       "      <th>0</th>\n",
       "      <td>4.0</td>\n",
       "      <td>1.0</td>\n",
       "      <td>0.0</td>\n",
       "      <td>1.0</td>\n",
       "      <td>26.0</td>\n",
       "      <td>0.0</td>\n",
       "      <td>0.0</td>\n",
       "      <td>1.0</td>\n",
       "      <td>0.0</td>\n",
       "      <td>1.0</td>\n",
       "      <td>0.0</td>\n",
       "      <td>3.0</td>\n",
       "      <td>5.0</td>\n",
       "      <td>30.0</td>\n",
       "      <td>0.0</td>\n",
       "      <td>0.0</td>\n",
       "      <td>1.0</td>\n",
       "      <td>0.0</td>\n",
       "    </tr>\n",
       "    <tr>\n",
       "      <th>1</th>\n",
       "      <td>12.0</td>\n",
       "      <td>1.0</td>\n",
       "      <td>1.0</td>\n",
       "      <td>1.0</td>\n",
       "      <td>26.0</td>\n",
       "      <td>1.0</td>\n",
       "      <td>0.0</td>\n",
       "      <td>0.0</td>\n",
       "      <td>1.0</td>\n",
       "      <td>0.0</td>\n",
       "      <td>0.0</td>\n",
       "      <td>3.0</td>\n",
       "      <td>0.0</td>\n",
       "      <td>0.0</td>\n",
       "      <td>0.0</td>\n",
       "      <td>1.0</td>\n",
       "      <td>1.0</td>\n",
       "      <td>0.0</td>\n",
       "    </tr>\n",
       "  </tbody>\n",
       "</table>\n",
       "</div>"
      ],
      "text/plain": [
       "    Age  Sex  HighChol  CholCheck   BMI  Smoker  HeartDiseaseorAttack  \\\n",
       "0   4.0  1.0       0.0        1.0  26.0     0.0                   0.0   \n",
       "1  12.0  1.0       1.0        1.0  26.0     1.0                   0.0   \n",
       "\n",
       "   PhysActivity  Fruits  Veggies  HvyAlcoholConsump  GenHlth  MentHlth  \\\n",
       "0           1.0     0.0      1.0                0.0      3.0       5.0   \n",
       "1           0.0     1.0      0.0                0.0      3.0       0.0   \n",
       "\n",
       "   PhysHlth  DiffWalk  Stroke  HighBP  Diabetes  \n",
       "0      30.0       0.0     0.0     1.0       0.0  \n",
       "1       0.0       0.0     1.0     1.0       0.0  "
      ]
     },
     "execution_count": 10,
     "metadata": {},
     "output_type": "execute_result"
    }
   ],
   "source": [
    "df.head(2)"
   ]
  },
  {
   "cell_type": "code",
   "execution_count": 11,
   "id": "b0f763f6-44f2-4cf4-9feb-a3385e17d51f",
   "metadata": {},
   "outputs": [
    {
     "name": "stdout",
     "output_type": "stream",
     "text": [
      "Diabetes\n",
      "0.0    35346\n",
      "1.0    35346\n",
      "Name: count, dtype: int64\n"
     ]
    }
   ],
   "source": [
    "print(df['Diabetes'].value_counts())\n"
   ]
  },
  {
   "cell_type": "code",
   "execution_count": 12,
   "id": "65fdf800-d4f4-43b5-9323-5d7377a5f519",
   "metadata": {},
   "outputs": [
    {
     "name": "stdout",
     "output_type": "stream",
     "text": [
      "Age: [ 4. 12. 13. 11.  8.  1.  6.  3.  7. 10.  9.  5.  2.]\n",
      "Sex: [1. 0.]\n",
      "HighChol: [0. 1.]\n",
      "CholCheck: [1. 0.]\n",
      "BMI: [26. 28. 29. 18. 31. 32. 27. 24. 21. 58. 30. 20. 22. 38. 40. 25. 36. 47.\n",
      " 19. 37. 41. 23. 34. 35. 42. 17. 33. 44. 15. 52. 69. 56. 45. 39. 92. 53.\n",
      " 98. 50. 46. 79. 48. 16. 63. 72. 54. 49. 68. 43. 84. 73. 76. 55. 51. 75.\n",
      " 57. 60. 12. 77. 82. 67. 71. 61. 14. 81. 59. 86. 13. 87. 65. 95. 89. 62.\n",
      " 64. 66. 85. 70. 83. 80. 78. 74.]\n",
      "Smoker: [0. 1.]\n",
      "HeartDiseaseorAttack: [0. 1.]\n",
      "PhysActivity: [1. 0.]\n",
      "Fruits: [0. 1.]\n",
      "Veggies: [1. 0.]\n",
      "HvyAlcoholConsump: [0. 1.]\n",
      "GenHlth: [3. 1. 2. 4. 5.]\n",
      "MentHlth: [ 5.  0.  7.  3.  4.  2. 30. 20.  1. 15. 10. 25. 14. 28.  6. 29. 26. 12.\n",
      " 16. 22. 13.  8.  9. 21. 18. 17. 27. 24. 23. 11. 19.]\n",
      "PhysHlth: [30.  0. 10.  3.  6.  4. 15.  1.  2. 14.  7. 25. 21. 20.  5.  8. 22. 23.\n",
      " 29. 12. 18. 28. 26. 24. 27. 11. 13. 16. 17.  9. 19.]\n",
      "DiffWalk: [0. 1.]\n",
      "Stroke: [0. 1.]\n",
      "HighBP: [1. 0.]\n",
      "Diabetes: [0. 1.]\n"
     ]
    }
   ],
   "source": [
    "for col in df:\n",
    "    print(f'{col}: {df[col].unique()}')"
   ]
  },
  {
   "cell_type": "code",
   "execution_count": 14,
   "metadata": {},
   "outputs": [
    {
     "ename": "NameError",
     "evalue": "name 'make_subplots' is not defined",
     "output_type": "error",
     "traceback": [
      "\u001b[1;31m---------------------------------------------------------------------------\u001b[0m",
      "\u001b[1;31mNameError\u001b[0m                                 Traceback (most recent call last)",
      "\u001b[1;32mc:\\Users\\joaom\\OneDrive\\Ambiente de Trabalho\\DAA\\DAA\\nossodataset\\data_exploration.ipynb Cell 11\u001b[0m line \u001b[0;36m1\n\u001b[1;32m----> <a href='vscode-notebook-cell:/c%3A/Users/joaom/OneDrive/Ambiente%20de%20Trabalho/DAA/DAA/nossodataset/data_exploration.ipynb#X13sZmlsZQ%3D%3D?line=0'>1</a>\u001b[0m fig \u001b[39m=\u001b[39m make_subplots(\n\u001b[0;32m      <a href='vscode-notebook-cell:/c%3A/Users/joaom/OneDrive/Ambiente%20de%20Trabalho/DAA/DAA/nossodataset/data_exploration.ipynb#X13sZmlsZQ%3D%3D?line=1'>2</a>\u001b[0m     rows\u001b[39m=\u001b[39m\u001b[39m3\u001b[39m, cols\u001b[39m=\u001b[39m\u001b[39m6\u001b[39m, subplot_titles\u001b[39m=\u001b[39m(\u001b[39m\"\u001b[39m\u001b[39mAge\u001b[39m\u001b[39m\"\u001b[39m, \u001b[39m\"\u001b[39m\u001b[39mSex\u001b[39m\u001b[39m\"\u001b[39m,\n\u001b[0;32m      <a href='vscode-notebook-cell:/c%3A/Users/joaom/OneDrive/Ambiente%20de%20Trabalho/DAA/DAA/nossodataset/data_exploration.ipynb#X13sZmlsZQ%3D%3D?line=2'>3</a>\u001b[0m                                     \u001b[39m\"\u001b[39m\u001b[39mHighChol\u001b[39m\u001b[39m\"\u001b[39m,\u001b[39m\"\u001b[39m\u001b[39mCholCheck\u001b[39m\u001b[39m\"\u001b[39m,\n\u001b[0;32m      <a href='vscode-notebook-cell:/c%3A/Users/joaom/OneDrive/Ambiente%20de%20Trabalho/DAA/DAA/nossodataset/data_exploration.ipynb#X13sZmlsZQ%3D%3D?line=3'>4</a>\u001b[0m                                     \u001b[39m\"\u001b[39m\u001b[39mBMI\u001b[39m\u001b[39m\"\u001b[39m, \u001b[39m\"\u001b[39m\u001b[39mSmoker\u001b[39m\u001b[39m\"\u001b[39m,\n\u001b[0;32m      <a href='vscode-notebook-cell:/c%3A/Users/joaom/OneDrive/Ambiente%20de%20Trabalho/DAA/DAA/nossodataset/data_exploration.ipynb#X13sZmlsZQ%3D%3D?line=4'>5</a>\u001b[0m                                     \u001b[39m'\u001b[39m\u001b[39mHeartDiseaseorAttack\u001b[39m\u001b[39m'\u001b[39m, \u001b[39m'\u001b[39m\u001b[39mPhysActivity\u001b[39m\u001b[39m'\u001b[39m,\n\u001b[0;32m      <a href='vscode-notebook-cell:/c%3A/Users/joaom/OneDrive/Ambiente%20de%20Trabalho/DAA/DAA/nossodataset/data_exploration.ipynb#X13sZmlsZQ%3D%3D?line=5'>6</a>\u001b[0m                                     \u001b[39m'\u001b[39m\u001b[39mFruits\u001b[39m\u001b[39m'\u001b[39m,\u001b[39m'\u001b[39m\u001b[39mVeggies\u001b[39m\u001b[39m'\u001b[39m,\n\u001b[0;32m      <a href='vscode-notebook-cell:/c%3A/Users/joaom/OneDrive/Ambiente%20de%20Trabalho/DAA/DAA/nossodataset/data_exploration.ipynb#X13sZmlsZQ%3D%3D?line=6'>7</a>\u001b[0m                                     \u001b[39m'\u001b[39m\u001b[39mHvyAlcoholConsump\u001b[39m\u001b[39m'\u001b[39m, \u001b[39m'\u001b[39m\u001b[39mGenHlth\u001b[39m\u001b[39m'\u001b[39m,\n\u001b[0;32m      <a href='vscode-notebook-cell:/c%3A/Users/joaom/OneDrive/Ambiente%20de%20Trabalho/DAA/DAA/nossodataset/data_exploration.ipynb#X13sZmlsZQ%3D%3D?line=7'>8</a>\u001b[0m                                     \u001b[39m'\u001b[39m\u001b[39mMentHlth\u001b[39m\u001b[39m'\u001b[39m, \u001b[39m'\u001b[39m\u001b[39mPhysHlth\u001b[39m\u001b[39m'\u001b[39m,\n\u001b[0;32m      <a href='vscode-notebook-cell:/c%3A/Users/joaom/OneDrive/Ambiente%20de%20Trabalho/DAA/DAA/nossodataset/data_exploration.ipynb#X13sZmlsZQ%3D%3D?line=8'>9</a>\u001b[0m                                     \u001b[39m'\u001b[39m\u001b[39mDiffWalk\u001b[39m\u001b[39m'\u001b[39m, \u001b[39m'\u001b[39m\u001b[39mStroke\u001b[39m\u001b[39m'\u001b[39m,\n\u001b[0;32m     <a href='vscode-notebook-cell:/c%3A/Users/joaom/OneDrive/Ambiente%20de%20Trabalho/DAA/DAA/nossodataset/data_exploration.ipynb#X13sZmlsZQ%3D%3D?line=9'>10</a>\u001b[0m                                     \u001b[39m'\u001b[39m\u001b[39mHighBP\u001b[39m\u001b[39m'\u001b[39m, \u001b[39m'\u001b[39m\u001b[39mDiabetes\u001b[39m\u001b[39m'\u001b[39m),\n\u001b[0;32m     <a href='vscode-notebook-cell:/c%3A/Users/joaom/OneDrive/Ambiente%20de%20Trabalho/DAA/DAA/nossodataset/data_exploration.ipynb#X13sZmlsZQ%3D%3D?line=10'>11</a>\u001b[0m     specs\u001b[39m=\u001b[39m[[{\u001b[39m\"\u001b[39m\u001b[39mtype\u001b[39m\u001b[39m\"\u001b[39m: \u001b[39m\"\u001b[39m\u001b[39mdomain\u001b[39m\u001b[39m\"\u001b[39m}, {\u001b[39m\"\u001b[39m\u001b[39mtype\u001b[39m\u001b[39m\"\u001b[39m: \u001b[39m\"\u001b[39m\u001b[39mdomain\u001b[39m\u001b[39m\"\u001b[39m},{\u001b[39m\"\u001b[39m\u001b[39mtype\u001b[39m\u001b[39m\"\u001b[39m: \u001b[39m\"\u001b[39m\u001b[39mdomain\u001b[39m\u001b[39m\"\u001b[39m}, {\u001b[39m\"\u001b[39m\u001b[39mtype\u001b[39m\u001b[39m\"\u001b[39m: \u001b[39m\"\u001b[39m\u001b[39mdomain\u001b[39m\u001b[39m\"\u001b[39m},{\u001b[39m\"\u001b[39m\u001b[39mtype\u001b[39m\u001b[39m\"\u001b[39m: \u001b[39m\"\u001b[39m\u001b[39mdomain\u001b[39m\u001b[39m\"\u001b[39m}, {\u001b[39m\"\u001b[39m\u001b[39mtype\u001b[39m\u001b[39m\"\u001b[39m: \u001b[39m\"\u001b[39m\u001b[39mdomain\u001b[39m\u001b[39m\"\u001b[39m}],\n\u001b[0;32m     <a href='vscode-notebook-cell:/c%3A/Users/joaom/OneDrive/Ambiente%20de%20Trabalho/DAA/DAA/nossodataset/data_exploration.ipynb#X13sZmlsZQ%3D%3D?line=11'>12</a>\u001b[0m        [{\u001b[39m\"\u001b[39m\u001b[39mtype\u001b[39m\u001b[39m\"\u001b[39m: \u001b[39m\"\u001b[39m\u001b[39mdomain\u001b[39m\u001b[39m\"\u001b[39m}, {\u001b[39m\"\u001b[39m\u001b[39mtype\u001b[39m\u001b[39m\"\u001b[39m: \u001b[39m\"\u001b[39m\u001b[39mdomain\u001b[39m\u001b[39m\"\u001b[39m},{\u001b[39m\"\u001b[39m\u001b[39mtype\u001b[39m\u001b[39m\"\u001b[39m: \u001b[39m\"\u001b[39m\u001b[39mdomain\u001b[39m\u001b[39m\"\u001b[39m}, {\u001b[39m\"\u001b[39m\u001b[39mtype\u001b[39m\u001b[39m\"\u001b[39m: \u001b[39m\"\u001b[39m\u001b[39mdomain\u001b[39m\u001b[39m\"\u001b[39m},{\u001b[39m\"\u001b[39m\u001b[39mtype\u001b[39m\u001b[39m\"\u001b[39m: \u001b[39m\"\u001b[39m\u001b[39mdomain\u001b[39m\u001b[39m\"\u001b[39m}, {\u001b[39m\"\u001b[39m\u001b[39mtype\u001b[39m\u001b[39m\"\u001b[39m: \u001b[39m\"\u001b[39m\u001b[39mdomain\u001b[39m\u001b[39m\"\u001b[39m}],\n\u001b[0;32m     <a href='vscode-notebook-cell:/c%3A/Users/joaom/OneDrive/Ambiente%20de%20Trabalho/DAA/DAA/nossodataset/data_exploration.ipynb#X13sZmlsZQ%3D%3D?line=12'>13</a>\u001b[0m        [{\u001b[39m\"\u001b[39m\u001b[39mtype\u001b[39m\u001b[39m\"\u001b[39m: \u001b[39m\"\u001b[39m\u001b[39mdomain\u001b[39m\u001b[39m\"\u001b[39m}, {\u001b[39m\"\u001b[39m\u001b[39mtype\u001b[39m\u001b[39m\"\u001b[39m: \u001b[39m\"\u001b[39m\u001b[39mdomain\u001b[39m\u001b[39m\"\u001b[39m},{\u001b[39m\"\u001b[39m\u001b[39mtype\u001b[39m\u001b[39m\"\u001b[39m: \u001b[39m\"\u001b[39m\u001b[39mdomain\u001b[39m\u001b[39m\"\u001b[39m}, {\u001b[39m\"\u001b[39m\u001b[39mtype\u001b[39m\u001b[39m\"\u001b[39m: \u001b[39m\"\u001b[39m\u001b[39mdomain\u001b[39m\u001b[39m\"\u001b[39m},{\u001b[39m\"\u001b[39m\u001b[39mtype\u001b[39m\u001b[39m\"\u001b[39m: \u001b[39m\"\u001b[39m\u001b[39mdomain\u001b[39m\u001b[39m\"\u001b[39m}, {\u001b[39m\"\u001b[39m\u001b[39mtype\u001b[39m\u001b[39m\"\u001b[39m: \u001b[39m\"\u001b[39m\u001b[39mdomain\u001b[39m\u001b[39m\"\u001b[39m}]],\n\u001b[0;32m     <a href='vscode-notebook-cell:/c%3A/Users/joaom/OneDrive/Ambiente%20de%20Trabalho/DAA/DAA/nossodataset/data_exploration.ipynb#X13sZmlsZQ%3D%3D?line=13'>14</a>\u001b[0m )\n\u001b[0;32m     <a href='vscode-notebook-cell:/c%3A/Users/joaom/OneDrive/Ambiente%20de%20Trabalho/DAA/DAA/nossodataset/data_exploration.ipynb#X13sZmlsZQ%3D%3D?line=15'>16</a>\u001b[0m colours \u001b[39m=\u001b[39m [\u001b[39m'\u001b[39m\u001b[39m#FF0000\u001b[39m\u001b[39m'\u001b[39m, \u001b[39m'\u001b[39m\u001b[39m#FFFF00\u001b[39m\u001b[39m'\u001b[39m, \u001b[39m'\u001b[39m\u001b[39m#FFA500\u001b[39m\u001b[39m'\u001b[39m, \u001b[39m'\u001b[39m\u001b[39m#DA70D6\u001b[39m\u001b[39m'\u001b[39m]\n\u001b[0;32m     <a href='vscode-notebook-cell:/c%3A/Users/joaom/OneDrive/Ambiente%20de%20Trabalho/DAA/DAA/nossodataset/data_exploration.ipynb#X13sZmlsZQ%3D%3D?line=17'>18</a>\u001b[0m fig\u001b[39m.\u001b[39madd_trace(go\u001b[39m.\u001b[39mPie(labels\u001b[39m=\u001b[39mnp\u001b[39m.\u001b[39marray(df[\u001b[39m'\u001b[39m\u001b[39mAge\u001b[39m\u001b[39m'\u001b[39m]\u001b[39m.\u001b[39mvalue_counts()\u001b[39m.\u001b[39mindex),\n\u001b[0;32m     <a href='vscode-notebook-cell:/c%3A/Users/joaom/OneDrive/Ambiente%20de%20Trabalho/DAA/DAA/nossodataset/data_exploration.ipynb#X13sZmlsZQ%3D%3D?line=18'>19</a>\u001b[0m                      values\u001b[39m=\u001b[39m[x \u001b[39mfor\u001b[39;00m x \u001b[39min\u001b[39;00m df[\u001b[39m'\u001b[39m\u001b[39mAge\u001b[39m\u001b[39m'\u001b[39m]\u001b[39m.\u001b[39mvalue_counts()], hole\u001b[39m=\u001b[39m\u001b[39m.35\u001b[39m,\n\u001b[0;32m     <a href='vscode-notebook-cell:/c%3A/Users/joaom/OneDrive/Ambiente%20de%20Trabalho/DAA/DAA/nossodataset/data_exploration.ipynb#X13sZmlsZQ%3D%3D?line=19'>20</a>\u001b[0m                      textinfo\u001b[39m=\u001b[39m\u001b[39m'\u001b[39m\u001b[39mlabel+percent\u001b[39m\u001b[39m'\u001b[39m, rotation\u001b[39m=\u001b[39m\u001b[39m-\u001b[39m\u001b[39m45\u001b[39m, marker_colors\u001b[39m=\u001b[39mcolours),\n\u001b[0;32m     <a href='vscode-notebook-cell:/c%3A/Users/joaom/OneDrive/Ambiente%20de%20Trabalho/DAA/DAA/nossodataset/data_exploration.ipynb#X13sZmlsZQ%3D%3D?line=20'>21</a>\u001b[0m               row\u001b[39m=\u001b[39m\u001b[39m1\u001b[39m, col\u001b[39m=\u001b[39m\u001b[39m1\u001b[39m)\n",
      "\u001b[1;31mNameError\u001b[0m: name 'make_subplots' is not defined"
     ]
    }
   ],
   "source": [
    "fig = make_subplots(\n",
    "    rows=3, cols=6, subplot_titles=(\"Age\", \"Sex\",\n",
    "                                    \"HighChol\",\"CholCheck\",\n",
    "                                    \"BMI\", \"Smoker\",\n",
    "                                    'HeartDiseaseorAttack', 'PhysActivity',\n",
    "                                    'Fruits','Veggies',\n",
    "                                    'HvyAlcoholConsump', 'GenHlth',\n",
    "                                    'MentHlth', 'PhysHlth',\n",
    "                                    'DiffWalk', 'Stroke',\n",
    "                                    'HighBP', 'Diabetes'),\n",
    "    specs=[[{\"type\": \"domain\"}, {\"type\": \"domain\"},{\"type\": \"domain\"}, {\"type\": \"domain\"},{\"type\": \"domain\"}, {\"type\": \"domain\"}],\n",
    "       [{\"type\": \"domain\"}, {\"type\": \"domain\"},{\"type\": \"domain\"}, {\"type\": \"domain\"},{\"type\": \"domain\"}, {\"type\": \"domain\"}],\n",
    "       [{\"type\": \"domain\"}, {\"type\": \"domain\"},{\"type\": \"domain\"}, {\"type\": \"domain\"},{\"type\": \"domain\"}, {\"type\": \"domain\"}]],\n",
    ")\n",
    "\n",
    "colours = ['#FF0000', '#FFFF00', '#FFA500', '#DA70D6']\n",
    "\n",
    "fig.add_trace(go.Pie(labels=np.array(df['Age'].value_counts().index),\n",
    "                     values=[x for x in df['Age'].value_counts()], hole=.35,\n",
    "                     textinfo='label+percent', rotation=-45, marker_colors=colours),\n",
    "              row=1, col=1)\n",
    "\n",
    "\n",
    "fig.add_trace(go.Pie(labels=np.array(df['Sex'].value_counts().index),\n",
    "                     values=[x for x in df['Sex'].value_counts()], hole=.35,\n",
    "                     textinfo='label+percent', marker_colors=colours),\n",
    "              row=1, col=2)\n",
    "\n",
    "\n",
    "fig.add_trace(go.Pie(labels=np.array(df['HighChol'].value_counts().index),\n",
    "                     values=[x for x in df['HighChol'].value_counts()], hole=.35,\n",
    "                     textinfo='label+percent', rotation=-45, marker_colors=colours),\n",
    "              row=1, col=3)\n",
    "\n",
    "fig.add_trace(go.Pie(labels=np.array(df['CholCheck'].value_counts().index),\n",
    "                     values=[x for x in df['CholCheck'].value_counts()], hole=.35,\n",
    "                     textinfo='label+percent', rotation=-45, marker_colors=colours),\n",
    "              row=1, col=4)\n",
    "\n",
    "fig.add_trace(go.Pie(labels=np.array(df['BMI'].value_counts().index),\n",
    "                     values=[x for x in df['BMI'].value_counts()], hole=.35,\n",
    "                     textinfo='label+percent', marker_colors=colours),\n",
    "              row=1, col=5)\n",
    "\n",
    "fig.add_trace(go.Pie(labels=np.array(df['Smoker'].value_counts().index),\n",
    "                     values=[x for x in df['Smoker'].value_counts()], hole=.35,\n",
    "                     textinfo='label+percent', marker_colors=colours),\n",
    "              row=1, col=6)\n",
    "\n",
    "fig.add_trace(go.Pie(labels=np.array(df['HeartDiseaseorAttack'].value_counts().index),\n",
    "                     values=[x for x in df['HeartDiseaseorAttack'].value_counts()], hole=.35,\n",
    "                     textinfo='label+percent', rotation=-45, marker_colors=colours),\n",
    "              row=2, col=1)\n",
    "\n",
    "fig.add_trace(go.Pie(labels=np.array(df['PhysActivity'].value_counts().index),\n",
    "                     values=[x for x in df['PhysActivity'].value_counts()], hole=.35,\n",
    "                     textinfo='label+percent', marker_colors=colours),\n",
    "              row=2, col=2)\n",
    "\n",
    "fig.add_trace(go.Pie(labels=np.array(df['Fruits'].value_counts().index),\n",
    "                     values=[x for x in df['Fruits'].value_counts()], hole=.35,\n",
    "                     textinfo='label+percent', rotation=-45, marker_colors=colours),\n",
    "              row=2, col=3)\n",
    "\n",
    "fig.add_trace(go.Pie(labels=np.array(df['Veggies'].value_counts().index),\n",
    "                     values=[x for x in df['Veggies'].value_counts()], hole=.35,\n",
    "                     textinfo='label+percent', marker_colors=colours),\n",
    "              row=2, col=4)\n",
    "\n",
    "fig.add_trace(go.Pie(labels=np.array(df['HvyAlcoholConsump'].value_counts().index),\n",
    "                     values=[x for x in df['HvyAlcoholConsump'].value_counts()], hole=.35,\n",
    "                     textinfo='label+percent', rotation=-45, marker_colors=colours),\n",
    "              row=2, col=5)\n",
    "\n",
    "fig.add_trace(go.Pie(labels=np.array(df['GenHlth'].value_counts().index),\n",
    "                     values=[x for x in df['GenHlth'].value_counts()], hole=.35,\n",
    "                     textinfo='label+percent', rotation=-45, marker_colors=colours),\n",
    "              row=2, col=6)\n",
    "\n",
    "fig.add_trace(go.Pie(labels=np.array(df['MentHlth'].value_counts().index),\n",
    "                     values=[x for x in df['MentHlth'].value_counts()], hole=.35,\n",
    "                     textinfo='label+percent', rotation=-45, marker_colors=colours),\n",
    "              row=3, col=1)\n",
    "\n",
    "fig.add_trace(go.Pie(labels=np.array(df['PhysHlth'].value_counts().index),\n",
    "                     values=[x for x in df['PhysHlth'].value_counts()], hole=.35,\n",
    "                     textinfo='label+percent', rotation=-45, marker_colors=colours),\n",
    "              row=3, col=2)\n",
    "\n",
    "fig.add_trace(go.Pie(labels=np.array(df['DiffWalk'].value_counts().index),\n",
    "                     values=[x for x in df['DiffWalk'].value_counts()], hole=.35,\n",
    "                     textinfo='label+percent', rotation=-45, marker_colors=colours),\n",
    "              row=3, col=3)\n",
    "\n",
    "fig.add_trace(go.Pie(labels=np.array(df['Stroke'].value_counts().index),\n",
    "                     values=[x for x in df['Stroke'].value_counts()], hole=.35,\n",
    "                     textinfo='label+percent', rotation=-45, marker_colors=colours),\n",
    "              row=3, col=4)\n",
    "\n",
    "fig.add_trace(go.Pie(labels=np.array(df['HighBP'].value_counts().index),\n",
    "                     values=[x for x in df['HighBP'].value_counts()], hole=.35,\n",
    "                     textinfo='label+percent', rotation=-45, marker_colors=colours),\n",
    "              row=3, col=5)\n",
    "\n",
    "fig.add_trace(go.Pie(labels=np.array(df['Diabetes'].value_counts().index),\n",
    "                     values=[x for x in df['Diabetes'].value_counts()], hole=.35,\n",
    "                     textinfo='label+percent', rotation=-45, marker_colors=colours),\n",
    "              row=3, col=6)\n",
    "\n",
    "\n",
    "\n",
    "\n",
    "fig.update_layout(height=1500, font=dict(size=15), showlegend=False)\n",
    "\n",
    "fig.show()"
   ]
  },
  {
   "cell_type": "markdown",
   "id": "4a5b452d-d20c-4e76-8a44-0b40f192cbcc",
   "metadata": {},
   "source": [
    "## Null values"
   ]
  },
  {
   "cell_type": "code",
   "execution_count": 15,
   "id": "9b820443-5251-4f42-ac2a-6a7240f7a5ba",
   "metadata": {},
   "outputs": [
    {
     "name": "stdout",
     "output_type": "stream",
     "text": [
      "Age                     0\n",
      "Sex                     0\n",
      "HighChol                0\n",
      "CholCheck               0\n",
      "BMI                     0\n",
      "Smoker                  0\n",
      "HeartDiseaseorAttack    0\n",
      "PhysActivity            0\n",
      "Fruits                  0\n",
      "Veggies                 0\n",
      "HvyAlcoholConsump       0\n",
      "GenHlth                 0\n",
      "MentHlth                0\n",
      "PhysHlth                0\n",
      "DiffWalk                0\n",
      "Stroke                  0\n",
      "HighBP                  0\n",
      "Diabetes                0\n",
      "dtype: int64\n"
     ]
    }
   ],
   "source": [
    "print(df.isna().sum())"
   ]
  },
  {
   "cell_type": "markdown",
   "id": "cb4b4fcd-b4ae-4c19-9366-67bac133bc1e",
   "metadata": {
    "tags": []
   },
   "source": [
    "## Duplicate rows\n"
   ]
  },
  {
   "cell_type": "code",
   "execution_count": 18,
   "id": "42d213da-1eca-450a-a076-1098e2cb295c",
   "metadata": {},
   "outputs": [
    {
     "name": "stdout",
     "output_type": "stream",
     "text": [
      "6672\n"
     ]
    },
    {
     "data": {
      "text/html": [
       "<div>\n",
       "<style scoped>\n",
       "    .dataframe tbody tr th:only-of-type {\n",
       "        vertical-align: middle;\n",
       "    }\n",
       "\n",
       "    .dataframe tbody tr th {\n",
       "        vertical-align: top;\n",
       "    }\n",
       "\n",
       "    .dataframe thead th {\n",
       "        text-align: right;\n",
       "    }\n",
       "</style>\n",
       "<table border=\"1\" class=\"dataframe\">\n",
       "  <thead>\n",
       "    <tr style=\"text-align: right;\">\n",
       "      <th></th>\n",
       "      <th>Age</th>\n",
       "      <th>Sex</th>\n",
       "      <th>HighChol</th>\n",
       "      <th>CholCheck</th>\n",
       "      <th>BMI</th>\n",
       "      <th>Smoker</th>\n",
       "      <th>HeartDiseaseorAttack</th>\n",
       "      <th>PhysActivity</th>\n",
       "      <th>Fruits</th>\n",
       "      <th>Veggies</th>\n",
       "      <th>HvyAlcoholConsump</th>\n",
       "      <th>GenHlth</th>\n",
       "      <th>MentHlth</th>\n",
       "      <th>PhysHlth</th>\n",
       "      <th>DiffWalk</th>\n",
       "      <th>Stroke</th>\n",
       "      <th>HighBP</th>\n",
       "      <th>Diabetes</th>\n",
       "    </tr>\n",
       "  </thead>\n",
       "  <tbody>\n",
       "    <tr>\n",
       "      <th>0</th>\n",
       "      <td>4.0</td>\n",
       "      <td>1.0</td>\n",
       "      <td>0.0</td>\n",
       "      <td>1.0</td>\n",
       "      <td>26.0</td>\n",
       "      <td>0.0</td>\n",
       "      <td>0.0</td>\n",
       "      <td>1.0</td>\n",
       "      <td>0.0</td>\n",
       "      <td>1.0</td>\n",
       "      <td>0.0</td>\n",
       "      <td>3.0</td>\n",
       "      <td>5.0</td>\n",
       "      <td>30.0</td>\n",
       "      <td>0.0</td>\n",
       "      <td>0.0</td>\n",
       "      <td>1.0</td>\n",
       "      <td>0.0</td>\n",
       "    </tr>\n",
       "    <tr>\n",
       "      <th>1</th>\n",
       "      <td>12.0</td>\n",
       "      <td>1.0</td>\n",
       "      <td>1.0</td>\n",
       "      <td>1.0</td>\n",
       "      <td>26.0</td>\n",
       "      <td>1.0</td>\n",
       "      <td>0.0</td>\n",
       "      <td>0.0</td>\n",
       "      <td>1.0</td>\n",
       "      <td>0.0</td>\n",
       "      <td>0.0</td>\n",
       "      <td>3.0</td>\n",
       "      <td>0.0</td>\n",
       "      <td>0.0</td>\n",
       "      <td>0.0</td>\n",
       "      <td>1.0</td>\n",
       "      <td>1.0</td>\n",
       "      <td>0.0</td>\n",
       "    </tr>\n",
       "    <tr>\n",
       "      <th>2</th>\n",
       "      <td>13.0</td>\n",
       "      <td>1.0</td>\n",
       "      <td>0.0</td>\n",
       "      <td>1.0</td>\n",
       "      <td>26.0</td>\n",
       "      <td>0.0</td>\n",
       "      <td>0.0</td>\n",
       "      <td>1.0</td>\n",
       "      <td>1.0</td>\n",
       "      <td>1.0</td>\n",
       "      <td>0.0</td>\n",
       "      <td>1.0</td>\n",
       "      <td>0.0</td>\n",
       "      <td>10.0</td>\n",
       "      <td>0.0</td>\n",
       "      <td>0.0</td>\n",
       "      <td>0.0</td>\n",
       "      <td>0.0</td>\n",
       "    </tr>\n",
       "    <tr>\n",
       "      <th>3</th>\n",
       "      <td>11.0</td>\n",
       "      <td>1.0</td>\n",
       "      <td>1.0</td>\n",
       "      <td>1.0</td>\n",
       "      <td>28.0</td>\n",
       "      <td>1.0</td>\n",
       "      <td>0.0</td>\n",
       "      <td>1.0</td>\n",
       "      <td>1.0</td>\n",
       "      <td>1.0</td>\n",
       "      <td>0.0</td>\n",
       "      <td>3.0</td>\n",
       "      <td>0.0</td>\n",
       "      <td>3.0</td>\n",
       "      <td>0.0</td>\n",
       "      <td>0.0</td>\n",
       "      <td>1.0</td>\n",
       "      <td>0.0</td>\n",
       "    </tr>\n",
       "    <tr>\n",
       "      <th>4</th>\n",
       "      <td>8.0</td>\n",
       "      <td>0.0</td>\n",
       "      <td>0.0</td>\n",
       "      <td>1.0</td>\n",
       "      <td>29.0</td>\n",
       "      <td>1.0</td>\n",
       "      <td>0.0</td>\n",
       "      <td>1.0</td>\n",
       "      <td>1.0</td>\n",
       "      <td>1.0</td>\n",
       "      <td>0.0</td>\n",
       "      <td>2.0</td>\n",
       "      <td>0.0</td>\n",
       "      <td>0.0</td>\n",
       "      <td>0.0</td>\n",
       "      <td>0.0</td>\n",
       "      <td>0.0</td>\n",
       "      <td>0.0</td>\n",
       "    </tr>\n",
       "    <tr>\n",
       "      <th>...</th>\n",
       "      <td>...</td>\n",
       "      <td>...</td>\n",
       "      <td>...</td>\n",
       "      <td>...</td>\n",
       "      <td>...</td>\n",
       "      <td>...</td>\n",
       "      <td>...</td>\n",
       "      <td>...</td>\n",
       "      <td>...</td>\n",
       "      <td>...</td>\n",
       "      <td>...</td>\n",
       "      <td>...</td>\n",
       "      <td>...</td>\n",
       "      <td>...</td>\n",
       "      <td>...</td>\n",
       "      <td>...</td>\n",
       "      <td>...</td>\n",
       "      <td>...</td>\n",
       "    </tr>\n",
       "    <tr>\n",
       "      <th>70687</th>\n",
       "      <td>6.0</td>\n",
       "      <td>0.0</td>\n",
       "      <td>1.0</td>\n",
       "      <td>1.0</td>\n",
       "      <td>37.0</td>\n",
       "      <td>0.0</td>\n",
       "      <td>0.0</td>\n",
       "      <td>0.0</td>\n",
       "      <td>0.0</td>\n",
       "      <td>1.0</td>\n",
       "      <td>0.0</td>\n",
       "      <td>4.0</td>\n",
       "      <td>0.0</td>\n",
       "      <td>0.0</td>\n",
       "      <td>0.0</td>\n",
       "      <td>0.0</td>\n",
       "      <td>0.0</td>\n",
       "      <td>1.0</td>\n",
       "    </tr>\n",
       "    <tr>\n",
       "      <th>70688</th>\n",
       "      <td>10.0</td>\n",
       "      <td>1.0</td>\n",
       "      <td>1.0</td>\n",
       "      <td>1.0</td>\n",
       "      <td>29.0</td>\n",
       "      <td>1.0</td>\n",
       "      <td>1.0</td>\n",
       "      <td>0.0</td>\n",
       "      <td>1.0</td>\n",
       "      <td>1.0</td>\n",
       "      <td>0.0</td>\n",
       "      <td>2.0</td>\n",
       "      <td>0.0</td>\n",
       "      <td>0.0</td>\n",
       "      <td>1.0</td>\n",
       "      <td>0.0</td>\n",
       "      <td>0.0</td>\n",
       "      <td>1.0</td>\n",
       "    </tr>\n",
       "    <tr>\n",
       "      <th>70689</th>\n",
       "      <td>13.0</td>\n",
       "      <td>0.0</td>\n",
       "      <td>1.0</td>\n",
       "      <td>1.0</td>\n",
       "      <td>25.0</td>\n",
       "      <td>0.0</td>\n",
       "      <td>1.0</td>\n",
       "      <td>0.0</td>\n",
       "      <td>1.0</td>\n",
       "      <td>0.0</td>\n",
       "      <td>0.0</td>\n",
       "      <td>5.0</td>\n",
       "      <td>15.0</td>\n",
       "      <td>0.0</td>\n",
       "      <td>1.0</td>\n",
       "      <td>0.0</td>\n",
       "      <td>1.0</td>\n",
       "      <td>1.0</td>\n",
       "    </tr>\n",
       "    <tr>\n",
       "      <th>70690</th>\n",
       "      <td>11.0</td>\n",
       "      <td>0.0</td>\n",
       "      <td>1.0</td>\n",
       "      <td>1.0</td>\n",
       "      <td>18.0</td>\n",
       "      <td>0.0</td>\n",
       "      <td>0.0</td>\n",
       "      <td>0.0</td>\n",
       "      <td>0.0</td>\n",
       "      <td>0.0</td>\n",
       "      <td>0.0</td>\n",
       "      <td>4.0</td>\n",
       "      <td>0.0</td>\n",
       "      <td>0.0</td>\n",
       "      <td>1.0</td>\n",
       "      <td>0.0</td>\n",
       "      <td>1.0</td>\n",
       "      <td>1.0</td>\n",
       "    </tr>\n",
       "    <tr>\n",
       "      <th>70691</th>\n",
       "      <td>9.0</td>\n",
       "      <td>0.0</td>\n",
       "      <td>1.0</td>\n",
       "      <td>1.0</td>\n",
       "      <td>25.0</td>\n",
       "      <td>0.0</td>\n",
       "      <td>1.0</td>\n",
       "      <td>1.0</td>\n",
       "      <td>1.0</td>\n",
       "      <td>0.0</td>\n",
       "      <td>0.0</td>\n",
       "      <td>2.0</td>\n",
       "      <td>0.0</td>\n",
       "      <td>0.0</td>\n",
       "      <td>0.0</td>\n",
       "      <td>0.0</td>\n",
       "      <td>1.0</td>\n",
       "      <td>1.0</td>\n",
       "    </tr>\n",
       "  </tbody>\n",
       "</table>\n",
       "<p>64020 rows × 18 columns</p>\n",
       "</div>"
      ],
      "text/plain": [
       "        Age  Sex  HighChol  CholCheck   BMI  Smoker  HeartDiseaseorAttack  \\\n",
       "0       4.0  1.0       0.0        1.0  26.0     0.0                   0.0   \n",
       "1      12.0  1.0       1.0        1.0  26.0     1.0                   0.0   \n",
       "2      13.0  1.0       0.0        1.0  26.0     0.0                   0.0   \n",
       "3      11.0  1.0       1.0        1.0  28.0     1.0                   0.0   \n",
       "4       8.0  0.0       0.0        1.0  29.0     1.0                   0.0   \n",
       "...     ...  ...       ...        ...   ...     ...                   ...   \n",
       "70687   6.0  0.0       1.0        1.0  37.0     0.0                   0.0   \n",
       "70688  10.0  1.0       1.0        1.0  29.0     1.0                   1.0   \n",
       "70689  13.0  0.0       1.0        1.0  25.0     0.0                   1.0   \n",
       "70690  11.0  0.0       1.0        1.0  18.0     0.0                   0.0   \n",
       "70691   9.0  0.0       1.0        1.0  25.0     0.0                   1.0   \n",
       "\n",
       "       PhysActivity  Fruits  Veggies  HvyAlcoholConsump  GenHlth  MentHlth  \\\n",
       "0               1.0     0.0      1.0                0.0      3.0       5.0   \n",
       "1               0.0     1.0      0.0                0.0      3.0       0.0   \n",
       "2               1.0     1.0      1.0                0.0      1.0       0.0   \n",
       "3               1.0     1.0      1.0                0.0      3.0       0.0   \n",
       "4               1.0     1.0      1.0                0.0      2.0       0.0   \n",
       "...             ...     ...      ...                ...      ...       ...   \n",
       "70687           0.0     0.0      1.0                0.0      4.0       0.0   \n",
       "70688           0.0     1.0      1.0                0.0      2.0       0.0   \n",
       "70689           0.0     1.0      0.0                0.0      5.0      15.0   \n",
       "70690           0.0     0.0      0.0                0.0      4.0       0.0   \n",
       "70691           1.0     1.0      0.0                0.0      2.0       0.0   \n",
       "\n",
       "       PhysHlth  DiffWalk  Stroke  HighBP  Diabetes  \n",
       "0          30.0       0.0     0.0     1.0       0.0  \n",
       "1           0.0       0.0     1.0     1.0       0.0  \n",
       "2          10.0       0.0     0.0     0.0       0.0  \n",
       "3           3.0       0.0     0.0     1.0       0.0  \n",
       "4           0.0       0.0     0.0     0.0       0.0  \n",
       "...         ...       ...     ...     ...       ...  \n",
       "70687       0.0       0.0     0.0     0.0       1.0  \n",
       "70688       0.0       1.0     0.0     0.0       1.0  \n",
       "70689       0.0       1.0     0.0     1.0       1.0  \n",
       "70690       0.0       1.0     0.0     1.0       1.0  \n",
       "70691       0.0       0.0     0.0     1.0       1.0  \n",
       "\n",
       "[64020 rows x 18 columns]"
      ]
     },
     "execution_count": 18,
     "metadata": {},
     "output_type": "execute_result"
    }
   ],
   "source": [
    "\n",
    "print(df.duplicated().sum())\n",
    "df.drop_duplicates()"
   ]
  },
  {
   "cell_type": "markdown",
   "metadata": {},
   "source": [
    "## Binning"
   ]
  },
  {
   "cell_type": "code",
   "execution_count": 33,
   "metadata": {},
   "outputs": [],
   "source": [
    "def hist_plots(df):\n",
    "    plt.figure(figsize=(10,4))\n",
    "    plt.hist(df)\n",
    "    plt.title(\"Histogram Plot\")\n",
    "    plt.show()"
   ]
  },
  {
   "cell_type": "code",
   "execution_count": 34,
   "metadata": {},
   "outputs": [
    {
     "data": {
      "image/png": "[encoded data removed]",
      "text/plain": [
       "<Figure size 1000x400 with 1 Axes>"
      ]
     },
     "metadata": {},
     "output_type": "display_data"
    }
   ],
   "source": [
    "hist_plots(df['Age'])"
   ]
  },
  {
   "cell_type": "code",
   "execution_count": 35,
   "metadata": {},
   "outputs": [
    {
     "name": "stderr",
     "output_type": "stream",
     "text": [
      "c:\\Users\\Utilizador\\miniconda3\\envs\\envNAME\\lib\\site-packages\\seaborn\\_oldcore.py:1498: FutureWarning:\n",
      "\n",
      "is_categorical_dtype is deprecated and will be removed in a future version. Use isinstance(dtype, CategoricalDtype) instead\n",
      "\n"
     ]
    },
    {
     "data": {
      "image/png": "[encoded data removed]",
      "text/plain": [
       "<Figure size 640x480 with 1 Axes>"
      ]
     },
     "metadata": {},
     "output_type": "display_data"
    },
    {
     "data": {
      "image/png": "[encoded data removed]",
      "text/plain": [
       "<Figure size 1000x400 with 1 Axes>"
      ]
     },
     "metadata": {},
     "output_type": "display_data"
    }
   ],
   "source": [
    "sns.boxplot(x=df['BMI'])\n",
    "hist_plots(df['BMI'])"
   ]
  },
  {
   "cell_type": "code",
   "execution_count": 36,
   "metadata": {},
   "outputs": [
    {
     "name": "stderr",
     "output_type": "stream",
     "text": [
      "c:\\Users\\Utilizador\\miniconda3\\envs\\envNAME\\lib\\site-packages\\seaborn\\_oldcore.py:1498: FutureWarning:\n",
      "\n",
      "is_categorical_dtype is deprecated and will be removed in a future version. Use isinstance(dtype, CategoricalDtype) instead\n",
      "\n",
      "c:\\Users\\Utilizador\\miniconda3\\envs\\envNAME\\lib\\site-packages\\seaborn\\_oldcore.py:1498: FutureWarning:\n",
      "\n",
      "is_categorical_dtype is deprecated and will be removed in a future version. Use isinstance(dtype, CategoricalDtype) instead\n",
      "\n",
      "c:\\Users\\Utilizador\\miniconda3\\envs\\envNAME\\lib\\site-packages\\seaborn\\_oldcore.py:1498: FutureWarning:\n",
      "\n",
      "is_categorical_dtype is deprecated and will be removed in a future version. Use isinstance(dtype, CategoricalDtype) instead\n",
      "\n"
     ]
    },
    {
     "data": {
      "text/plain": [
       "<Axes: xlabel='GenHlth', ylabel='count'>"
      ]
     },
     "execution_count": 36,
     "metadata": {},
     "output_type": "execute_result"
    },
    {
     "data": {
      "image/png": "[encoded data removed]",
      "text/plain": [
       "<Figure size 640x480 with 1 Axes>"
      ]
     },
     "metadata": {},
     "output_type": "display_data"
    }
   ],
   "source": [
    "sns.countplot(x=df['GenHlth'])"
   ]
  },
  {
   "cell_type": "code",
   "execution_count": 38,
   "metadata": {},
   "outputs": [
    {
     "data": {
      "image/png": "[encoded data removed]",
      "text/plain": [
       "<Figure size 1000x400 with 1 Axes>"
      ]
     },
     "metadata": {},
     "output_type": "display_data"
    }
   ],
   "source": [
    "#sns.countplot(x=df['MentHlth'])\n",
    "hist_plots(df['MentHlth'])"
   ]
  },
  {
   "cell_type": "code",
   "execution_count": 39,
   "metadata": {},
   "outputs": [
    {
     "data": {
      "image/png": "[encoded data removed]",
      "text/plain": [
       "<Figure size 1000x400 with 1 Axes>"
      ]
     },
     "metadata": {},
     "output_type": "display_data"
    }
   ],
   "source": [
    "hist_plots(df['PhysHlth'])"
   ]
  },
  {
   "cell_type": "code",
   "execution_count": 65,
   "metadata": {},
   "outputs": [
    {
     "data": {
      "image/png": "[encoded data removed]",
      "text/plain": [
       "<Figure size 640x480 with 1 Axes>"
      ]
     },
     "metadata": {},
     "output_type": "display_data"
    }
   ],
   "source": [
    "def plot_pie(data, labels):\n",
    "    fig, ax = plt.subplots()\n",
    "    ax.pie(data, labels=labels, autopct='%1.1f%%', startangle=90)\n",
    "    ax.axis('equal')  # Equal aspect ratio ensures that pie is drawn as a circle.\n",
    "    plt.title('Distribution of Stroke in Dataset')\n",
    "\n",
    "data = df['Stroke'].value_counts()\n",
    "labels = [\"No\", \"Yes\"]\n",
    "plot_pie(data, labels)\n",
    "plt.show()"
   ]
  },
  {
   "cell_type": "code",
   "execution_count": 67,
   "metadata": {},
   "outputs": [
    {
     "data": {
      "image/png": "[encoded data removed]",
      "text/plain": [
       "<Figure size 640x480 with 1 Axes>"
      ]
     },
     "metadata": {},
     "output_type": "display_data"
    }
   ],
   "source": [
    "def plot_pie(data, labels):\n",
    "    fig, ax = plt.subplots()\n",
    "    ax.pie(data, labels=labels, autopct='%1.1f%%', startangle=90)\n",
    "    ax.axis('equal')  # Equal aspect ratio ensures that pie is drawn as a circle.\n",
    "    plt.title('Distribution of HighBP in Dataset')\n",
    "\n",
    "data = df['HighBP'].value_counts()\n",
    "labels = [\"No\", \"Yes\"]\n",
    "plot_pie(data, labels)\n",
    "plt.show()             "
   ]
  },
  {
   "cell_type": "code",
   "execution_count": 68,
   "metadata": {},
   "outputs": [
    {
     "data": {
      "image/png": "[encoded data removed]",
      "text/plain": [
       "<Figure size 640x480 with 1 Axes>"
      ]
     },
     "metadata": {},
     "output_type": "display_data"
    }
   ],
   "source": [
    "def plot_pie(data, labels):\n",
    "    fig, ax = plt.subplots()\n",
    "    ax.pie(data, labels=labels, autopct='%1.1f%%', startangle=90)\n",
    "    ax.axis('equal')  # Equal aspect ratio ensures that pie is drawn as a circle.\n",
    "    plt.title('Distribution of Diabetes in Dataset')\n",
    "\n",
    "data = df['Diabetes'].value_counts()\n",
    "labels = [\"No\", \"Yes\"]\n",
    "plot_pie(data, labels)\n",
    "plt.show()                   "
   ]
  }
 ],
 "metadata": {
  "kernelspec": {
   "display_name": "Python 3 (ipykernel)",
   "language": "python",
   "name": "python3"
  },
  "language_info": {
   "codemirror_mode": {
    "name": "ipython",
    "version": 3
   },
   "file_extension": ".py",
   "mimetype": "text/x-python",
   "name": "python",
   "nbconvert_exporter": "python",
   "pygments_lexer": "ipython3",
   "version": "3.10.0"
  }
 },
 "nbformat": 4,
 "nbformat_minor": 5
}
